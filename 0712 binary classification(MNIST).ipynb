{
 "cells": [
  {
   "cell_type": "markdown",
   "metadata": {},
   "source": [
    "# MNIST 자료를 이용한 이진분류 예제"
   ]
  },
  {
   "cell_type": "code",
   "execution_count": 1,
   "metadata": {},
   "outputs": [],
   "source": [
    "# 일부만 할당된 GPU 메모리를 실행하는 동안 필요한만큼 늘릴 수 있도록 설정함\n",
    "import tensorflow as tf\n",
    "\n",
    "config = tf.ConfigProto()\n",
    "config.gpu_options.allow_growth = True\n",
    "session = tf.Session(config=config)"
   ]
  },
  {
   "cell_type": "code",
   "execution_count": 2,
   "metadata": {},
   "outputs": [],
   "source": [
    "# 모델 학습 시 불필요한 출력을 끄도록 함 (waning)\n",
    "\n",
    "tf.logging.set_verbosity(tf.logging.ERROR)"
   ]
  },
  {
   "cell_type": "code",
   "execution_count": 3,
   "metadata": {},
   "outputs": [],
   "source": [
    "import numpy as np\n",
    "\n",
    "np.random.seed(777)"
   ]
  },
  {
   "cell_type": "markdown",
   "metadata": {},
   "source": [
    "## 1. 데이터 준비"
   ]
  },
  {
   "cell_type": "code",
   "execution_count": 4,
   "metadata": {},
   "outputs": [
    {
     "name": "stdout",
     "output_type": "stream",
     "text": [
      "Downloading data from https://storage.googleapis.com/tensorflow/tf-keras-datasets/mnist.npz\n",
      "11493376/11490434 [==============================] - 2s 0us/step\n"
     ]
    }
   ],
   "source": [
    "from tensorflow.keras.datasets import mnist\n",
    "\n",
    "(X_train, y_train), (X_test, y_test) = mnist.load_data()"
   ]
  },
  {
   "cell_type": "code",
   "execution_count": 5,
   "metadata": {},
   "outputs": [
    {
     "data": {
      "text/plain": [
       "(60000, 28, 28)"
      ]
     },
     "execution_count": 5,
     "metadata": {},
     "output_type": "execute_result"
    }
   ],
   "source": [
    "X_train.shape"
   ]
  },
  {
   "cell_type": "code",
   "execution_count": 10,
   "metadata": {},
   "outputs": [
    {
     "data": {
      "image/png": "[encoded data removed]",
      "text/plain": [
       "<Figure size 432x288 with 1 Axes>"
      ]
     },
     "metadata": {
      "needs_background": "light"
     },
     "output_type": "display_data"
    },
    {
     "name": "stdout",
     "output_type": "stream",
     "text": [
      "label:  9\n"
     ]
    }
   ],
   "source": [
    "import matplotlib.pyplot as plt\n",
    "%matplotlib inline\n",
    "\n",
    "digit = X_train[4]\n",
    "label = y_train[4]\n",
    "\n",
    "plt.imshow(digit, cmap=plt.cm.binary)\n",
    "plt.axis('off')\n",
    "plt.show()\n",
    "print('label: ', label)\n",
    "\n",
    "'''\n",
    "keras의 MNIST 이미지는 scikit-learn 보단 고화질이다...\n",
    "'''"
   ]
  },
  {
   "cell_type": "code",
   "execution_count": 11,
   "metadata": {},
   "outputs": [],
   "source": [
    "y_train_5 = (y_train == 5)\n",
    "y_test_5 = (y_test == 5)"
   ]
  },
  {
   "cell_type": "code",
   "execution_count": 12,
   "metadata": {
    "scrolled": true
   },
   "outputs": [
    {
     "name": "stdout",
     "output_type": "stream",
     "text": [
      "[False False False ... False  True False]\n"
     ]
    }
   ],
   "source": [
    "print(y_test_5)"
   ]
  },
  {
   "cell_type": "markdown",
   "metadata": {},
   "source": [
    "## 2. 데이터 전처리"
   ]
  },
  {
   "cell_type": "code",
   "execution_count": 13,
   "metadata": {},
   "outputs": [],
   "source": [
    "# 흑백 이미지 데이터는 픽셀 하나당 0~255의 숫자값을 가지기 때문에 255로 나눠준다\n",
    "# 이걸 255로 나눠주게 되면, 모든 값들이 0~1 사이로 normalize 된다.\n",
    "\n",
    "X_train = X_train.reshape((60000, 28*28))\n",
    "X_train = X_train.astype('float32') / 255\n",
    "\n",
    "X_test = X_test.reshape((10000, 28*28))\n",
    "X_test = X_test.astype('float32') / 255"
   ]
  },
  {
   "cell_type": "markdown",
   "metadata": {},
   "source": [
    "## 3. 네트워크 정의 + 컴파일"
   ]
  },
  {
   "cell_type": "code",
   "execution_count": 14,
   "metadata": {},
   "outputs": [
    {
     "name": "stdout",
     "output_type": "stream",
     "text": [
      "_________________________________________________________________\n",
      "Layer (type)                 Output Shape              Param #   \n",
      "=================================================================\n",
      "dense_1 (Dense)              (None, 32)                25120     \n",
      "_________________________________________________________________\n",
      "dense_2 (Dense)              (None, 32)                1056      \n",
      "_________________________________________________________________\n",
      "dense_3 (Dense)              (None, 1)                 33        \n",
      "=================================================================\n",
      "Total params: 26,209\n",
      "Trainable params: 26,209\n",
      "Non-trainable params: 0\n",
      "_________________________________________________________________\n"
     ]
    },
    {
     "name": "stderr",
     "output_type": "stream",
     "text": [
      "Using TensorFlow backend.\n"
     ]
    }
   ],
   "source": [
    "from keras.models import Sequential\n",
    "from keras.layers import Dense\n",
    "\n",
    "model = Sequential()\n",
    "\n",
    "model.add(Dense(32, input_shape=(28*28,), activation='relu'))\n",
    "model.add(Dense(32, activation='relu'))\n",
    "model.add(Dense(1, activation='sigmoid'))\n",
    "# model.add(Dense(1, activation='softmax'))\n",
    "\n",
    "model.compile(loss = 'binary_crossentropy', #'mse'\n",
    "             optimizer = 'sgd',\n",
    "             metrics = ['accuracy'])\n",
    "\n",
    "model.summary()"
   ]
  },
  {
   "cell_type": "code",
   "execution_count": 31,
   "metadata": {},
   "outputs": [
    {
     "name": "stdout",
     "output_type": "stream",
     "text": [
      "dense_1 <class 'keras.layers.core.Dense'> (None, 32) relu 25120\n",
      "dense_2 <class 'keras.layers.core.Dense'> (None, 32) relu 1056\n"
     ]
    }
   ],
   "source": [
    "# 이 부분 이해가 잘 안가니까 레이어 별로 속성을 뽑아보자\n",
    "\n",
    "l1 = model.layers[0]\n",
    "l2 = model.layers[1]\n",
    "\n",
    "print(l1.name, type(l1), l1.output_shape, l1.activation.__name__, l1.count_params())\n",
    "print(l2.name, type(l1), l2.output_shape, l2.activation.__name__, l2.count_params())"
   ]
  },
  {
   "cell_type": "markdown",
   "metadata": {},
   "source": [
    "## 4. 모델 학습"
   ]
  },
  {
   "cell_type": "code",
   "execution_count": 15,
   "metadata": {},
   "outputs": [
    {
     "name": "stdout",
     "output_type": "stream",
     "text": [
      "Epoch 1/1\n",
      "60000/60000 [==============================] - 2s 39us/step - loss: 0.1676 - acc: 0.9404\n"
     ]
    }
   ],
   "source": [
    "hist = model.fit(X_train, y_train_5, epochs=1)"
   ]
  },
  {
   "cell_type": "code",
   "execution_count": 16,
   "metadata": {},
   "outputs": [
    {
     "name": "stdout",
     "output_type": "stream",
     "text": [
      "0.10069070021659136\n",
      "0.96795\n"
     ]
    }
   ],
   "source": [
    "loss, acc = model.evaluate(X_train, y_train_5, verbose=0)\n",
    "print(loss)\n",
    "print(acc)"
   ]
  },
  {
   "cell_type": "markdown",
   "metadata": {},
   "source": [
    "## 5. 분류 결과 분석"
   ]
  },
  {
   "cell_type": "markdown",
   "metadata": {},
   "source": [
    "### - 혼동 행렬 (confusion matrix)"
   ]
  },
  {
   "cell_type": "code",
   "execution_count": 17,
   "metadata": {},
   "outputs": [
    {
     "name": "stdout",
     "output_type": "stream",
     "text": [
      "[False False False ... False False False]\n",
      "[False False False ... False  True False]\n"
     ]
    }
   ],
   "source": [
    "from tensorflow.keras.utils import to_categorical\n",
    "\n",
    "y_pred_5 = model.predict(X_test).ravel()\n",
    "y_pred_5 = y_pred_5 > 0.5\n",
    "print(y_pred_5)\n",
    "print(y_test_5)"
   ]
  },
  {
   "cell_type": "code",
   "execution_count": 22,
   "metadata": {},
   "outputs": [
    {
     "name": "stdout",
     "output_type": "stream",
     "text": [
      "[[9056   52]\n",
      " [ 254  638]]\n"
     ]
    }
   ],
   "source": [
    "from sklearn.metrics import confusion_matrix\n",
    "\n",
    "cm = confusion_matrix(y_test_5, y_pred_5) # pred는 value로 전달\n",
    "print(cm)"
   ]
  },
  {
   "cell_type": "code",
   "execution_count": 23,
   "metadata": {
    "scrolled": true
   },
   "outputs": [
    {
     "data": {
      "image/png": "[encoded data removed]",
      "text/plain": [
       "<Figure size 432x288 with 2 Axes>"
      ]
     },
     "metadata": {
      "needs_background": "light"
     },
     "output_type": "display_data"
    }
   ],
   "source": [
    "import pandas as pd\n",
    "import seaborn as sns\n",
    "\n",
    "df_cm = pd.DataFrame(cm)\n",
    "heatmap = sns.heatmap(df_cm, annot=True, fmt='d')"
   ]
  },
  {
   "cell_type": "code",
   "execution_count": 32,
   "metadata": {},
   "outputs": [
    {
     "name": "stdout",
     "output_type": "stream",
     "text": [
      "[[4.4725835e-03]\n",
      " [9.2422158e-02]\n",
      " [1.4822483e-02]\n",
      " ...\n",
      " [1.0689646e-02]\n",
      " [4.1145369e-01]\n",
      " [2.9626489e-04]]\n"
     ]
    }
   ],
   "source": [
    "y_pred_5 = model.predict(X_test)\n",
    "\n",
    "print(y_pred_5)"
   ]
  },
  {
   "cell_type": "code",
   "execution_count": 33,
   "metadata": {},
   "outputs": [
    {
     "name": "stdout",
     "output_type": "stream",
     "text": [
      "[4.4725835e-03 9.2422158e-02 1.4822483e-02 ... 1.0689646e-02 4.1145369e-01\n",
      " 2.9626489e-04]\n",
      "[False False False ... False  True False]\n"
     ]
    }
   ],
   "source": [
    "import numpy as np\n",
    "\n",
    "# y_pred_5 는 다차원 배열이니까, 1차원배열로 다 펴준다\n",
    "y_pred_5 = model.predict(X_test).ravel()\n",
    "\n",
    "print(y_pred_5)\n",
    "print(y_test_5)"
   ]
  },
  {
   "cell_type": "markdown",
   "metadata": {},
   "source": [
    "### - Precision-Recall 커브\n",
    "\n",
    "- Precision Recall Curve 는 .... TP와 PV(predictive value) 사이의 trade-off 관계를 나타내줌\n",
    "- ROC랑은 다른게, PR Curve는 주로 imbalanced 한 데이터셋의 trade-off 관계를 찍어낼 때 적합함\n",
    "\n",
    "> **그래서, MNIST 에서 굳이 Precision/Recall Trade-off 관계를 따지는 이유는?**\n",
    "\n",
    "- 우선 우리가 지금 MNIST 데이터를 분류했던 모델이 SGD 분류모델인데,\n",
    "- SGD모델이 분류결정을 할 땐, 각각의 instance 에 대해 decision function 기반으로 점수를 계산하고\n",
    "    - 만약 score 가 임계값(threshold)보다 높으면 positive class,\n",
    "    - 그렇지 않으면 negative class에 해당함\n",
    "    \n",
    "873952556555 의 손글씨 숫자들이 있다고 가정해보자.    \n",
    "    \n",
    "- 가운데의 5를 decision threshold 로 두고, 오른쪽을 보면 5라는 숫자가 4개다.\n",
    "    - 873952 5 6555 \n",
    "    - 여기서 6은 false positive가 된다.\n",
    "    - 예측은 5로 했는데 5가 아닌 값이 튀어나온다.\n",
    "    - 따라서 이 임계값을 사용하면, Accuracy는 80% 가 된다.\n",
    "        - TP / (FP + TP) = 4 / (1+4)\n",
    "- 근데 실제 5의 갯수는 6개인데 실제 값의 범위에는 5가 4개밖에 안들어있음\n",
    "    - 그래서 recall 은 67% 가 된다.\n",
    "        - TP / (TP + FN) = 4 / (4+2)\n",
    "\n",
    "임계값을 조금 오른쪽으로 움직이면...\n",
    "    - Precision은 100%가 됨.\n",
    "        - TP / (FP + TP) = 3 / (0+3)\n",
    "    - 근데.. recall 은 50%가 된다 (!)\n",
    "        - 3 / (3+3)\n",
    "\n",
    "임계값을 왼쪽으로 움직이면? ->  반대로 된다.\n",
    "\n",
    "SGD 분류기는 threshold 를 기본 0으로 두고 사용한다.\n",
    "    - 이전 predict() 함수 사용 결과와 동일하게 True 값을 뱉어낸다.\n",
    "    - 여기서, threshold 값을 높이면, recall 이 감소하고\n",
    "        - threshold 값을 무진장 높이면 (막 터무늬 없는값.. 예를들면 30만), 아예 탐색을 못한다.\n",
    "        \n",
    "> 그러면 우리가 임계값을 어떻게 결정하는데?\n",
    "\n",
    "    - 아까 위에 코드에서 confusion matrix 를 통해 T/F 불리안 값이 아닌, 연산 가능한 value 로 pred 를 저장해주었으니,\n",
    "    - 이걸 scikit-learn 에서 제공하는 만들어둔 PR Curve 함수로 계산이 가능함.\n",
    "    "
   ]
  },
  {
   "cell_type": "code",
   "execution_count": 25,
   "metadata": {},
   "outputs": [
    {
     "name": "stdout",
     "output_type": "stream",
     "text": [
      "[0.10380542 0.10370112 0.10371319 ... 1.         1.         1.        ]\n",
      "[1.         0.99887892 0.99887892 ... 0.00224215 0.00112108 0.        ]\n",
      "[3.5029650e-04 3.5086274e-04 3.5271049e-04 ... 9.7592741e-01 9.7627449e-01\n",
      " 9.7700107e-01]\n",
      "8549\n",
      "8549\n",
      "8548\n",
      "10000\n"
     ]
    },
    {
     "data": {
      "image/png": "[encoded data removed]",
      "text/plain": [
       "<Figure size 720x360 with 1 Axes>"
      ]
     },
     "metadata": {
      "needs_background": "light"
     },
     "output_type": "display_data"
    }
   ],
   "source": [
    "from sklearn.metrics import precision_recall_curve\n",
    "\n",
    "precisions, recalls, thresholds = precision_recall_curve(y_test_5, y_pred_5) # pred 인자는 score(probability) 값으로 전달\n",
    "print(precisions)\n",
    "print(recalls)\n",
    "print(thresholds)\n",
    "print(len(precisions))\n",
    "print(len(recalls))\n",
    "print(len(thresholds))\n",
    "print(len(y_test_5))\n",
    "\n",
    "plt.figure(figsize=(10,5))\n",
    "plt.title('Precision-Recall curve')\n",
    "plt.plot(thresholds, precisions[:-1], 'b--', label='Precision')\n",
    "plt.plot(thresholds, recalls[:-1], 'r-', label='Recall')\n",
    "plt.xlabel('Threshold')\n",
    "plt.legend()\n",
    "plt.show()"
   ]
  },
  {
   "cell_type": "markdown",
   "metadata": {},
   "source": [
    "### - ROC 커브\n",
    "\n",
    "- 이거는 위에 PR Curve와 유사하긴 한데, precision을 plotting 하는 대신에, FPR 에 대해 TPR을 plotting 하는것에서 차이점이 있음\n",
    "    - 뭐가 trade-off 관계냐 이 차이임 그냥\n",
    "\n",
    "근데 너무 편한게, FPR, TPR 계산을 해야하는데 저 함수 쓰면 계산이 됨 ㅋㅋㅋㅋ"
   ]
  },
  {
   "cell_type": "code",
   "execution_count": 26,
   "metadata": {},
   "outputs": [
    {
     "data": {
      "image/png": "[encoded data removed]",
      "text/plain": [
       "<Figure size 720x360 with 1 Axes>"
      ]
     },
     "metadata": {
      "needs_background": "light"
     },
     "output_type": "display_data"
    }
   ],
   "source": [
    "from sklearn.metrics import roc_curve\n",
    "\n",
    "fpr, tpr, thresholds = roc_curve(y_test_5, y_pred_5)\n",
    "\n",
    "plt.figure(figsize=(10,5))\n",
    "plt.title('ROC curve')\n",
    "plt.plot(fpr, tpr)\n",
    "plt.plot([0,1], [0,1], 'k--')\n",
    "# plt.xlim(0,1)\n",
    "# plt.ylim(0,1)\n",
    "plt.xlabel('False Positive Rate (1 - specificity)')\n",
    "plt.ylabel('True Positive Rate (= sensitivity = recall)')\n",
    "plt.show()"
   ]
  },
  {
   "cell_type": "code",
   "execution_count": 27,
   "metadata": {},
   "outputs": [
    {
     "name": "stdout",
     "output_type": "stream",
     "text": [
      "Epoch 1/1\n",
      "60000/60000 [==============================] - 1s 24us/step - loss: 0.1959 - acc: 0.9263\n"
     ]
    },
    {
     "data": {
      "text/plain": [
       "<keras.callbacks.History at 0x203d56dff98>"
      ]
     },
     "execution_count": 27,
     "metadata": {},
     "output_type": "execute_result"
    }
   ],
   "source": [
    "# MNIST 예제에서는 다층 퍼셉트론은 그다지 적합하지 않다\n",
    "# 그래서 28 * 28 1차원 벡터로 reshape 해서 퍼셉트론을 생성한다.\n",
    "\n",
    "from sklearn.linear_model import Perceptron\n",
    "\n",
    "perceptron = Sequential()\n",
    "perceptron.add(Dense(1, input_shape=(28*28,), activation='sigmoid'))\n",
    "perceptron.compile(optimizer='SGD', loss='binary_crossentropy', metrics=['acc'])\n",
    "perceptron.fit(X_train, y_train_5,\n",
    "              epochs = 1)"
   ]
  },
  {
   "cell_type": "code",
   "execution_count": 28,
   "metadata": {},
   "outputs": [
    {
     "name": "stdout",
     "output_type": "stream",
     "text": [
      "[[0.02809548]\n",
      " [0.13481477]\n",
      " [0.0508669 ]\n",
      " ...\n",
      " [0.03361291]\n",
      " [0.15542743]\n",
      " [0.00223953]]\n"
     ]
    }
   ],
   "source": [
    "y_perceptron = perceptron.predict(X_test)\n",
    "print(y_perceptron)"
   ]
  },
  {
   "cell_type": "code",
   "execution_count": 29,
   "metadata": {},
   "outputs": [
    {
     "data": {
      "image/png": "[encoded data removed]",
      "text/plain": [
       "<Figure size 720x360 with 1 Axes>"
      ]
     },
     "metadata": {
      "needs_background": "light"
     },
     "output_type": "display_data"
    }
   ],
   "source": [
    "from sklearn.metrics import roc_curve\n",
    "\n",
    "fpr1, tpr1, thresholds1 = roc_curve(y_test_5, y_pred_5)\n",
    "fpr2, tpr2, thresholds2 = roc_curve(y_test_5, y_perceptron)\n",
    "\n",
    "plt.figure(figsize=(10,5))\n",
    "plt.title('ROC curve')\n",
    "plt.plot(fpr1, tpr1, label='MLP')\n",
    "plt.plot(fpr2, tpr2, 'r:', label='Perceptron')\n",
    "plt.plot([0,1], [0,1], 'k--')\n",
    "plt.xlabel('False Positive Rate')\n",
    "plt.ylabel('True Positive Rate')\n",
    "plt.legend()\n",
    "plt.show()"
   ]
  },
  {
   "cell_type": "code",
   "execution_count": 30,
   "metadata": {},
   "outputs": [
    {
     "name": "stdout",
     "output_type": "stream",
     "text": [
      "AUC of MLP : 0.9761109092484606\n",
      "AUC of Perceptron : 0.9538754305582635\n"
     ]
    }
   ],
   "source": [
    "from sklearn.metrics import roc_auc_score\n",
    "\n",
    "auc1 = roc_auc_score(y_test_5, y_pred_5)\n",
    "auc2 = roc_auc_score(y_test_5, y_perceptron)\n",
    "print('AUC of MLP :', auc1)\n",
    "print('AUC of Perceptron :', auc2)"
   ]
  }
 ],
 "metadata": {
  "kernelspec": {
   "display_name": "keras2",
   "language": "python",
   "name": "ywkeras"
  },
  "language_info": {
   "codemirror_mode": {
    "name": "ipython",
    "version": 3
   },
   "file_extension": ".py",
   "mimetype": "text/x-python",
   "name": "python",
   "nbconvert_exporter": "python",
   "pygments_lexer": "ipython3",
   "version": "3.7.3"
  },
  "widgets": {
   "state": {},
   "version": "1.1.2"
  }
 },
 "nbformat": 4,
 "nbformat_minor": 2
}
