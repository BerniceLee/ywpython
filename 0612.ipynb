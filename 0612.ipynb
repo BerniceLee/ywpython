{
 "cells": [
  {
   "cell_type": "markdown",
   "metadata": {},
   "source": [
    "### 컨테이너 자료형\n",
    "##### 사전\n",
    "\n",
    "사전이름 = {key1 : value1, key2 : value2, ....}\n",
    "\n",
    "* key : index 역할로 immutable 형만 사용가능\n",
    "    * key 값에서 list,set,dictionary 형은 사용 불가능\n",
    "\n",
    "* key 값을 이용한 indexing 은 가능하나, slicing 은 불가능\n",
    "    * 순서 개념이 없다"
   ]
  },
  {
   "cell_type": "code",
   "execution_count": 4,
   "metadata": {},
   "outputs": [
    {
     "name": "stdout",
     "output_type": "stream",
     "text": [
      "{1: 'A', 10: 'CC'}\n",
      "{'A': 5, 'B': 12}\n",
      "{'list': 'mutable', 'set': 'immutable'}\n",
      "{1: 'A', 10: 'CC'}\n"
     ]
    }
   ],
   "source": [
    "aa={1:\"A\", 10:\"CC\"}\n",
    "bb={\"A\":5, \"B\":12}\n",
    "cc={\"list\":\"mutable\",\"set\":\"immutable\"}\n",
    "dd={1:\"A\", 1:\"A\", 10:\"CC\"} # 동일한 키+값은 하나로 간주된다.\n",
    "print(aa); print(bb); print(cc); print(dd)"
   ]
  },
  {
   "cell_type": "markdown",
   "metadata": {},
   "source": [
    "##### 사전의 데이터 수정\n",
    "\n",
    "key : value\n",
    "* key 값만 단독으로 수정 불가\n",
    "* value 값은 수정 가능"
   ]
  },
  {
   "cell_type": "code",
   "execution_count": 10,
   "metadata": {},
   "outputs": [
    {
     "name": "stdout",
     "output_type": "stream",
     "text": [
      "{'c++': 5, 'R': 15, 'Python': 20}\n",
      "True\n"
     ]
    }
   ],
   "source": [
    "aa={\"c++\":5, \"R\":15, \"Python\":10}\n",
    "aa[\"Python\"]=20 # value 값 수정\n",
    "print(aa)\n",
    "print('R' in aa) # 해당 key 값이 있는지 여부 검사"
   ]
  },
  {
   "cell_type": "markdown",
   "metadata": {},
   "source": [
    "##### 사전에서 사용하는 함수\n",
    "\n",
    "* len(T) : 원소 갯수\n",
    "* max(T) : key 중에서 가장 큰 값\n",
    "* min(T) : key 중에서 가장 작은 값\n",
    "* sum(T) : key 들의 합 (숫자형)\n",
    "* sorted(T) : key 들을 정렬한 리스트를 반환\n",
    "\n",
    "> 집합과 같이 reversed() 는 사용할 수 없음"
   ]
  },
  {
   "cell_type": "code",
   "execution_count": 11,
   "metadata": {},
   "outputs": [
    {
     "data": {
      "text/plain": [
       "['Python', 'R', 'c++']"
      ]
     },
     "execution_count": 11,
     "metadata": {},
     "output_type": "execute_result"
    }
   ],
   "source": [
    "aa={\"c++\":5, \"R\":15, \"Python\":10}\n",
    "sorted(aa)"
   ]
  },
  {
   "cell_type": "markdown",
   "metadata": {},
   "source": [
    "##### 사전에서 사용하는 메소드\n",
    "\n",
    "* clear()\n",
    "* copy()\n",
    "* fromkeys(x) : iterable 한 자료형 x를 key 로 사용하는 새로운 사전 생성\n",
    "* get(k) : key k에 해당하는 값 반환\n",
    "* items() : 사전의 자료들을 (key : value) 의 튜플 형식으로 반환함\n",
    "* key() : 사전의 key 값을 리스트로 반환\n",
    "* pop()\n",
    "* popitem() : 임의의 (key : value) 쌍을 튜플 형식으로 반환 (없으면 KeyError)\n",
    "* setdefault(k) : k가 사전에 있으면 해당 value 반환 / 없으면 새로운 key 로 추가해줌\n",
    "* update() : 사전들을 병합함\n",
    "* value() : 사전 key 들을 리스트로 반환"
   ]
  },
  {
   "cell_type": "code",
   "execution_count": 17,
   "metadata": {},
   "outputs": [
    {
     "name": "stdout",
     "output_type": "stream",
     "text": [
      "1746115847944 1746115847944 1746115742312\n",
      "{5: 'c++', 15: 'R', 10: 'Python', 20: 'Java'} {5: 'c++', 15: 'R', 10: 'Python', 20: 'Java'} {5: 'c++', 15: 'R', 10: 'Python'}\n",
      "1746115847944 1746115847944 1746115742312\n"
     ]
    }
   ],
   "source": [
    "# 대입연산자와 copy() method의 차이\n",
    "\n",
    "aa={5:\"c++\", 15:\"R\", 10:\"Python\"}\n",
    "bb=aa\n",
    "cc=aa.copy()\n",
    "print(id(aa), id(bb), id(cc))\n",
    "# 대입연산자 : 동일한 id 값을 공유함\n",
    "# copy() method : 새로운 id 값을 부여받음 (엄연히 다른 dictionary)\n",
    "\n",
    "bb[20]=\"Java\"\n",
    "print(aa,bb,cc)\n",
    "print(id(aa), id(bb), id(cc))\n",
    "# aa와 bb에만 java 가 추가된걸 볼 수 있음"
   ]
  },
  {
   "cell_type": "code",
   "execution_count": 20,
   "metadata": {},
   "outputs": [
    {
     "data": {
      "text/plain": [
       "({'p': None, 'y': None, 't': None, 'h': None, 'o': None, 'n': None},\n",
       " {'p': 10, 'y': 10, 't': 10, 'h': 10, 'o': 10, 'n': 10})"
      ]
     },
     "execution_count": 20,
     "metadata": {},
     "output_type": "execute_result"
    }
   ],
   "source": [
    "# fromkeys\n",
    "\n",
    "\n",
    "str=\"python\" #iterable 한 값 : key 값은 6개가 생성이 될거임\n",
    "dic1=dict.fromkeys(str) # 사전 생성할때는, dic1.method() 형식이 아니라, dict.method() 처럼 dict 를 그대로 사용하면 된다.\n",
    "dic2=dict.fromkeys(str,10) # 각 key 값 마다 10이라는 value 값을 심어주겠\n",
    "dic1, dic2"
   ]
  },
  {
   "cell_type": "code",
   "execution_count": 27,
   "metadata": {},
   "outputs": [
    {
     "name": "stdout",
     "output_type": "stream",
     "text": [
      "Java\n",
      "None\n",
      "None Not Found\n",
      "Java Java\n",
      "None None\n",
      "None {5: 'c++', 15: 'R', 10: 'Python', 33: 'Java', 11: None}\n",
      "Ruby {5: 'c++', 15: 'R', 10: 'Python', 33: 'Java', 11: None, 1010: 'Ruby'}\n"
     ]
    }
   ],
   "source": [
    "# get, setdefault\n",
    "\n",
    "aa={5:\"c++\", 15:\"R\", 10:\"Python\", 33:\"Java\"}\n",
    "print(aa.get(33))\n",
    "print(aa.get(11)) # 없는 key값을 넣어도 예외처리 해줘서 딱히 error 가 나지 않음\n",
    "print(aa.get(11), \"Not Found\") # key 값이 없는 경우, Not Found 텍스트를 반환해달라\n",
    "\n",
    "print(aa.get(33), aa.setdefault(33))\n",
    "print(aa.get(11), aa.setdefault(11))\n",
    "print(aa.setdefault(11), aa)\n",
    "print(aa.setdefault(1010, \"Ruby\"), aa)"
   ]
  },
  {
   "cell_type": "code",
   "execution_count": 28,
   "metadata": {},
   "outputs": [
    {
     "name": "stdout",
     "output_type": "stream",
     "text": [
      "{15: 'R', 10: 'Python', 33: 'Java'} c++\n"
     ]
    }
   ],
   "source": [
    "# pop\n",
    "\n",
    "aa={5:\"c++\", 15:\"R\", 10:\"Python\", 33:\"Java\"}\n",
    "v=aa.pop(5)\n",
    "print(aa, v) # 삭제된 결과 : c++"
   ]
  },
  {
   "cell_type": "code",
   "execution_count": 29,
   "metadata": {},
   "outputs": [
    {
     "name": "stdout",
     "output_type": "stream",
     "text": [
      "dict_keys([5, 15, 10, 33])\n",
      "dict_values(['c++', 'R', 'Python', 'Java'])\n"
     ]
    }
   ],
   "source": [
    "aa={5:\"c++\", 15:\"R\", 10:\"Python\", 33:\"Java\"}\n",
    "bb={5:\"c++\", 15:\"R\", 10:\"Python\"}\n",
    "cc={33:\"c++\", 1123:\"R\", 25:\"Python\"}\n",
    "print(aa.keys())\n",
    "print(aa.values())"
   ]
  },
  {
   "cell_type": "code",
   "execution_count": 37,
   "metadata": {},
   "outputs": [
    {
     "name": "stdout",
     "output_type": "stream",
     "text": [
      "{0: '서울', 1: '경기', 2: '인천', 3: '세종'} {5: '서울', 15: '경기', 10: '인천'}\n"
     ]
    }
   ],
   "source": [
    "aa=[\"서울\", \"경기\", \"인천\", \"세종\"]\n",
    "bb={5:\"c++\", 15:\"R\", 10:\"Python\"}\n",
    "\n",
    "dic={x:aa[x] for x in range(4)}\n",
    "dic1=dict(zip(bb,aa)) # zip 함수로 쌍을 만들고 dictionary 로 변환함\n",
    "print(dic, dic1)\n",
    "\n",
    "# zip(key, vaule) 형식 : tuple 들을 결합하여 dictionary 로 변환해주는 dict 내의 메소드\n",
    "# 위 예시의 경우, bb의 key값, aa의 value 값을 참조해서 사용했"
   ]
  }
 ],
 "metadata": {
  "kernelspec": {
   "display_name": "ywkernel1",
   "language": "python",
   "name": "ywpython"
  },
  "language_info": {
   "codemirror_mode": {
    "name": "ipython",
    "version": 3
   },
   "file_extension": ".py",
   "mimetype": "text/x-python",
   "name": "python",
   "nbconvert_exporter": "python",
   "pygments_lexer": "ipython3",
   "version": "3.6.8"
  }
 },
 "nbformat": 4,
 "nbformat_minor": 2
}
