{
 "cells": [
  {
   "cell_type": "code",
   "execution_count": 4,
   "metadata": {},
   "outputs": [
    {
     "name": "stdout",
     "output_type": "stream",
     "text": [
      "3.6.8 |Anaconda, Inc.| (default, Feb 21 2019, 18:30:04) [MSC v.1916 64 bit (AMD64)]\n"
     ]
    }
   ],
   "source": [
    "import sys\n",
    "print(sys.version)"
   ]
  },
  {
   "cell_type": "code",
   "execution_count": 6,
   "metadata": {},
   "outputs": [
    {
     "name": "stdout",
     "output_type": "stream",
     "text": [
      "a는 10이상\n",
      "예제\n"
     ]
    }
   ],
   "source": [
    "# 예제\n",
    "a=15\n",
    "if a>10:\n",
    "    print(\"a는 10이상\")\n",
    "    print(\"예제\")"
   ]
  },
  {
   "cell_type": "markdown",
   "metadata": {},
   "source": [
    "# Markdown 모드 : indent 가 사라지고 텍스트 입력가능\n",
    "문서화 하고싶을때 같이 사용함\n",
    "\n",
    "# # : 크게\n",
    "## ## : 조금 작게\n",
    "\n",
    "* * : bullet point\n",
    "   "
   ]
  },
  {
   "cell_type": "code",
   "execution_count": 14,
   "metadata": {},
   "outputs": [
    {
     "name": "stdout",
     "output_type": "stream",
     "text": [
      "4 7\n",
      "A= 4\n",
      "A+3= 7\n",
      "A+3=7\n",
      "A+3=7\n",
      "4+3=7\n"
     ]
    }
   ],
   "source": [
    "A=4\n",
    "A, A+3 # 컨테이너 자료형으로 출력됨\n",
    "print(A, A+3) # 프린트문  : 텍스트형으로 변환하여 출력\n",
    "print(\"A=\", A)\n",
    "print(\"A+3=\", (A+3))\n",
    "print(\"A+3=\"+str(A+3)) # + 하고 str(연결연산자) 를 붙여주면 캐스팅 오류가 안남. 이 경우 문자형 + 숫자형을 str 연산자가 연결\n",
    "print(\"A+3={0}\".format(A+3)) # {0(0번째값:index)} 하고 .format 쓰면 뒤에있는 값을 0번째 index 에 넣겠다는 뜻\n",
    "print(\"{1}+3={0}\".format(A+3,A)) # index 0에는 A+3, index 1에는 A"
   ]
  },
  {
   "cell_type": "markdown",
   "metadata": {},
   "source": [
    "파이썬에서는 부동소수점을 지원\n",
    "\n",
    "복소수 : i 대신 j 를 사용\n",
    "* a+bi >> a+bj\n",
    "\n",
    "64bit 중 11bit는 지수부를 사용.\n",
    "* 계산 오차가 많이 나기도 한다."
   ]
  },
  {
   "cell_type": "code",
   "execution_count": 23,
   "metadata": {},
   "outputs": [
    {
     "data": {
      "text/plain": [
       "(3.0, 2.0, (3-2j))"
      ]
     },
     "execution_count": 23,
     "metadata": {},
     "output_type": "execute_result"
    }
   ],
   "source": [
    "# 복소수\n",
    "X=3+2j\n",
    "X.real, X.imag, X.conjugate() # 실수부, 허수부, 칼라복소수부분"
   ]
  },
  {
   "cell_type": "code",
   "execution_count": 25,
   "metadata": {
    "scrolled": true
   },
   "outputs": [
    {
     "data": {
      "text/plain": [
       "False"
      ]
     },
     "execution_count": 25,
     "metadata": {},
     "output_type": "execute_result"
    }
   ],
   "source": [
    "# 논리연산\n",
    "A = True\n",
    "B = False\n",
    "A & B # AND 연산자"
   ]
  },
  {
   "cell_type": "code",
   "execution_count": 28,
   "metadata": {},
   "outputs": [
    {
     "data": {
      "text/plain": [
       "('Hello World',\n",
       " 'Python',\n",
       " 'Python\\n줄바꾸기 연산은 작은따옴표 3개\\n\"\"\"쌍따옴표\\n3개도 됨\\n\"\"\"\\n123\\n')"
      ]
     },
     "execution_count": 28,
     "metadata": {},
     "output_type": "execute_result"
    }
   ],
   "source": [
    "# 줄바꿈 : quotation mark 를 3개 사용하면됨\n",
    "A = \"Hello World\"\n",
    "B = 'Python'\n",
    "C = '''Python\n",
    "줄바꾸기 연산은 작은따옴표 3개\n",
    "\"\"\"쌍따옴표\n",
    "3개도 됨\n",
    "\"\"\"\n",
    "123\n",
    "'''\n",
    "A, B, C"
   ]
  },
  {
   "cell_type": "code",
   "execution_count": 27,
   "metadata": {},
   "outputs": [
    {
     "data": {
      "text/plain": [
       "(str, str, bool)"
      ]
     },
     "execution_count": 27,
     "metadata": {},
     "output_type": "execute_result"
    }
   ],
   "source": [
    "# type() : 변수 자료형 확인\n",
    "X = \"Hello World\"\n",
    "Y = 'Python'\n",
    "Z = True\n",
    "\n",
    "type(X), type(Y), type(Z)"
   ]
  },
  {
   "cell_type": "code",
   "execution_count": 34,
   "metadata": {},
   "outputs": [
    {
     "data": {
      "text/plain": [
       "float"
      ]
     },
     "execution_count": 34,
     "metadata": {},
     "output_type": "execute_result"
    }
   ],
   "source": [
    "# 자료형을 변환해줄 수 있음\n",
    "# int(), float(), str()\n",
    "\n",
    "W = \"843.21\"\n",
    "X = 1764.6\n",
    "Y = 27338\n",
    "Z = 222.556\n",
    "\n",
    "float(W) # 출력값은 그대로 나오고\n",
    "type(float(W)) # 자료형 찍으면 float 로 나옴"
   ]
  },
  {
   "cell_type": "code",
   "execution_count": 35,
   "metadata": {},
   "outputs": [
    {
     "data": {
      "text/plain": [
       "(25, 32, 12.4)"
      ]
     },
     "execution_count": 35,
     "metadata": {},
     "output_type": "execute_result"
    }
   ],
   "source": [
    "# 여러 문장을 한꺼번에 쓰고싶으면, 문장 끝나는 위치마다 semicolon\n",
    "\n",
    "X=25; Y=32\n",
    "Z=12.4\n",
    "X, Y, Z"
   ]
  },
  {
   "cell_type": "markdown",
   "metadata": {},
   "source": [
    "### 파이썬에서 기본적으로 제공하는 산술연산함수\n",
    "\n",
    "abs(x) : x의 절대값 출력\n",
    "\n",
    "divmod(x,y) : x/y의 몫과 나머지\n",
    "\n",
    "round(x,y) : x의 소수점을 y차로 반올림\n",
    "\n",
    "pow(x,y) : x**y"
   ]
  },
  {
   "cell_type": "code",
   "execution_count": 48,
   "metadata": {},
   "outputs": [
    {
     "name": "stdout",
     "output_type": "stream",
     "text": [
      "X=8Y=1\n",
      "abs(A)=17\n",
      "divmod(abs(A),B)=(8, 1)\n",
      "round(1/3,2)=0.33\n",
      "pow(A,B)=289\n"
     ]
    }
   ],
   "source": [
    "A=17; B=2; X, Y=divmod(abs(A),B)\n",
    "print(\"X=\"+str(X)+\"Y=\"+str(Y))\n",
    "# X,Y = divmod(...) 했을때, X에는 몫이 저장되고 Y에는 나머지가 저장됨\n",
    "# 출력값: X는 8, Y는 1\n",
    "\n",
    "print(\"abs(A)=\"+str(abs(A))) # abs(x) : x의 절대값 출력\n",
    "print(\"divmod(abs(A),B)=\"+str(divmod(abs(A),B))) # divmod(x,y) : x/y의 몫과 나머지\n",
    "print(\"round(1/3,2)=\"+str(round(1/3,2))) # round(x,y) : x의 소수점을 y차로 반올림\n",
    "print(\"pow(A,B)=\"+str(pow(A,B))) # pow(x,y) : x**y"
   ]
  },
  {
   "cell_type": "markdown",
   "metadata": {},
   "source": [
    "## math module\n",
    "import math << 모듈 import 후 사용가능\n",
    "\n",
    "ceil(x) : x보다 큰 정수중 가장 작은수\n",
    "\n",
    "floor(x) : x보다 작은 정수중 가장 큰수\n",
    "\n",
    "trunc(x) : x의 소수점 이하 버림\n",
    "\n",
    "fabs(x) : x의 절대값을 실수로 변환\n",
    "\n",
    "pow(x,y) : 제곱\n",
    "* pow(x,y) : 기본 자료형 정수형으로 출력\n",
    "* math.pow(x,y) : 기본 자료형 실수형으로 출력\n",
    "\n",
    "sqrt(x) : 제곱근\n",
    "\n",
    "log(x), log2(x), log10(x)\n",
    "\n",
    "exp(x) : 지수\n",
    "\n",
    "pi"
   ]
  },
  {
   "cell_type": "code",
   "execution_count": 50,
   "metadata": {},
   "outputs": [
    {
     "data": {
      "text/plain": [
       "1.7320508075688772"
      ]
     },
     "execution_count": 50,
     "metadata": {},
     "output_type": "execute_result"
    }
   ],
   "source": [
    "import math\n",
    "math.sqrt(3)"
   ]
  },
  {
   "cell_type": "code",
   "execution_count": 58,
   "metadata": {},
   "outputs": [
    {
     "data": {
      "text/plain": [
       "0.3"
      ]
     },
     "execution_count": 58,
     "metadata": {},
     "output_type": "execute_result"
    }
   ],
   "source": [
    "import math\n",
    "0.1+0.2\n",
    "# 출력값 : 0.30000000000000004가 출력됨\n",
    "# 각 실수값이 파이썬에서 bit 형으로 변환되서 가는 과정에서 오차가 발생함 (64bit 범위에서 벗어나는 것들은 그대로 오차가됨)\n",
    "# 이런 작은 오차들은 반올림/반내림으로 처리함\n",
    "\n",
    "round(0.1+0.2, 1)"
   ]
  },
  {
   "cell_type": "markdown",
   "metadata": {},
   "source": [
    "### 관계연산자\n",
    "\n",
    "==, !=, >, <, >=, <=\n",
    "\n",
    "in : 포함여부 (교집합 개념)\n",
    "\n",
    "not in : 미포함\n",
    "\n",
    "is : 레퍼런스(포인터)가 같음\n",
    "\n",
    "is not : 레퍼런스(포인터)가 같지 않음"
   ]
  },
  {
   "cell_type": "code",
   "execution_count": 61,
   "metadata": {},
   "outputs": [
    {
     "data": {
      "text/plain": [
       "True"
      ]
     },
     "execution_count": 61,
     "metadata": {},
     "output_type": "execute_result"
    }
   ],
   "source": [
    "W=[2,4,5,3.2]\n",
    "V = \"Learning Python\"\n",
    "\n",
    "3 in W # 출력값 : False\n",
    "\"Py\" in V # 출력값 : True "
   ]
  },
  {
   "cell_type": "code",
   "execution_count": 67,
   "metadata": {},
   "outputs": [
    {
     "data": {
      "text/plain": [
       "True"
      ]
     },
     "execution_count": 67,
     "metadata": {},
     "output_type": "execute_result"
    }
   ],
   "source": [
    "# 레퍼런스(포인터) 위치를 활용한 예제\n",
    "W=2; V=2; X=257; Y=257\n",
    "id(W), id(V), id(X), id(Y)\n",
    "#id(x) : x의 포인터 참조 주소값\n",
    "# 출력값 : (1925558528, 1925558528, 2981245456912, 2981245457264)\n",
    "# 257의 경우는 왜 주소값이 틀릴까?\n",
    "# 정수값 0~256 까지는 지정된 reference 주소를 가지고 있으나, 그 이상 범위는 고정위치가 아님\n",
    "\n",
    "W is V # 출력값 : True"
   ]
  },
  {
   "cell_type": "markdown",
   "metadata": {},
   "source": [
    "### 문자열 indexing, slicing\n",
    "\n",
    "문자열[0:b]\n",
    "* 또는 문자열[:b]\n",
    "\n",
    "문자열[a:b]\n",
    "* a부터 (b-1)까지\n",
    "\n",
    "문자열[a:b:c]\n",
    "* a부터 (b-1)까지 c씩 증감"
   ]
  },
  {
   "cell_type": "code",
   "execution_count": 70,
   "metadata": {},
   "outputs": [
    {
     "name": "stdout",
     "output_type": "stream",
     "text": [
      "Python 데이터 분석\t데\t분\t\n"
     ]
    }
   ],
   "source": [
    "# 문자열 인덱싱\n",
    "S=\"Python 데이터 분석\"\n",
    "print(\"{0}\\t{1}\\t{2}\\t\".format(S,S[7],S[-2]))"
   ]
  },
  {
   "cell_type": "code",
   "execution_count": 74,
   "metadata": {},
   "outputs": [
    {
     "name": "stdout",
     "output_type": "stream",
     "text": [
      "데이터 \t데이터\tPython\t석터 hP\t\n"
     ]
    }
   ],
   "source": [
    "# 문자열 슬라이싱\n",
    "S=\"Python 데이터 분석\"\n",
    "print(\"{0}\\t{1}\\t{2}\\t{3}\\t\".format(S[7:11],S[7:-3],S[-13:-7],S[::-3]))\n",
    "# S[::-3] : colon 이 두개가 붙으면 무조건 처음부터 끝까지 범위, 끝에서부터 -3씩 slicing"
   ]
  },
  {
   "cell_type": "markdown",
   "metadata": {},
   "source": [
    "### 문자열 연산자\n",
    "\n",
    ".+ : 문자열 연결 (변수에 저장은 하지않음)\n",
    "\n",
    "n* 또는 *n : 문자열 반복\n",
    "\n",
    "+= : 문자열 결합 후 덮어씀\n",
    "\n",
    "del : 문자열 삭제\n",
    "\n",
    "#### 문자열 연산자 관련 함수\n",
    "\n",
    "ord(c) : 하나의 문자에 대한 아스키코드\n",
    "\n",
    "chr(c) : 아스키코드의 문자\n",
    "\n",
    "len(s) : 문자열 길이\n",
    "\n",
    "max(s) : 문자열 s중 아스키값이 가장 큰 문자\n",
    "\n",
    "min(s) : 문자열 s중 아스키값이 가장 작은 문자\n",
    "\n",
    "sorted(s) : 문자열 s를 아스키값 순서로 정렬 (리스트형으로 변환됨)\n",
    "\n",
    "reversed(s) : 문자열 s 역순출력\n"
   ]
  },
  {
   "cell_type": "code",
   "execution_count": 86,
   "metadata": {},
   "outputs": [
    {
     "data": {
      "text/plain": [
       "(12, 'y', ' ', [' ', 'H', 'P', 'e', 'h', 'l', 'l', 'n', 'o', 'o', 't', 'y'])"
      ]
     },
     "execution_count": 86,
     "metadata": {},
     "output_type": "execute_result"
    }
   ],
   "source": [
    "S=\"Hello\"\n",
    "S*3 # 출력값 : HelloHelloHello\n",
    "S+=\" Python\" # 출력값 : Hello Python\n",
    "\n",
    "ord(\"김\"), chr(101) # 출력값 : (44608, 'e')\n",
    "len(S), max(S), min(S), sorted(S)"
   ]
  },
  {
   "cell_type": "code",
   "execution_count": 90,
   "metadata": {},
   "outputs": [
    {
     "data": {
      "text/plain": [
       "['n', 'o', 'h', 't', 'y', 'P', ' ', 'o', 'l', 'l', 'e', 'H']"
      ]
     },
     "execution_count": 90,
     "metadata": {},
     "output_type": "execute_result"
    }
   ],
   "source": [
    "R=reversed(S)\n",
    "R # 여기까지 출력하면 역변환 과정이 안보이기 때문에 값이 출력이 안됨\n",
    "list(R) # 리스트 형으로 출력해줘야 값이 나옴"
   ]
  },
  {
   "cell_type": "markdown",
   "metadata": {},
   "source": [
    "#### 문자열 연산자 관련 함수2\n",
    "\n",
    "* 대소문자 변환\n",
    "\n",
    "    capitalize() : 첫번째만 capitalize\n",
    "\n",
    "    title() : 각 단어의 첫번째 단어만 capitalize\n",
    "\n",
    "    upper() : 전체 대문자화\n",
    "\n",
    "    lower() : 전체 소문자화\n",
    "\n",
    "    swapcase() : 대문자는 소문자로, 소문자는 대문자로\n",
    "\n",
    "* 정렬\n",
    "\n",
    "    center(n,x) : 가운데정렬\n",
    "\n",
    "    ljust(n,x) : 왼쪽정렬\n",
    "\n",
    "    rjust(n,x) : 오른쪽정렬\n",
    "\n",
    "* 특정 문자열 갯수\n",
    "\n",
    "    count(x,a,b) : 문자열 x의 갯수 (a,b는 시작과 끝 index)\n",
    "\n",
    "* 문자열 색인\n",
    "\n",
    "    index(x) : x가 시작하는 index (없는 문자는 ValueError)\n",
    "\n",
    "    rindex(x) : x 인덱스를 오른쪽부터 색인\n",
    "\n",
    "    find(x) : x가 시작하는 index (없는 문자는 -1)\n",
    "\n",
    "    rfind(x) : x 인덱스를 오른쪽부터 색인\n",
    "\n",
    "* 문자열 시작과 끝\n",
    "\n",
    "    startswith(x,a,b)\n",
    "\n",
    "    endswith(x,a,b)\n",
    "\n",
    "* 출력 포맷\n",
    "\n",
    "    format() : 문자열 출력 포맷 지정\n",
    "\n",
    "    format_map() : map() 함수 이용해서 문자열 출력 포맷 지정\n",
    "\n",
    "* 문자열 구성 확인\n",
    "\n",
    "    isalnum() : 알파벳과 숫자로 구성되어있는지 확인\n",
    "\n",
    "    isalpha() : 알파벳으로 구성되어있는지 확인\n",
    "\n",
    "    isdigit() : 숫자로 되어있는지 확인\n",
    "\n",
    "    isdemical() : 숫자로 구성되어있는지 확인\n",
    "\n",
    "    isidentifier() : identifier 로 사용가능한지 확인\n",
    "\n",
    "* 탭키 조정\n",
    "\n",
    "    expandtabs() : 탭키 조정\n",
    "\n",
    "* 문자 대체\n",
    "\n",
    "    str.maketrans(x,y) : x의 문자를 y로 대체\n",
    "\n",
    "> 더 자세한 methods 들은 교재자료나 reference 참조"
   ]
  },
  {
   "cell_type": "code",
   "execution_count": 91,
   "metadata": {},
   "outputs": [
    {
     "data": {
      "text/plain": [
       "('Python은 쉬워서 programming하기 편해요', 'Python은 쉬워서 Programming하기 편해요')"
      ]
     },
     "execution_count": 91,
     "metadata": {},
     "output_type": "execute_result"
    }
   ],
   "source": [
    "# 문자열 메소드\n",
    "S=\"pyTHon은 쉬워서 PROgramming하기 편해요\"\n",
    "S.capitalize(), S.title()"
   ]
  },
  {
   "cell_type": "code",
   "execution_count": 93,
   "metadata": {},
   "outputs": [
    {
     "data": {
      "text/plain": [
       "('PYTHON은 쉬워서 PROGRAMMING하기 편해요',\n",
       " 'python은 쉬워서 programming하기 편해요',\n",
       " 'PYthON은 쉬워서 proGRAMMING하기 편해요')"
      ]
     },
     "execution_count": 93,
     "metadata": {},
     "output_type": "execute_result"
    }
   ],
   "source": [
    "S.upper(), S.lower(), S.swapcase()"
   ]
  },
  {
   "cell_type": "code",
   "execution_count": 94,
   "metadata": {},
   "outputs": [
    {
     "data": {
      "text/plain": [
       "'   pyTHon은 쉬워서 PROgramming하기 편해요   '"
      ]
     },
     "execution_count": 94,
     "metadata": {},
     "output_type": "execute_result"
    }
   ],
   "source": [
    "S.center(35)\n",
    "# 전체 글자수보다 가운데정렬 indexing  number 가 더 큼\n",
    "# 이 경우에는, 남는 차수만큼 각 끝에 여백을 준다"
   ]
  },
  {
   "cell_type": "code",
   "execution_count": 100,
   "metadata": {},
   "outputs": [
    {
     "data": {
      "text/plain": [
       "(2, 0, 4)"
      ]
     },
     "execution_count": 100,
     "metadata": {},
     "output_type": "execute_result"
    }
   ],
   "source": [
    "S.count(\"g\"), S.count(\"g\",3,10), S.index(\"o\")\n",
    "# 전체 문장에서 g는 2개 나옴\n",
    "# index \"o\" : o가 제일 처음 나오는 그 부분의 index 값을 돌려줌"
   ]
  },
  {
   "cell_type": "code",
   "execution_count": 105,
   "metadata": {},
   "outputs": [
    {
     "data": {
      "text/plain": [
       "'이름은 Bernice Lee이고 나이는 26세 입니다'"
      ]
     },
     "execution_count": 105,
     "metadata": {},
     "output_type": "execute_result"
    }
   ],
   "source": [
    "# 문자열 재결합\n",
    "n=\"Bernice Lee\"\n",
    "a=26\n",
    "S=\"이름은 {name}이고 나이는 {age}세 입니다\"\n",
    "SS=S.format(name=n, age=a)\n",
    "SS"
   ]
  },
  {
   "cell_type": "code",
   "execution_count": 106,
   "metadata": {},
   "outputs": [
    {
     "data": {
      "text/plain": [
       "'이*름*은* *{*n*a*m*e*}*이*고* *나*이*는* *{*a*g*e*}*세* *입*니*다'"
      ]
     },
     "execution_count": 106,
     "metadata": {},
     "output_type": "execute_result"
    }
   ],
   "source": [
    "chr=\"*\"\n",
    "chr.join(S)"
   ]
  },
  {
   "cell_type": "code",
   "execution_count": 108,
   "metadata": {
    "scrolled": true
   },
   "outputs": [
    {
     "data": {
      "text/plain": [
       "'pyTHon은 쉬워서 PROgramming하기 편해요'"
      ]
     },
     "execution_count": 108,
     "metadata": {},
     "output_type": "execute_result"
    }
   ],
   "source": [
    "S=\"\\tpyTHon은 쉬워서 PROgramming하기 편해요\\t\"\n",
    "S.strip()\n",
    "# strip() : 내용 안채워넣으면 스페이스나 탭문자 제거"
   ]
  },
  {
   "cell_type": "code",
   "execution_count": 109,
   "metadata": {},
   "outputs": [
    {
     "data": {
      "text/plain": [
       "'pyTHon은 쉬워서 PROgramming하기 편해요'"
      ]
     },
     "execution_count": 109,
     "metadata": {},
     "output_type": "execute_result"
    }
   ],
   "source": [
    "S=\"****pyTHon은 쉬워서 PROgramming하기 편해요****\"\n",
    "S.strip(\"*\")"
   ]
  },
  {
   "cell_type": "code",
   "execution_count": 111,
   "metadata": {},
   "outputs": [
    {
     "data": {
      "text/plain": [
       "('응용통계학과', '는', ' 통계학, SAS 등을 배웁니다.')"
      ]
     },
     "execution_count": 111,
     "metadata": {},
     "output_type": "execute_result"
    }
   ],
   "source": [
    "S=\"응용통계학과는 통계학, SAS 등을 배웁니다.\"\n",
    "S.partition(\"는\")\n",
    "# partition() : 안의 문자를 기준으로 문자열 등분"
   ]
  },
  {
   "cell_type": "code",
   "execution_count": 112,
   "metadata": {},
   "outputs": [
    {
     "data": {
      "text/plain": [
       "'응용statistics과는 statistics, SAS 등을 배웁니다.'"
      ]
     },
     "execution_count": 112,
     "metadata": {},
     "output_type": "execute_result"
    }
   ],
   "source": [
    "S.replace(\"통계학\", \"statistics\")"
   ]
  },
  {
   "cell_type": "code",
   "execution_count": 115,
   "metadata": {},
   "outputs": [
    {
     "data": {
      "text/plain": [
       "{115: 83, 116: 84}"
      ]
     },
     "execution_count": 115,
     "metadata": {},
     "output_type": "execute_result"
    }
   ],
   "source": [
    "S=\"statistics\"\n",
    "x= str.maketrans(\"st\", \"ST\") # dictionary 형으로 (key : value) 아스키값으로 변환\n",
    "x"
   ]
  },
  {
   "cell_type": "markdown",
   "metadata": {},
   "source": [
    "### 비트연산자\n",
    "\n",
    "&, |, ^, ~, >>, <<\n",
    ">교재 참고"
   ]
  },
  {
   "cell_type": "code",
   "execution_count": 118,
   "metadata": {},
   "outputs": [
    {
     "data": {
      "text/plain": [
       "(9, 29, 20, -14, 3, 200)"
      ]
     },
     "execution_count": 118,
     "metadata": {},
     "output_type": "execute_result"
    }
   ],
   "source": [
    "# 비트 연산\n",
    "a=13; b=25\n",
    "a&b, a|b, a^b, ~a, a>>2, b<<3\n",
    "\n",
    "# 2진수로 숫자 변환해서 계산\n",
    "# a&b : a 2진수값 1011, b 2진수값 11001, and 연산으로 합산 (결과 : 1001 : 9)\n",
    "# a^b : exclusive or 연산으로 합산 (결과 : 10100 : 20)\n",
    "# ~a : 2진수 변환후 0은 1로, 1은 0으로 (결과 : 11110010 : -14)\n",
    "# a>>2 : 비트를 두칸 밀겠다는 뜻. 빈 비트 칸은 0 으로 채워넣는다 (결과 : 11 : 3)\n",
    "# b<<3 : 비트를 세칸 밀겠다는 뜻. (결과 : 1100100 : 200)"
   ]
  }
 ],
 "metadata": {
  "kernelspec": {
   "display_name": "ywkernel1",
   "language": "python",
   "name": "ywpython"
  },
  "language_info": {
   "codemirror_mode": {
    "name": "ipython",
    "version": 3
   },
   "file_extension": ".py",
   "mimetype": "text/x-python",
   "name": "python",
   "nbconvert_exporter": "python",
   "pygments_lexer": "ipython3",
   "version": "3.6.8"
  }
 },
 "nbformat": 4,
 "nbformat_minor": 2
}
