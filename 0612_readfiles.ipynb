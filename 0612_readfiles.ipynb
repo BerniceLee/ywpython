{
 "cells": [
  {
   "cell_type": "markdown",
   "metadata": {},
   "source": [
    "### 파일 읽기\n",
    "\n",
    "1. open() 함수로 파일 열기\n",
    "    * 파일객체=open(파일명}\n",
    "    \n",
    "\n",
    "2. 파일입력\n",
    "\n",
    "    파일입력 메소드\n",
    "\n",
    "    * read() : 문자열로 읽어오기\n",
    "    * readline() : 한 줄씩 읽어오기\n",
    "    * readlines() : 파일 전체를 읽어와서 각 줄들로 구성된 리스트 반환"
   ]
  },
  {
   "cell_type": "code",
   "execution_count": 13,
   "metadata": {},
   "outputs": [
    {
     "data": {
      "text/plain": [
       "(175.14100000000002, 180.2)"
      ]
     },
     "execution_count": 13,
     "metadata": {},
     "output_type": "execute_result"
    }
   ],
   "source": [
    "'''\n",
    "data_space.txt\n",
    "\n",
    "height weight\n",
    "174.10 71.85\n",
    "171.17 65.46\n",
    "175.73 72.29\n",
    "178.83 72.49\n",
    "178.60 73.38\n",
    "180.20 75.40\n",
    "168.45 66.62\n",
    "174.30 70.84\n",
    "178.29 72.12\n",
    "171.74 69.66\n",
    " \n",
    "'''\n",
    "# ch1_예제 txt 파일 읽어오기\n",
    "\n",
    "fobj=open(\"C:/Users/Affinity/Downloads/Python_Data/ch01_data/data_space.txt\")\n",
    "robj=fobj.read()\n",
    "x=robj.split() # 공백 기준으로 split\n",
    "Height=[]\n",
    "Weight=[]\n",
    "for i in range(2,len(x),2) :\n",
    "    Height.append(float(x[i])) # aooend 하면 기본적으로 str 형으로 뱉어낸다. 그래서 float 형으로 먼저 바꿔줘야 TypeError 안남\n",
    "    Weight.append(float(x[i+1]))\n",
    "Height, Weight\n",
    "sum(Height)/len(Height), max(Height) # 여기서는 float 이나 int 로 변환 불가\n",
    "\n",
    "# fobj.close() # 이거 붙으면 파일 닫아버리는거임 실행 안됨"
   ]
  },
  {
   "cell_type": "code",
   "execution_count": 14,
   "metadata": {},
   "outputs": [
    {
     "name": "stdout",
     "output_type": "stream",
     "text": [
      "1 : height weight\n",
      "\n",
      "2 : 174.10 71.85\n",
      "\n"
     ]
    }
   ],
   "source": [
    "fobj=open(\"C:/Users/Affinity/Downloads/Python_Data/ch01_data/data_space.txt\")\n",
    "robj=fobj.readline()\n",
    "print(\"1 : {0}\".format(robj))\n",
    "robj=fobj.readline()\n",
    "print(\"2 : {0}\".format(robj))"
   ]
  },
  {
   "cell_type": "code",
   "execution_count": 15,
   "metadata": {},
   "outputs": [
    {
     "name": "stdout",
     "output_type": "stream",
     "text": [
      "height weight\n",
      "174.10 71.85\n",
      "171.17 65.46\n",
      "175.73 72.29\n",
      "178.83 72.49\n",
      "178.60 73.38\n",
      "180.20 75.40\n",
      "168.45 66.62\n",
      "174.30 70.84\n",
      "178.29 72.12\n",
      "171.74 69.66\n"
     ]
    }
   ],
   "source": [
    "fobj=open(\"C:/Users/Affinity/Downloads/Python_Data/ch01_data/data_space.txt\")\n",
    "robj=fobj.readline()\n",
    "while robj :\n",
    "    print(robj,end=\"\")\n",
    "    robj=fobj.readline()\n",
    "fobj.close()\n",
    "\n",
    "# 이것도 숫자로 읽어들이는게 아니라 문자로 읽어들인거라서, 숫자로 쓰려면 숫자로 형변환 먼저 진행해줘야함"
   ]
  },
  {
   "cell_type": "markdown",
   "metadata": {},
   "source": [
    "### 파일쓰기\n",
    "\n",
    "write()\n",
    "\n",
    "writelines()"
   ]
  },
  {
   "cell_type": "code",
   "execution_count": 20,
   "metadata": {},
   "outputs": [],
   "source": [
    "'''\n",
    "new_writefile.txt\n",
    "\n",
    "디렉토리안에 해당 파일은 없음.\n",
    "write 함으로써 txt 를 생성해주는거\n",
    "\n",
    "'''\n",
    "\n",
    "fobj=open(\"C:/Users/Affinity/Downloads/Python_Data/ch01_data/new_writefile.txt\",\"w\") # 새롭게 파일 생성하는 경우는 끝에 \"w\" 붙여줘야함\n",
    "robj=fobj.write(\"파일에 내용쓰기\")\n",
    "fobj.close()\n",
    "\n",
    "fobj=open(\"C:/Users/Affinity/Downloads/Python_Data/ch01_data/new_writefile.txt\",\"w\") # w 모드로 열면, rewrite 시 내용이 지워지고 덮어쓰기\n",
    "robj=fobj.write(\"파일에 내용쓰기2\")\n",
    "fobj.close()\n",
    "\n",
    "fobj=open(\"C:/Users/Affinity/Downloads/Python_Data/ch01_data/new_writefile.txt\",\"a\") # a 모드로 열면, 기존 내용에 추가됨\n",
    "robj=fobj.write(\"파일에 이어쓰기\")\n",
    "fobj.close()\n",
    "\n",
    "# 결과 : 파일에 내용쓰기2\n",
    "# 파일에 이어쓰"
   ]
  }
 ],
 "metadata": {
  "kernelspec": {
   "display_name": "ywkernel1",
   "language": "python",
   "name": "ywpython"
  },
  "language_info": {
   "codemirror_mode": {
    "name": "ipython",
    "version": 3
   },
   "file_extension": ".py",
   "mimetype": "text/x-python",
   "name": "python",
   "nbconvert_exporter": "python",
   "pygments_lexer": "ipython3",
   "version": "3.6.8"
  }
 },
 "nbformat": 4,
 "nbformat_minor": 2
}
