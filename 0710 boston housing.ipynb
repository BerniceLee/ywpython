{
 "cells": [
  {
   "cell_type": "code",
   "execution_count": 1,
   "metadata": {},
   "outputs": [],
   "source": [
    "import tensorflow as tf"
   ]
  },
  {
   "cell_type": "code",
   "execution_count": 2,
   "metadata": {},
   "outputs": [],
   "source": [
    "gpu_fraction = 0.1\n",
    "gpu_options = tf.GPUOptions(per_process_gpu_memory_fraction=gpu_fraction)\n",
    "sess = tf.Session(config=tf.ConfigProto(gpu_options=gpu_options))"
   ]
  },
  {
   "cell_type": "code",
   "execution_count": 3,
   "metadata": {},
   "outputs": [],
   "source": [
    "config = tf.ConfigProto()\n",
    "config.gpu_options.allow_growth = True\n",
    "session = tf.Session(config=config)"
   ]
  },
  {
   "cell_type": "code",
   "execution_count": 4,
   "metadata": {},
   "outputs": [],
   "source": [
    "# 동일한 결과를 재현하기 위해서 random seed 고정\n",
    "import numpy as np\n",
    "\n",
    "np.random.seed(777)"
   ]
  },
  {
   "cell_type": "code",
   "execution_count": 6,
   "metadata": {},
   "outputs": [],
   "source": [
    "# 모델 학습 시 불필요한 출력을 끄도록 함 (warning)\n",
    "import tensorflow as tf\n",
    "\n",
    "tf.logging.set_verbosity(tf.logging.ERROR)"
   ]
  },
  {
   "cell_type": "code",
   "execution_count": 7,
   "metadata": {},
   "outputs": [],
   "source": [
    "from tensorflow.keras.datasets import boston_housing\n",
    "\n",
    "(train_data, train_targets), (test_data, test_targets) = boston_housing.load_data()"
   ]
  },
  {
   "cell_type": "code",
   "execution_count": 7,
   "metadata": {},
   "outputs": [
    {
     "name": "stdout",
     "output_type": "stream",
     "text": [
      "(404, 13)\n",
      "(102, 13)\n"
     ]
    }
   ],
   "source": [
    "print(train_data.shape)\n",
    "print(test_data.shape)"
   ]
  },
  {
   "cell_type": "code",
   "execution_count": 8,
   "metadata": {},
   "outputs": [
    {
     "name": "stdout",
     "output_type": "stream",
     "text": [
      "[15.2 42.3 50.  21.1 17.7 18.5 11.3 15.6 15.6 14.4 12.1 17.9 23.1 19.9\n",
      " 15.7  8.8 50.  22.5 24.1 27.5 10.9 30.8 32.9 24.  18.5 13.3 22.9 34.7\n",
      " 16.6 17.5 22.3 16.1 14.9 23.1 34.9 25.  13.9 13.1 20.4 20.  15.2 24.7\n",
      " 22.2 16.7 12.7 15.6 18.4 21.  30.1 15.1 18.7  9.6 31.5 24.8 19.1 22.\n",
      " 14.5 11.  32.  29.4 20.3 24.4 14.6 19.5 14.1 14.3 15.6 10.5  6.3 19.3\n",
      " 19.3 13.4 36.4 17.8 13.5 16.5  8.3 14.3 16.  13.4 28.6 43.5 20.2 22.\n",
      " 23.  20.7 12.5 48.5 14.6 13.4 23.7 50.  21.7 39.8 38.7 22.2 34.9 22.5\n",
      " 31.1 28.7 46.  41.7 21.  26.6 15.  24.4 13.3 21.2 11.7 21.7 19.4 50.\n",
      " 22.8 19.7 24.7 36.2 14.2 18.9 18.3 20.6 24.6 18.2  8.7 44.  10.4 13.2\n",
      " 21.2 37.  30.7 22.9 20.  19.3 31.7 32.  23.1 18.8 10.9 50.  19.6  5.\n",
      " 14.4 19.8 13.8 19.6 23.9 24.5 25.  19.9 17.2 24.6 13.5 26.6 21.4 11.9\n",
      " 22.6 19.6  8.5 23.7 23.1 22.4 20.5 23.6 18.4 35.2 23.1 27.9 20.6 23.7\n",
      " 28.  13.6 27.1 23.6 20.6 18.2 21.7 17.1  8.4 25.3 13.8 22.2 18.4 20.7\n",
      " 31.6 30.5 20.3  8.8 19.2 19.4 23.1 23.  14.8 48.8 22.6 33.4 21.1 13.6\n",
      " 32.2 13.1 23.4 18.9 23.9 11.8 23.3 22.8 19.6 16.7 13.4 22.2 20.4 21.8\n",
      " 26.4 14.9 24.1 23.8 12.3 29.1 21.  19.5 23.3 23.8 17.8 11.5 21.7 19.9\n",
      " 25.  33.4 28.5 21.4 24.3 27.5 33.1 16.2 23.3 48.3 22.9 22.8 13.1 12.7\n",
      " 22.6 15.  15.3 10.5 24.  18.5 21.7 19.5 33.2 23.2  5.  19.1 12.7 22.3\n",
      " 10.2 13.9 16.3 17.  20.1 29.9 17.2 37.3 45.4 17.8 23.2 29.  22.  18.\n",
      " 17.4 34.6 20.1 25.  15.6 24.8 28.2 21.2 21.4 23.8 31.  26.2 17.4 37.9\n",
      " 17.5 20.   8.3 23.9  8.4 13.8  7.2 11.7 17.1 21.6 50.  16.1 20.4 20.6\n",
      " 21.4 20.6 36.5  8.5 24.8 10.8 21.9 17.3 18.9 36.2 14.9 18.2 33.3 21.8\n",
      " 19.7 31.6 24.8 19.4 22.8  7.5 44.8 16.8 18.7 50.  50.  19.5 20.1 50.\n",
      " 17.2 20.8 19.3 41.3 20.4 20.5 13.8 16.5 23.9 20.6 31.5 23.3 16.8 14.\n",
      " 33.8 36.1 12.8 18.3 18.7 19.1 29.  30.1 50.  50.  22.  11.9 37.6 50.\n",
      " 22.7 20.8 23.5 27.9 50.  19.3 23.9 22.6 15.2 21.7 19.2 43.8 20.3 33.2\n",
      " 19.9 22.5 32.7 22.  17.1 19.  15.  16.1 25.1 23.7 28.7 37.2 22.6 16.4\n",
      " 25.  29.8 22.1 17.4 18.1 30.3 17.5 24.7 12.6 26.5 28.7 13.3 10.4 24.4\n",
      " 23.  20.  17.8  7.  11.8 24.4 13.8 19.4 25.2 19.4 19.4 29.1]\n"
     ]
    }
   ],
   "source": [
    "print(train_targets) # 단위: 천 달러"
   ]
  },
  {
   "cell_type": "code",
   "execution_count": 8,
   "metadata": {},
   "outputs": [],
   "source": [
    "mean = train_data.mean(axis=0)\n",
    "train_data -= mean\n",
    "\n",
    "std = train_data.std(axis=0)\n",
    "train_data /= std\n",
    "\n",
    "# 테스트 셋도 훈련 셋에서 계산된 mean과 std를 동일하게 사용함\n",
    "# 만약 각각 정규화를 수행해버리면, 학습 결과 적용이 불가능해짐\n",
    "test_data -= mean\n",
    "test_data /= std"
   ]
  },
  {
   "cell_type": "code",
   "execution_count": 9,
   "metadata": {},
   "outputs": [],
   "source": [
    "from tensorflow.keras.models import Sequential\n",
    "from tensorflow.keras.layers import Dense\n",
    "\n",
    "def build_model():\n",
    "    model = Sequential()\n",
    "    model.add(Dense(64, activation='relu', input_shape=(train_data.shape[1],)))\n",
    "    model.add(Dense(64, activation='relu'))\n",
    "    model.add(Dense(1)) # 회귀 모델 (출력층에 활성화 함수 없음)\n",
    "    \n",
    "    model.compile(optimizer='rmsprop', loss='mse', metrics=['mae'])\n",
    "    \n",
    "    return model"
   ]
  },
  {
   "cell_type": "code",
   "execution_count": 11,
   "metadata": {},
   "outputs": [
    {
     "name": "stdout",
     "output_type": "stream",
     "text": [
      ">> fold  0\n",
      ">> fold  1\n",
      ">> fold  2\n",
      ">> fold  3\n",
      "finished!!\n"
     ]
    }
   ],
   "source": [
    "import numpy as np\n",
    "\n",
    "k = 4\n",
    "num_val_samples = len(train_data) // k\n",
    "num_epochs = 100\n",
    "all_scores = []\n",
    "\n",
    "for i in range(k):\n",
    "    print('>> fold ', i)\n",
    "    val_data = train_data[i * num_val_samples: (i+1) * num_val_samples]\n",
    "    val_targets = train_targets[i * num_val_samples: (i+1) * num_val_samples]\n",
    "    \n",
    "    partial_train_data = np.concatenate([train_data[:i*num_val_samples],\n",
    "                                         train_data[(i+1) * num_val_samples:]],\n",
    "                                        axis=0)\n",
    "    partial_train_targets = np.concatenate([train_targets[:i*num_val_samples],\n",
    "                                            train_targets[(i+1) * num_val_samples:]],\n",
    "                                           axis=0)\n",
    "    \n",
    "    model = build_model()\n",
    "    model.fit(partial_train_data, \n",
    "              partial_train_targets,\n",
    "              epochs = num_epochs,\n",
    "              batch_size = 1,\n",
    "              verbose = 0)\n",
    "    \n",
    "    val_mse, val_mae = model.evaluate(val_data, val_targets, verbose=0)\n",
    "    all_scores.append(val_mae)\n",
    "\n",
    "print('finished!!')"
   ]
  },
  {
   "cell_type": "code",
   "execution_count": 12,
   "metadata": {},
   "outputs": [
    {
     "name": "stdout",
     "output_type": "stream",
     "text": [
      "[2.2316887, 2.6087942, 2.6762898, 2.389614]\n",
      "2.48 ±(0.18)\n"
     ]
    }
   ],
   "source": [
    "print(all_scores)\n",
    "mean = np.mean(all_scores)\n",
    "stddev = np.std(all_scores)\n",
    "\n",
    "print(u'%.2f \\u00B1(%.2f)'%(mean, stddev))"
   ]
  },
  {
   "cell_type": "code",
   "execution_count": 13,
   "metadata": {},
   "outputs": [
    {
     "name": "stdout",
     "output_type": "stream",
     "text": [
      "['loss', 'mean_absolute_error']\n"
     ]
    }
   ],
   "source": [
    "'''\n",
    "4-fold의 평균 validation MAE 그래프 그리기\n",
    "'''\n",
    "\n",
    "print(model.metrics_names)"
   ]
  },
  {
   "cell_type": "code",
   "execution_count": 10,
   "metadata": {},
   "outputs": [
    {
     "name": "stdout",
     "output_type": "stream",
     "text": [
      ">> fold  0\n",
      ">> fold  1\n",
      ">> fold  2\n",
      ">> fold  3\n",
      "finished!!\n"
     ]
    }
   ],
   "source": [
    "k = 4\n",
    "num_val_samples = len(train_data) // k\n",
    "num_epochs = 250\n",
    "all_mae_histories = []\n",
    "\n",
    "for i in range(k):\n",
    "    print('>> fold ', i)\n",
    "    val_data = train_data[i * num_val_samples: (i+1) * num_val_samples]\n",
    "    val_targets = train_targets[i * num_val_samples: (i+1) * num_val_samples]\n",
    "    \n",
    "    partial_train_data = np.concatenate([train_data[:i*num_val_samples],\n",
    "                                         train_data[(i+1) * num_val_samples:]],\n",
    "                                        axis=0)\n",
    "    partial_train_targets = np.concatenate([train_targets[:i*num_val_samples],\n",
    "                                            train_targets[(i+1) * num_val_samples:]],\n",
    "                                           axis=0)\n",
    "    \n",
    "    model = build_model()\n",
    "    hist = model.fit(partial_train_data, \n",
    "                     partial_train_targets,\n",
    "                     epochs = num_epochs,\n",
    "                     batch_size = 1,\n",
    "                     verbose = 0,\n",
    "                     validation_data = (val_data, val_targets))\n",
    "    \n",
    "    mae_history = hist.history['val_mean_absolute_error']\n",
    "    all_mae_histories.append(mae_history)\n",
    "    \n",
    "print('finished!!')"
   ]
  },
  {
   "cell_type": "code",
   "execution_count": 11,
   "metadata": {},
   "outputs": [],
   "source": [
    "average_mae_history = [\n",
    "    np.mean([x[i] for x in all_mae_histories]) for i in range(num_epochs)]\n",
    "\n",
    "# print 는 너무 길어서 걍 생략"
   ]
  },
  {
   "cell_type": "code",
   "execution_count": 12,
   "metadata": {},
   "outputs": [],
   "source": [
    "average_mae_history = []\n",
    "for epoch in range(num_epochs):\n",
    "    average_mae_per_epoch = []\n",
    "    \n",
    "    for mae_history in all_mae_histories: # 4개 fold 반복\n",
    "        average_mae_per_epoch.append(mae_history[epoch])\n",
    "    \n",
    "    mean = np.mean(average_mae_per_epoch)\n",
    "    average_mae_history.append(mean)"
   ]
  },
  {
   "cell_type": "code",
   "execution_count": 13,
   "metadata": {},
   "outputs": [
    {
     "data": {
      "image/png": "[encoded data removed]",
      "text/plain": [
       "<Figure size 432x288 with 1 Axes>"
      ]
     },
     "metadata": {
      "needs_background": "light"
     },
     "output_type": "display_data"
    }
   ],
   "source": [
    "import matplotlib.pyplot as plt\n",
    "\n",
    "# matplotlib이 Jupyter notebook 셀 안에서 생성되도록 함\n",
    "# https://versusall.tistory.com/entry/Jupyter-Notebook-4-%EC%99%B8%EB%B6%80%EC%B0%BD%EC%97%90%EC%84%9C-%EA%B7%B8%EB%9E%98%ED%94%84-%EA%B7%B8%EB%A6%AC%EA%B8%B0-matplotlib-inline-qt-tk%C2%B6\n",
    "%matplotlib inline\n",
    "\n",
    "plt.plot(range(1, len(average_mae_history) + 1), average_mae_history)\n",
    "plt.xlabel('Epochs')\n",
    "plt.ylabel('Validation MAE')\n",
    "plt.show()"
   ]
  },
  {
   "cell_type": "code",
   "execution_count": 14,
   "metadata": {},
   "outputs": [
    {
     "data": {
      "image/png": "[encoded data removed]",
      "text/plain": [
       "<Figure size 432x288 with 1 Axes>"
      ]
     },
     "metadata": {
      "needs_background": "light"
     },
     "output_type": "display_data"
    }
   ],
   "source": [
    "'''\n",
    "시계열 신호에 지수 이동 평균(exponential moving averge) 필터링\n",
    "'''\n",
    "def smooth_curve(points, factor=0.9):\n",
    "    smoothed_points = []\n",
    "    for point in points:\n",
    "        if smoothed_points:\n",
    "            prev = smoothed_points[-1]\n",
    "            smoothed_points.append(prev*factor + point*(1-factor))\n",
    "        else:\n",
    "            smoothed_points.append(point)\n",
    "    \n",
    "    return smoothed_points\n",
    "\n",
    "smooth_mae_history = smooth_curve(average_mae_history[10:])\n",
    "\n",
    "plt.plot(range(1, len(smooth_mae_history) + 1), smooth_mae_history)\n",
    "plt.xlabel('Epochs')\n",
    "plt.ylabel('Validation MAE')\n",
    "plt.show()"
   ]
  },
  {
   "cell_type": "code",
   "execution_count": 15,
   "metadata": {
    "scrolled": true
   },
   "outputs": [
    {
     "name": "stdout",
     "output_type": "stream",
     "text": [
      "Epoch 1/80\n",
      "404/404 [==============================] - 0s 348us/sample - loss: 506.5347 - mean_absolute_error: 20.4841\n",
      "Epoch 2/80\n",
      "404/404 [==============================] - 0s 163us/sample - loss: 341.7886 - mean_absolute_error: 16.2218 - loss: 357.9567 - mean_absolute_error: 16.59\n",
      "Epoch 3/80\n",
      "404/404 [==============================] - 0s 183us/sample - loss: 175.4588 - mean_absolute_error: 10.7911\n",
      "Epoch 4/80\n",
      "404/404 [==============================] - 0s 193us/sample - loss: 71.6970 - mean_absolute_error: 6.4424\n",
      "Epoch 5/80\n",
      "404/404 [==============================] - 0s 237us/sample - loss: 40.7013 - mean_absolute_error: 4.7520\n",
      "Epoch 6/80\n",
      "404/404 [==============================] - 0s 185us/sample - loss: 28.4515 - mean_absolute_error: 3.8549\n",
      "Epoch 7/80\n",
      "404/404 [==============================] - 0s 156us/sample - loss: 22.9386 - mean_absolute_error: 3.3907 - loss: 23.4242 - mean_absolute_error: 3.41\n",
      "Epoch 8/80\n",
      "404/404 [==============================] - 0s 156us/sample - loss: 20.3334 - mean_absolute_error: 3.1616\n",
      "Epoch 9/80\n",
      "404/404 [==============================] - 0s 160us/sample - loss: 18.1129 - mean_absolute_error: 2.9247\n",
      "Epoch 10/80\n",
      "404/404 [==============================] - 0s 163us/sample - loss: 16.6993 - mean_absolute_error: 2.8565\n",
      "Epoch 11/80\n",
      "404/404 [==============================] - 0s 158us/sample - loss: 15.1665 - mean_absolute_error: 2.6709\n",
      "Epoch 12/80\n",
      "404/404 [==============================] - 0s 158us/sample - loss: 14.5640 - mean_absolute_error: 2.6884\n",
      "Epoch 13/80\n",
      "404/404 [==============================] - 0s 153us/sample - loss: 13.7682 - mean_absolute_error: 2.6051\n",
      "Epoch 14/80\n",
      "404/404 [==============================] - 0s 148us/sample - loss: 13.1510 - mean_absolute_error: 2.5354\n",
      "Epoch 15/80\n",
      "404/404 [==============================] - 0s 168us/sample - loss: 12.6675 - mean_absolute_error: 2.5022\n",
      "Epoch 16/80\n",
      "404/404 [==============================] - 0s 165us/sample - loss: 12.2097 - mean_absolute_error: 2.4588\n",
      "Epoch 17/80\n",
      "404/404 [==============================] - 0s 165us/sample - loss: 11.7291 - mean_absolute_error: 2.4223\n",
      "Epoch 18/80\n",
      "404/404 [==============================] - 0s 158us/sample - loss: 11.1142 - mean_absolute_error: 2.3893\n",
      "Epoch 19/80\n",
      "404/404 [==============================] - 0s 153us/sample - loss: 10.9287 - mean_absolute_error: 2.3172\n",
      "Epoch 20/80\n",
      "404/404 [==============================] - 0s 158us/sample - loss: 10.5517 - mean_absolute_error: 2.2851\n",
      "Epoch 21/80\n",
      "404/404 [==============================] - 0s 158us/sample - loss: 10.6339 - mean_absolute_error: 2.3320\n",
      "Epoch 22/80\n",
      "404/404 [==============================] - 0s 165us/sample - loss: 10.3336 - mean_absolute_error: 2.2799\n",
      "Epoch 23/80\n",
      "404/404 [==============================] - 0s 168us/sample - loss: 10.0891 - mean_absolute_error: 2.2537\n",
      "Epoch 24/80\n",
      "404/404 [==============================] - 0s 163us/sample - loss: 9.8938 - mean_absolute_error: 2.2239\n",
      "Epoch 25/80\n",
      "404/404 [==============================] - 0s 168us/sample - loss: 9.7280 - mean_absolute_error: 2.2253\n",
      "Epoch 26/80\n",
      "404/404 [==============================] - 0s 173us/sample - loss: 9.6299 - mean_absolute_error: 2.1919\n",
      "Epoch 27/80\n",
      "404/404 [==============================] - 0s 170us/sample - loss: 9.5638 - mean_absolute_error: 2.1864\n",
      "Epoch 28/80\n",
      "404/404 [==============================] - 0s 160us/sample - loss: 9.3162 - mean_absolute_error: 2.1773\n",
      "Epoch 29/80\n",
      "404/404 [==============================] - 0s 165us/sample - loss: 9.3819 - mean_absolute_error: 2.1471\n",
      "Epoch 30/80\n",
      "404/404 [==============================] - 0s 170us/sample - loss: 9.2578 - mean_absolute_error: 2.1683\n",
      "Epoch 31/80\n",
      "404/404 [==============================] - 0s 168us/sample - loss: 8.9525 - mean_absolute_error: 2.1559\n",
      "Epoch 32/80\n",
      "404/404 [==============================] - 0s 168us/sample - loss: 8.8959 - mean_absolute_error: 2.1300\n",
      "Epoch 33/80\n",
      "404/404 [==============================] - 0s 160us/sample - loss: 9.0216 - mean_absolute_error: 2.1273\n",
      "Epoch 34/80\n",
      "404/404 [==============================] - 0s 163us/sample - loss: 8.9045 - mean_absolute_error: 2.1288\n",
      "Epoch 35/80\n",
      "404/404 [==============================] - 0s 170us/sample - loss: 8.6958 - mean_absolute_error: 2.1190\n",
      "Epoch 36/80\n",
      "404/404 [==============================] - 0s 173us/sample - loss: 8.5004 - mean_absolute_error: 2.0743\n",
      "Epoch 37/80\n",
      "404/404 [==============================] - 0s 158us/sample - loss: 8.6381 - mean_absolute_error: 2.0554\n",
      "Epoch 38/80\n",
      "404/404 [==============================] - 0s 173us/sample - loss: 8.3855 - mean_absolute_error: 2.0564\n",
      "Epoch 39/80\n",
      "404/404 [==============================] - 0s 173us/sample - loss: 8.4006 - mean_absolute_error: 2.0643\n",
      "Epoch 40/80\n",
      "404/404 [==============================] - 0s 173us/sample - loss: 8.2568 - mean_absolute_error: 2.0205\n",
      "Epoch 41/80\n",
      "404/404 [==============================] - 0s 160us/sample - loss: 8.2149 - mean_absolute_error: 2.0302\n",
      "Epoch 42/80\n",
      "404/404 [==============================] - 0s 173us/sample - loss: 7.8581 - mean_absolute_error: 1.9910\n",
      "Epoch 43/80\n",
      "404/404 [==============================] - 0s 170us/sample - loss: 8.1868 - mean_absolute_error: 2.0003\n",
      "Epoch 44/80\n",
      "404/404 [==============================] - 0s 158us/sample - loss: 7.9118 - mean_absolute_error: 1.9681\n",
      "Epoch 45/80\n",
      "404/404 [==============================] - 0s 183us/sample - loss: 7.9928 - mean_absolute_error: 1.9636\n",
      "Epoch 46/80\n",
      "404/404 [==============================] - 0s 173us/sample - loss: 7.8566 - mean_absolute_error: 1.9792\n",
      "Epoch 47/80\n",
      "404/404 [==============================] - 0s 163us/sample - loss: 7.8553 - mean_absolute_error: 1.9902\n",
      "Epoch 48/80\n",
      "404/404 [==============================] - 0s 163us/sample - loss: 7.6148 - mean_absolute_error: 1.9815\n",
      "Epoch 49/80\n",
      "404/404 [==============================] - 0s 165us/sample - loss: 7.7270 - mean_absolute_error: 1.9659\n",
      "Epoch 50/80\n",
      "404/404 [==============================] - 0s 175us/sample - loss: 7.6953 - mean_absolute_error: 1.9645\n",
      "Epoch 51/80\n",
      "404/404 [==============================] - 0s 170us/sample - loss: 7.6212 - mean_absolute_error: 1.9502\n",
      "Epoch 52/80\n",
      "404/404 [==============================] - 0s 168us/sample - loss: 7.4808 - mean_absolute_error: 1.9636\n",
      "Epoch 53/80\n",
      "404/404 [==============================] - 0s 168us/sample - loss: 7.4955 - mean_absolute_error: 1.9230\n",
      "Epoch 54/80\n",
      "404/404 [==============================] - 0s 170us/sample - loss: 7.3873 - mean_absolute_error: 1.8922\n",
      "Epoch 55/80\n",
      "404/404 [==============================] - 0s 173us/sample - loss: 7.5437 - mean_absolute_error: 1.9458\n",
      "Epoch 56/80\n",
      "404/404 [==============================] - 0s 163us/sample - loss: 7.1868 - mean_absolute_error: 1.8822\n",
      "Epoch 57/80\n",
      "404/404 [==============================] - 0s 165us/sample - loss: 7.2626 - mean_absolute_error: 1.8911\n",
      "Epoch 58/80\n",
      "404/404 [==============================] - 0s 158us/sample - loss: 7.1972 - mean_absolute_error: 1.9013\n",
      "Epoch 59/80\n",
      "404/404 [==============================] - 0s 170us/sample - loss: 7.1613 - mean_absolute_error: 1.8780\n",
      "Epoch 60/80\n",
      "404/404 [==============================] - 0s 163us/sample - loss: 7.1831 - mean_absolute_error: 1.8987\n",
      "Epoch 61/80\n",
      "404/404 [==============================] - 0s 151us/sample - loss: 7.0146 - mean_absolute_error: 1.8771\n",
      "Epoch 62/80\n",
      "404/404 [==============================] - 0s 165us/sample - loss: 6.9304 - mean_absolute_error: 1.8416\n",
      "Epoch 63/80\n",
      "404/404 [==============================] - 0s 183us/sample - loss: 6.8262 - mean_absolute_error: 1.8265\n",
      "Epoch 64/80\n",
      "404/404 [==============================] - 0s 163us/sample - loss: 6.9497 - mean_absolute_error: 1.8781\n",
      "Epoch 65/80\n",
      "404/404 [==============================] - 0s 183us/sample - loss: 6.7483 - mean_absolute_error: 1.8531\n",
      "Epoch 66/80\n",
      "404/404 [==============================] - 0s 180us/sample - loss: 6.9172 - mean_absolute_error: 1.8411\n",
      "Epoch 67/80\n",
      "404/404 [==============================] - 0s 173us/sample - loss: 6.8097 - mean_absolute_error: 1.8111\n",
      "Epoch 68/80\n",
      "404/404 [==============================] - 0s 178us/sample - loss: 6.8181 - mean_absolute_error: 1.8314\n",
      "Epoch 69/80\n",
      "404/404 [==============================] - 0s 175us/sample - loss: 6.6596 - mean_absolute_error: 1.7969\n",
      "Epoch 70/80\n"
     ]
    },
    {
     "name": "stdout",
     "output_type": "stream",
     "text": [
      "404/404 [==============================] - 0s 175us/sample - loss: 6.6789 - mean_absolute_error: 1.8111\n",
      "Epoch 71/80\n",
      "404/404 [==============================] - 0s 173us/sample - loss: 6.6409 - mean_absolute_error: 1.8175\n",
      "Epoch 72/80\n",
      "404/404 [==============================] - 0s 143us/sample - loss: 6.4728 - mean_absolute_error: 1.8199\n",
      "Epoch 73/80\n",
      "404/404 [==============================] - 0s 141us/sample - loss: 6.6059 - mean_absolute_error: 1.8000\n",
      "Epoch 74/80\n",
      "404/404 [==============================] - 0s 151us/sample - loss: 6.5238 - mean_absolute_error: 1.8231\n",
      "Epoch 75/80\n",
      "404/404 [==============================] - 0s 153us/sample - loss: 6.3049 - mean_absolute_error: 1.7582\n",
      "Epoch 76/80\n",
      "404/404 [==============================] - 0s 163us/sample - loss: 6.6176 - mean_absolute_error: 1.8088\n",
      "Epoch 77/80\n",
      "404/404 [==============================] - 0s 170us/sample - loss: 6.4235 - mean_absolute_error: 1.7252\n",
      "Epoch 78/80\n",
      "404/404 [==============================] - 0s 146us/sample - loss: 6.4146 - mean_absolute_error: 1.7712\n",
      "Epoch 79/80\n",
      "404/404 [==============================] - 0s 148us/sample - loss: 6.1261 - mean_absolute_error: 1.7644\n",
      "Epoch 80/80\n",
      "404/404 [==============================] - 0s 141us/sample - loss: 6.4592 - mean_absolute_error: 1.7785\n"
     ]
    },
    {
     "data": {
      "text/plain": [
       "<tensorflow.python.keras.callbacks.History at 0x1f659ae8b00>"
      ]
     },
     "execution_count": 15,
     "metadata": {},
     "output_type": "execute_result"
    }
   ],
   "source": [
    "# 기존 model 객체를 사용하면 이어서 학습되므로, 새로운 model 객체를 생성함\n",
    "model = build_model()\n",
    "model.fit(train_data, \n",
    "          train_targets,\n",
    "          epochs = 80,\n",
    "          batch_size = 16,\n",
    "          verbose = 1)"
   ]
  },
  {
   "cell_type": "code",
   "execution_count": 16,
   "metadata": {},
   "outputs": [
    {
     "name": "stdout",
     "output_type": "stream",
     "text": [
      "102/102 [==============================] - 0s 313us/sample - loss: 16.9047 - mean_absolute_error: 2.7197\n",
      "test MSE score: %.3f 16.904688666848575\n",
      "test MAE score: %.3f 2.7197444\n"
     ]
    }
   ],
   "source": [
    "test_mse_score, test_mae_score = model.evaluate(test_data, test_targets)\n",
    "print('test MSE score: %.3f', test_mse_score)\n",
    "print('test MAE score: %.3f', test_mae_score)"
   ]
  }
 ],
 "metadata": {
  "kernelspec": {
   "display_name": "keras1",
   "language": "python",
   "name": "ywkeras"
  },
  "language_info": {
   "codemirror_mode": {
    "name": "ipython",
    "version": 3
   },
   "file_extension": ".py",
   "mimetype": "text/x-python",
   "name": "python",
   "nbconvert_exporter": "python",
   "pygments_lexer": "ipython3",
   "version": "3.6.8"
  }
 },
 "nbformat": 4,
 "nbformat_minor": 2
}
