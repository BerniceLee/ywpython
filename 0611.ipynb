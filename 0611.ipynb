{
 "cells": [
  {
   "cell_type": "markdown",
   "metadata": {},
   "source": [
    "### 제어문장\n",
    "\n",
    "if (조건식):\n",
    "    실행문장\n",
    "    \n",
    "Tab : Space * 4"
   ]
  },
  {
   "cell_type": "code",
   "execution_count": 4,
   "metadata": {},
   "outputs": [
    {
     "name": "stdout",
     "output_type": "stream",
     "text": [
      "80점 미만\n",
      "점수 : 75\n"
     ]
    }
   ],
   "source": [
    "a=75\n",
    "if (a>=80) :\n",
    "    print(\"80점 이상\")\n",
    "    print(\"점수 : {0}\".format(a))\n",
    "else :\n",
    "    print(\"80점 미만\")\n",
    "    print(\"점수 : {0}\".format(a))"
   ]
  },
  {
   "cell_type": "code",
   "execution_count": 8,
   "metadata": {},
   "outputs": [
    {
     "name": "stdout",
     "output_type": "stream",
     "text": [
      "70점 이상 80점 미만\n",
      "점수 : 75\n"
     ]
    }
   ],
   "source": [
    "a=75\n",
    "if (a>=80) :\n",
    "    print(\"80점 이상\")\n",
    "    print(\"점수 : {point}\".format(point=a))\n",
    "elif (a>=70 & a<80) :\n",
    "    print(\"70점 이상 80점 미만\")\n",
    "    print(\"점수 : {point}\".format(point=a))\n",
    "else :\n",
    "    print(\"70점 미만\")\n",
    "    print(\"점수 : {point}\".format(point=a))"
   ]
  },
  {
   "cell_type": "markdown",
   "metadata": {},
   "source": [
    "### 삼항연산자\n",
    "\n",
    "(참인 경우) if 조건 else (거짓인 경우 값)"
   ]
  },
  {
   "cell_type": "code",
   "execution_count": 9,
   "metadata": {},
   "outputs": [
    {
     "name": "stdout",
     "output_type": "stream",
     "text": [
      "점수 : 75\n",
      "불합격\n"
     ]
    }
   ],
   "source": [
    "a=75\n",
    "res=\"합격\" if(a>=80) else \"불합격\"\n",
    "print(\"점수 : {point}\\n{result}\".format(point=a, result=res))"
   ]
  },
  {
   "cell_type": "code",
   "execution_count": 10,
   "metadata": {},
   "outputs": [
    {
     "name": "stdout",
     "output_type": "stream",
     "text": [
      "점수 : 75\n",
      "재시험\n"
     ]
    }
   ],
   "source": [
    "# 삼항연산자 중복 사용 가능\n",
    "a=75\n",
    "res=\"합격\" if(a>=80) else (\"재시험\" if (a>=70) else \"불합격\")\n",
    "print(\"점수 : {point}\\n{result}\".format(point=a, result=res))"
   ]
  },
  {
   "cell_type": "markdown",
   "metadata": {},
   "source": [
    "### 반복문\n",
    "\n",
    "for 변수 in [a1, a2, a3, .., ak] :\n",
    "    실행문장\n",
    "    \n",
    "for 변수 in range (a,b,k) :\n",
    "    실행문\n",
    "    * a: 시작값, b: 끝값 + 1"
   ]
  },
  {
   "cell_type": "code",
   "execution_count": 11,
   "metadata": {},
   "outputs": [
    {
     "name": "stdout",
     "output_type": "stream",
     "text": [
      "1번학생 성적 처리...\n",
      "3번학생 성적 처리...\n",
      "5번학생 성적 처리...\n",
      "7번학생 성적 처리...\n"
     ]
    }
   ],
   "source": [
    "for i in [1,3,5,7] : \n",
    "    print(\"{0}번학생 성적 처리...\".format(i))"
   ]
  },
  {
   "cell_type": "code",
   "execution_count": 15,
   "metadata": {
    "scrolled": true
   },
   "outputs": [
    {
     "name": "stdout",
     "output_type": "stream",
     "text": [
      "1번학생 성적 처리...\n",
      "3번학생 성적 처리...\n",
      "5번학생 성적 처리...\n",
      "7번학생 성적 처리...\n",
      "9번학생 성적 처리...\n"
     ]
    }
   ],
   "source": [
    "for i in range (1,10,2) :\n",
    "    print(\"{0}번학생 성적 처리...\".format(i))"
   ]
  },
  {
   "cell_type": "code",
   "execution_count": 19,
   "metadata": {},
   "outputs": [
    {
     "name": "stdout",
     "output_type": "stream",
     "text": [
      "수열 전체합=39\n",
      "4!=24\n"
     ]
    }
   ],
   "source": [
    "csum=0\n",
    "for i in [3,2,5,7,3,5,6,7,1] :\n",
    "    csum+=i\n",
    "print(\"수열 전체합={0}\".format(csum))\n",
    "\n",
    "cmult=1\n",
    "n=4\n",
    "for i in range (1,(n+1)) :\n",
    "    cmult*=i\n",
    "print(\"{0}!={1}\".format(n,cmult))"
   ]
  },
  {
   "cell_type": "code",
   "execution_count": 21,
   "metadata": {},
   "outputs": [
    {
     "name": "stdout",
     "output_type": "stream",
     "text": [
      "- - - - - - - - - + - - - - - - - - - + - - - - - - - - - + - - - - - - - - - + - - - - - - - - - + "
     ]
    }
   ],
   "source": [
    "# 반복문 내의 end 인수\n",
    "# 각 for 문이 돌때마다 프린트 값의 끝에 구분점을 두기위해 사용한\n",
    "\n",
    "for i in range (1,51) : # 10번째 문자마다 + 출\n",
    "    if (i%10==0) :\n",
    "        print(\"+\", end=\" \")\n",
    "    else : \n",
    "        print(\"-\", end=\" \")"
   ]
  },
  {
   "cell_type": "code",
   "execution_count": 22,
   "metadata": {},
   "outputs": [
    {
     "name": "stdout",
     "output_type": "stream",
     "text": [
      "1 x 2 = 2\t1 x 4 = 4\t1 x 6 = 6\t1 x 8 = 8\n",
      "2 x 2 = 4\t2 x 4 = 8\t2 x 6 = 12\t2 x 8 = 16\n",
      "3 x 2 = 6\t3 x 4 = 12\t3 x 6 = 18\t3 x 8 = 24\n",
      "4 x 2 = 8\t4 x 4 = 16\t4 x 6 = 24\t4 x 8 = 32\n",
      "5 x 2 = 10\t5 x 4 = 20\t5 x 6 = 30\t5 x 8 = 40\n",
      "6 x 2 = 12\t6 x 4 = 24\t6 x 6 = 36\t6 x 8 = 48\n",
      "7 x 2 = 14\t7 x 4 = 28\t7 x 6 = 42\t7 x 8 = 56\n",
      "8 x 2 = 16\t8 x 4 = 32\t8 x 6 = 48\t8 x 8 = 64\n",
      "9 x 2 = 18\t9 x 4 = 36\t9 x 6 = 54\t9 x 8 = 72\n"
     ]
    }
   ],
   "source": [
    "# 구구단 (for)\n",
    "\n",
    "for i in range (1,10) :\n",
    "    for j in [2,4,6,8] :\n",
    "        if (j!=8) :\n",
    "            print(\"{0} x {1} = {2}\".format(i,j,i*j), end=\"\\t\")\n",
    "        else :\n",
    "            print(\"{0} x {1} = {2}\".format(i,j,i*j))"
   ]
  },
  {
   "cell_type": "markdown",
   "metadata": {},
   "source": [
    "### while 문\n",
    "\n",
    "while (조건식) :\n",
    "    실행결과\n",
    "    \n",
    "> for 변수 in range [a,b,k] :\n",
    "    실행문장\n",
    "    \n",
    "> 변수=a\n",
    "while (변수 < b) :\n",
    "    실행문장\n",
    "    변수+=k\n",
    "    \n",
    "두 반복문은 같은 의미"
   ]
  },
  {
   "cell_type": "code",
   "execution_count": 1,
   "metadata": {},
   "outputs": [
    {
     "name": "stdout",
     "output_type": "stream",
     "text": [
      "0번학생 성적 처리...\n",
      "1번학생 성적 처리...\n",
      "2번학생 성적 처리...\n",
      "3번학생 성적 처리...\n",
      "0번학생 성적 처리...\n",
      "1번학생 성적 처리...\n",
      "2번학생 성적 처리...\n",
      "3번학생 성적 처리...\n"
     ]
    }
   ],
   "source": [
    "for i in range (4) :\n",
    "    print(\"{0}번학생 성적 처리...\".format(i))\n",
    "    \n",
    "i=0\n",
    "while (i<4) :\n",
    "    print(\"{0}번학생 성적 처리...\".format(i))\n",
    "    i+=1"
   ]
  },
  {
   "cell_type": "code",
   "execution_count": 4,
   "metadata": {},
   "outputs": [
    {
     "name": "stdout",
     "output_type": "stream",
     "text": [
      "1~50까지 합계 = 50\n"
     ]
    }
   ],
   "source": [
    "# for 문, while 문을 이용한 시그마값 구하기\n",
    "\n",
    "fcsum=0\n",
    "for i in range (1,51) :\n",
    "    fcsum+=1\n",
    "print(\"1~50까지 합계 = {0}\".format(fcsum))\n",
    "\n",
    "wcsum=0\n",
    "i=1\n",
    "while (i<51) :\n",
    "    wcsum+=1\n",
    "    i+=1"
   ]
  },
  {
   "cell_type": "code",
   "execution_count": 5,
   "metadata": {},
   "outputs": [
    {
     "name": "stdout",
     "output_type": "stream",
     "text": [
      "6! = 1\n",
      "6! = 120\n"
     ]
    }
   ],
   "source": [
    "# for 문, while 문을 이용한 팩토리얼값 구하기\n",
    "\n",
    "n=6\n",
    "ffact=1\n",
    "for i in range (1,(n+1)) :\n",
    "    ffact*=1\n",
    "print(\"{0}! = {1}\".format(n,ffact))\n",
    "\n",
    "wfact=1\n",
    "i=1\n",
    "while (i<n) :\n",
    "    wfact*=i\n",
    "    i+=1\n",
    "print(\"{0}! = {1}\".format(n,wfact))"
   ]
  },
  {
   "cell_type": "code",
   "execution_count": 6,
   "metadata": {},
   "outputs": [
    {
     "name": "stdout",
     "output_type": "stream",
     "text": [
      "1 x 2 = 2\t1 x 4 = 4\t1 x 6 = 6\t1 x 8 = 8\n",
      "2 x 2 = 4\t2 x 4 = 8\t2 x 6 = 12\t2 x 8 = 16\n",
      "3 x 2 = 6\t3 x 4 = 12\t3 x 6 = 18\t3 x 8 = 24\n",
      "4 x 2 = 8\t4 x 4 = 16\t4 x 6 = 24\t4 x 8 = 32\n",
      "5 x 2 = 10\t5 x 4 = 20\t5 x 6 = 30\t5 x 8 = 40\n",
      "6 x 2 = 12\t6 x 4 = 24\t6 x 6 = 36\t6 x 8 = 48\n",
      "7 x 2 = 14\t7 x 4 = 28\t7 x 6 = 42\t7 x 8 = 56\n",
      "8 x 2 = 16\t8 x 4 = 32\t8 x 6 = 48\t8 x 8 = 64\n",
      "9 x 2 = 18\t9 x 4 = 36\t9 x 6 = 54\t9 x 8 = 72\n"
     ]
    }
   ],
   "source": [
    "# 구구단 (while)\n",
    "\n",
    "i=1\n",
    "while (i<10) :\n",
    "    j=2\n",
    "    while (j<=8):\n",
    "        if (j!=8) :\n",
    "            print(\"{0} x {1} = {2}\".format(i,j,i*j), end=\"\\t\")\n",
    "        else :\n",
    "            print(\"{0} x {1} = {2}\".format(i,j,i*j))\n",
    "        j+=2\n",
    "    i+=1"
   ]
  },
  {
   "cell_type": "markdown",
   "metadata": {},
   "source": [
    "### 분기문\n",
    "\n",
    "##### break문\n",
    "* 반복문 내에서 break 걸리면 loop 종료\n",
    "\n",
    "##### continue 문\n",
    "* 반복문 내에서 continue 걸리면 loop 상단으로 이동, loop 재시작"
   ]
  },
  {
   "cell_type": "code",
   "execution_count": null,
   "metadata": {},
   "outputs": [
    {
     "name": "stdout",
     "output_type": "stream",
     "text": [
      "\n",
      "1번째 게산\n",
      "3번 계산하면 종료됩니다.\n",
      "\n"
     ]
    }
   ],
   "source": [
    "for i in range(3) :\n",
    "    print(\"\\n{0}번째 게산\\n3번 계산하면 종료됩니다.\\n\".format(i+1))\n",
    "    a=int(input(\"더하고자 하는 첫 값 입력 (정수) : \"))\n",
    "    for j in range(2) :\n",
    "        b=int(input(\"더하고자 하는 두번째 값 입력 (정수) : \"))\n",
    "    print(\"{0} + {1} = {2}\".format(a,b,a+b))\n",
    "print(\"계산 종료\")"
   ]
  },
  {
   "cell_type": "markdown",
   "metadata": {},
   "source": [
    "### 컨테이너 자료형\n",
    "\n",
    "##### 리스트\n",
    "* 리스트이름 = [a,b,c,d,e]\n",
    "    * 리스트 내의 자료형은 다를 수 있음\n",
    "    \n",
    "* list() ; 빈 리스트를 생성하거나 다른 자료형의 데이터를 리스트로 변환\n",
    "    * 리스트이름 = list(x)\n",
    "    * x : iterable data\n",
    "\n",
    "* 리스트의 비교\n",
    "    * 같은 위치에 같은 값이 있어야 같은 리스트라고 판단함\n",
    "\n",
    "* 리스트는 변경 가능한(mutable) 객체\n",
    "    * 리스트 생성 이후, 리스트에 데이터를 추가, 삭제, 수정이 가능하다\n",
    "        * 원소 수정을 위해서는 indexing, slicing 사용"
   ]
  },
  {
   "cell_type": "code",
   "execution_count": 1,
   "metadata": {},
   "outputs": [
    {
     "data": {
      "text/plain": [
       "list_reverseiterator"
      ]
     },
     "execution_count": 1,
     "metadata": {},
     "output_type": "execute_result"
    }
   ],
   "source": [
    "# list reversed, iterator 자료형\n",
    "\n",
    "aa=reversed([33,5,44,2,345])\n",
    "bb=iter(aa)\n",
    "list(aa)\n",
    "type(bb)\n",
    "# type 부분에 iterator 가 붙은걸 볼 수 있다"
   ]
  },
  {
   "cell_type": "code",
   "execution_count": 1,
   "metadata": {},
   "outputs": [
    {
     "name": "stdout",
     "output_type": "stream",
     "text": [
      "1476703477872\n",
      "1476703478160 1476703478032\n"
     ]
    }
   ],
   "source": [
    "# mutable 자료형에 대해\n",
    "\n",
    "A=26152\n",
    "print(id(A))\n",
    "A=4732\n",
    "B=A\n",
    "A=328495\n",
    "print(id(A), id(B))\n",
    "# id 값도 변경이 된다."
   ]
  },
  {
   "cell_type": "code",
   "execution_count": 9,
   "metadata": {},
   "outputs": [
    {
     "name": "stdout",
     "output_type": "stream",
     "text": [
      "ID : 1476667532360\t[3, 2, 5, 6, 4]\n",
      "ID : 1476667532360\t[3, 2, 372638, 6, 4]\n",
      "ID : 1476667532360\t[52, 88, 44, 6, 4]\n",
      "ID : 1476667532360\t[52, 99999, 4]\n",
      "ID : 1476667532360\t[52, 'K', 'I', 'M']\n",
      "ID : 1476667532360\t[52, 'T', 'I', 'P', 'M']\n"
     ]
    }
   ],
   "source": [
    "# list indexing, slicing\n",
    "\n",
    "lsobj=[3,2,5,6,4]\n",
    "print(\"ID : {0}\\t{1}\".format(id(lsobj),lsobj))\n",
    "lsobj[2]=372638 # indexing\n",
    "print(\"ID : {0}\\t{1}\".format(id(lsobj),lsobj))\n",
    "lsobj[:3]=[52,88,44] # slicing\n",
    "print(\"ID : {0}\\t{1}\".format(id(lsobj),lsobj))\n",
    "lsobj[1:4]=[99999]\n",
    "print(\"ID : {0}\\t{1}\".format(id(lsobj),lsobj))\n",
    "# iterable 한 값으로 덮어씌워야함. 이런 형식으로는 한번에 같은 값을 여럭 못 씌움\n",
    "lsobj[1:4]=\"KIM\"\n",
    "print(\"ID : {0}\\t{1}\".format(id(lsobj),lsobj))\n",
    "# 글자를 하나하나씩 뽑아서 넣음\n",
    "lsobj[1:3]=\"TIP\"\n",
    "print(\"ID : {0}\\t{1}\".format(id(lsobj),lsobj))\n",
    "# 영역이 1,2 두개라고 못들어 가는게 아니라, 1,2번 영역에 3개를 집어넣은거임"
   ]
  },
  {
   "cell_type": "markdown",
   "metadata": {},
   "source": [
    "##### 리스트에서 사용하는 연산자\n",
    "\n",
    "* .+ : 리스트 연결\n",
    "* n* 또는 *n : 리스트 반복\n",
    "* += : 리스트 연결 후 대입\n",
    "* *=n : 리스트 반복 후 대입\n",
    "* del : 리스트 원소 또는 리스트 삭제\n",
    "* in : 리스트 원소 내에 값의 존재여부\n",
    "* not in : 리스트 원소 내에 값의 미존재여부"
   ]
  },
  {
   "cell_type": "code",
   "execution_count": 16,
   "metadata": {},
   "outputs": [
    {
     "name": "stdout",
     "output_type": "stream",
     "text": [
      "[2, 5, 3, 100, 200]\n",
      "[2, 5, 3, 2, 5, 3]\n",
      "True\n"
     ]
    },
    {
     "data": {
      "text/plain": [
       "[3, 5, 2]"
      ]
     },
     "execution_count": 16,
     "metadata": {},
     "output_type": "execute_result"
    }
   ],
   "source": [
    "ls1=[2,5,3]\n",
    "ls2=[100,200]\n",
    "print(ls1+ls2)\n",
    "n=2\n",
    "print(ls1*n)\n",
    "print(2 in ls1)\n",
    "rr=reversed(ls1)\n",
    "list(rr)"
   ]
  },
  {
   "cell_type": "markdown",
   "metadata": {},
   "source": [
    "##### 리스트에서 사용하는 연산자\n",
    "\n",
    "* append(x) : 리스트 맨 뒤에 데이터 x 추가\n",
    "* insert(x) : 리스트의 인덱스 i에 x 삽입\n",
    "* extend(x) : 리스트에 iterable 자료 x를 연결\n",
    "\n",
    "* pop()/pop(i) : 맨 마지막 인덱스 자료 삭제하고 반환 / pop(i)는 인덱스 i의 자료 삭제하고 반환\n",
    "* remove(x) : 리스트에서 데이터 x 삭제\n",
    "* clear() : 리스트 비우기 (리스트 원소 모두 삭제)\n",
    "\n",
    "* index(x) : 데이터 x의 인덱스 반환 (없으면 ValueError)\n",
    "* copy() : 리스트 복사하여 새로운 리스트 반환\n",
    "\n",
    "* count(x) : 데이터 x의 갯수 반환\n",
    "* reversed() : 역순으로 생성\n",
    "* sort() : 리스트 정렬"
   ]
  },
  {
   "cell_type": "code",
   "execution_count": 23,
   "metadata": {},
   "outputs": [
    {
     "data": {
      "text/plain": [
       "[257, 899]"
      ]
     },
     "execution_count": 23,
     "metadata": {},
     "output_type": "execute_result"
    }
   ],
   "source": [
    "A=[4,6,5,4,7]\n",
    "A.append([257,899])\n",
    "A.pop()"
   ]
  },
  {
   "cell_type": "code",
   "execution_count": 26,
   "metadata": {},
   "outputs": [
    {
     "data": {
      "text/plain": [
       "5"
      ]
     },
     "execution_count": 26,
     "metadata": {},
     "output_type": "execute_result"
    }
   ],
   "source": [
    "A=[4,6,5,4,7]\n",
    "A.append([257,899])\n",
    "A.index([257,899])"
   ]
  },
  {
   "cell_type": "code",
   "execution_count": 37,
   "metadata": {},
   "outputs": [
    {
     "data": {
      "text/plain": [
       "[4, 6, 5, 4, 7, [257, 899]]"
      ]
     },
     "execution_count": 37,
     "metadata": {},
     "output_type": "execute_result"
    }
   ],
   "source": [
    "A=[4,6,5,4,7]\n",
    "A.append([257,899])\n",
    "# A.extend(999)\n",
    "# extend : 괄호 안에는 반드시 iterable 한 자료로 넣어야함. 고로 list 형태로 넣어줘야함.\n",
    "B=A.copy()\n",
    "B"
   ]
  },
  {
   "cell_type": "code",
   "execution_count": 40,
   "metadata": {},
   "outputs": [
    {
     "data": {
      "text/plain": [
       "[-3, 5, 6, 7, 7, -12]"
      ]
     },
     "execution_count": 40,
     "metadata": {},
     "output_type": "execute_result"
    }
   ],
   "source": [
    "ls=[-3,5,7,-12,7,6]\n",
    "ls.sort(key=abs) # ㅏ됴=뮨 >> 절대값 순으로 정렬\n",
    "ls"
   ]
  },
  {
   "cell_type": "code",
   "execution_count": 41,
   "metadata": {},
   "outputs": [
    {
     "data": {
      "text/plain": [
       "[4, 2]"
      ]
     },
     "execution_count": 41,
     "metadata": {},
     "output_type": "execute_result"
    }
   ],
   "source": [
    "# 리스트 안의 리스트\n",
    "\n",
    "ls=[[1,4,3,5,5,10,6],\n",
    "   [3,2,6,4,2,1],\n",
    "   [6,4,2,610,5,33,2,1]]\n",
    "ls[1][3:5] # 두번째 리스트의 4~5번째 원"
   ]
  },
  {
   "cell_type": "code",
   "execution_count": 42,
   "metadata": {},
   "outputs": [
    {
     "data": {
      "text/plain": [
       "[4.857142857142857, 3.0, 82.875]"
      ]
     },
     "execution_count": 42,
     "metadata": {},
     "output_type": "execute_result"
    }
   ],
   "source": [
    "# 평균값 저장 리스트\n",
    "\n",
    "avg=[]\n",
    "for i in range(len(ls)) : \n",
    "    avg.append(sum(ls[i])/len(ls[i]))\n",
    "avg"
   ]
  },
  {
   "cell_type": "markdown",
   "metadata": {},
   "source": [
    "### 컨테이너 자료형\n",
    "##### 튜플\n",
    "튜플이름 = (a,b,c,d)\n",
    "튜플이름 = a,b,c,d\n",
    "    * 소괄호 생략 가능\n",
    "\n",
    "* 튜플 : 읽기전용 / 데이터 수정 불가능\n",
    "\n",
    "* 튜플 내 원소가 하나만 들어가더라도 , 를 찍어줘야함\n",
    "    * 튜플이름 = a,"
   ]
  },
  {
   "cell_type": "code",
   "execution_count": 44,
   "metadata": {},
   "outputs": [
    {
     "data": {
      "text/plain": [
       "(tuple, int, tuple)"
      ]
     },
     "execution_count": 44,
     "metadata": {},
     "output_type": "execute_result"
    }
   ],
   "source": [
    "A=(365,447,876); B=(445); C=(657,)\n",
    "type(A), type(B), type(C)"
   ]
  },
  {
   "cell_type": "markdown",
   "metadata": {},
   "source": [
    "##### 튜플의 indexing, slicing\n",
    "\n",
    "원소 자체는 수정할 수 없지만, 각 원소의 index 값은 수정 가능\n",
    "\n",
    "* 다만, 튜플 내의 리스트가 mutable 하다면 (리스트, 집합, 사전) 수정이 가능함"
   ]
  },
  {
   "cell_type": "code",
   "execution_count": 48,
   "metadata": {},
   "outputs": [
    {
     "name": "stdout",
     "output_type": "stream",
     "text": [
      "(234, 22)\n",
      "(166, 234, 25)\n",
      "([25, 1054, 2215, 77], [54, 7, 22])\n"
     ]
    }
   ],
   "source": [
    "tobj=(25,333,66,234,6,22,166)\n",
    "print(tobj[3:6:2])\n",
    "print(tobj[::-3])\n",
    "\n",
    "tobj2=([25,66,77], [54,7,22])\n",
    "tobj2[0][1:2]=[1054,2215]\n",
    "print(tobj2)"
   ]
  },
  {
   "cell_type": "markdown",
   "metadata": {},
   "source": [
    "##### 튜플에서 사용하는 메소드\n",
    "\n",
    "원소 자체 변경이 불가하므로, index,count 두가지만 사용한다.\n",
    "\n",
    "* index()\n",
    "* count(x)\n",
    "\n",
    "튜플의 각 원소는 개별 변수에 저장 가능"
   ]
  },
  {
   "cell_type": "code",
   "execution_count": 49,
   "metadata": {},
   "outputs": [
    {
     "name": "stdout",
     "output_type": "stream",
     "text": [
      "a=25, b=44, c=32\n"
     ]
    }
   ],
   "source": [
    "tp=(25,44,32)\n",
    "a,b,c=tp\n",
    "print(\"a={0}, b={1}, c={2}\".format(a,b,c))"
   ]
  },
  {
   "cell_type": "markdown",
   "metadata": {},
   "source": [
    "### 컨테이너 자료형\n",
    "##### 집합\n",
    "\n",
    "집합이름 = {a,b,c,d}\n",
    "\n",
    "* 집합 내의 중복된 원소는 하나로 간주\n",
    "* 순서 개념이 없다. (index 못씀)\n",
    "* 집합 내에는 immutable 한 자료형만 저장이 가능하다.\n",
    "\n",
    "\n",
    "* set() : 공집합 생성\n",
    "* 집합의 비교 : 같은 원소를 내포하고 있으면 같은 것으로 간주한다."
   ]
  },
  {
   "cell_type": "code",
   "execution_count": 53,
   "metadata": {},
   "outputs": [
    {
     "name": "stdout",
     "output_type": "stream",
     "text": [
      "<class 'dict'> <class 'set'>\n"
     ]
    }
   ],
   "source": [
    "A={} # 중괄호가 비어있는 경우에는 dictionary 형으로 인식한다\n",
    "B=set() # 비어있는 집합 만들기\n",
    "print(type(A), type(B))"
   ]
  },
  {
   "cell_type": "code",
   "execution_count": 55,
   "metadata": {},
   "outputs": [
    {
     "name": "stdout",
     "output_type": "stream",
     "text": [
      "<class 'set'> {(5, 2, 1, 2, 3, 6), 34, 'A'}\n"
     ]
    },
    {
     "ename": "TypeError",
     "evalue": "unhashable type: 'list'",
     "output_type": "error",
     "traceback": [
      "\u001b[1;31m---------------------------------------------------------------------------\u001b[0m",
      "\u001b[1;31mTypeError\u001b[0m                                 Traceback (most recent call last)",
      "\u001b[1;32m<ipython-input-55-95ecc4c6c8a2>\u001b[0m in \u001b[0;36m<module>\u001b[1;34m\u001b[0m\n\u001b[0;32m      3\u001b[0m \u001b[0mC\u001b[0m\u001b[1;33m=\u001b[0m\u001b[1;33m{\u001b[0m\u001b[0mB\u001b[0m\u001b[1;33m,\u001b[0m\u001b[1;36m34\u001b[0m\u001b[1;33m,\u001b[0m\u001b[1;34m\"A\"\u001b[0m\u001b[1;33m}\u001b[0m\u001b[1;33m\u001b[0m\u001b[1;33m\u001b[0m\u001b[0m\n\u001b[0;32m      4\u001b[0m \u001b[0mprint\u001b[0m\u001b[1;33m(\u001b[0m\u001b[0mtype\u001b[0m\u001b[1;33m(\u001b[0m\u001b[0mC\u001b[0m\u001b[1;33m)\u001b[0m\u001b[1;33m,\u001b[0m\u001b[0mC\u001b[0m\u001b[1;33m)\u001b[0m \u001b[1;31m# immutable 한 원소들만 있으므로 집합 생성이 가능함\u001b[0m\u001b[1;33m\u001b[0m\u001b[1;33m\u001b[0m\u001b[0m\n\u001b[1;32m----> 5\u001b[1;33m \u001b[0mC\u001b[0m\u001b[1;33m=\u001b[0m\u001b[1;33m{\u001b[0m\u001b[0mA\u001b[0m\u001b[1;33m,\u001b[0m\u001b[1;36m34\u001b[0m\u001b[1;33m,\u001b[0m\u001b[1;34m\"A\"\u001b[0m\u001b[1;33m}\u001b[0m\u001b[1;33m\u001b[0m\u001b[1;33m\u001b[0m\u001b[0m\n\u001b[0m",
      "\u001b[1;31mTypeError\u001b[0m: unhashable type: 'list'"
     ]
    }
   ],
   "source": [
    "A=[3,5,6,3.2]\n",
    "B=(5,2,1,2,3,6)\n",
    "C={B,34,\"A\"}\n",
    "print(type(C),C) # immutable 한 원소들만 있으므로 집합 생성이 가능함\n",
    "C={A,34,\"A\"} # 이렇게 하는 경우 TypeError : 리스트는 mutable 한 자료형이므로 원소로 취할 수 없음"
   ]
  },
  {
   "cell_type": "markdown",
   "metadata": {},
   "source": [
    "##### 집합의 indeing, slicing\n",
    "\n",
    "집합은 순서 개념이 없어서 indexing, slicing 자체가 불가함\n",
    "\n",
    "자료를 변형하고자 할 때는, 메소드를 이용하여 변형 해줘야함\n",
    "\n",
    "##### 집합에서 사용하는 함수\n",
    "\n",
    "* len(S) : 집합 원소 갯수\n",
    "* max(S)\n",
    "* min(S)\n",
    "* sum(S)\n",
    "* sorted(S) : 원소 오름차순 정렬\n",
    "\n",
    "##### 집합에서 사용하는 메소드\n",
    "\n",
    "* add(x)\n",
    "* copy()\n",
    "* clear()\n",
    "* discard(x) : 집합에서 원소 삭제 (원소가 존재하지 않는 경우, 아무 작업도 하지 않음)\n",
    "* pop()\n",
    "* remove(x) : 집합에서 원소 삭제 (원소가 존재하지 않는 경우, KeyError 발생후 종료)"
   ]
  },
  {
   "cell_type": "code",
   "execution_count": 57,
   "metadata": {},
   "outputs": [
    {
     "name": "stdout",
     "output_type": "stream",
     "text": [
      "{64, 65, 37, 332, 77, 25}\n",
      "{65, 37, 332, 77, 25}\n",
      "{65, 37, 332, 77, 25}\n",
      "{65, 332, 77, 25}\n"
     ]
    }
   ],
   "source": [
    "st={25,65,64,37,77}\n",
    "st.add(332) # 지정 순서가 없기 때문에 아무데나 원소를 집어넣음\n",
    "print(st)\n",
    "st.pop()\n",
    "print(st)\n",
    "st.discard(33)\n",
    "print(st)\n",
    "st.remove(37)\n",
    "print(st)"
   ]
  },
  {
   "cell_type": "markdown",
   "metadata": {},
   "source": [
    "##### 집합의 연산 메소드\n",
    "\n",
    "* union(B) : 합집합 결과\n",
    "* update(B) : 합집합 결과 + 덮어쓰기\n",
    "\n",
    "\n",
    "* intersection(B) : 교집합 결과\n",
    "* intersection_update(B) : 교집합 결과 + 덮어쓰기\n",
    "\n",
    "\n",
    "* difference(B) : 차집합 결과\n",
    "* difference_update(B) : 차집합 결과 + 덮어쓰기\n",
    "* symmetric_difference(B) : B와 각각의 차집합과 교집합\n",
    "* symmetric_difference_update(B) : B와 각각의 차집합과 교집합 + 덮어쓰기\n",
    "\n",
    "\n",
    "* issubset(B) : B의 부분집합인지 여부\n",
    "* issuperset(B) : B가 부분집합인지 여부\n",
    "\n",
    "\n",
    "* isdisjoint(B) : 서로소 여부"
   ]
  },
  {
   "cell_type": "markdown",
   "metadata": {},
   "source": [
    "##### frozenset\n",
    "\n",
    "frozenset(요소)\n",
    "\n",
    "* 내부 요소 수정이 안됨\n",
    "* 유일 요소만 넣을 수 있음\n",
    "    * frozenset({list}) 이런식으로\n",
    "* add, pop 등의 method 는 사용 불가\n",
    "* 내부의 원소가 몇개인진 알 수 있음 (len(S))"
   ]
  },
  {
   "cell_type": "markdown",
   "metadata": {},
   "source": [
    "### 컨테이너 자료형\n",
    "##### 사전\n",
    "\n",
    "사전이름 = {\"key1\" : value1, \"key2\" : value2, ....}\n",
    "\n",
    "* key : index 역할로 immutable 형만 사용가능"
   ]
  }
 ],
 "metadata": {
  "kernelspec": {
   "display_name": "ywkernel1",
   "language": "python",
   "name": "ywpython"
  },
  "language_info": {
   "codemirror_mode": {
    "name": "ipython",
    "version": 3
   },
   "file_extension": ".py",
   "mimetype": "text/x-python",
   "name": "python",
   "nbconvert_exporter": "python",
   "pygments_lexer": "ipython3",
   "version": "3.6.8"
  }
 },
 "nbformat": 4,
 "nbformat_minor": 2
}
