{
 "cells": [
  {
   "cell_type": "markdown",
   "metadata": {},
   "source": [
    "# 빅데이터 전처리 및 시각화"
   ]
  },
  {
   "cell_type": "markdown",
   "metadata": {},
   "source": [
    "### 패키지\n",
    "\n",
    "패키지 : 모듈의 묶음\n",
    "파이썬에서는 패키지를 하나의 라이브러리로 이해함\n",
    "\n",
    "> conda install 패키지이름\n",
    "\n",
    "numpy, pandas 설치\n",
    "> pip install numpy pandas\n",
    "\n",
    "> pip show 패키지 : 패키지 속성 열람 가능"
   ]
  },
  {
   "cell_type": "markdown",
   "metadata": {},
   "source": [
    "### NumPy\n",
    "\n",
    "* 벡터 산술연산, 다차원 배열 제공 패키지\n",
    "* 반복문 작성 필요 없이 전치 데이터 배열에 대한 빠른 연산 가능\n",
    "* C, C++, 포트란에 쓰인 코드 통합\n",
    "* 선형대수, 난수발생기, 푸리에 변형가능\n",
    "\n",
    "##### ndarray\n",
    "\n",
    "다차원 배열 객체를 담을 수 있음\n",
    "배열 : 스칼라 원소 간 연산에 사용하는 문법과 유사하게 적용\n",
    "\n",
    "* 모든 배열은 각 차원의 크기를 알려주는 shape 라는 튜플과, 저장된 자료형을 알려주는 dtype 라는 객체를 가지고있음."
   ]
  },
  {
   "cell_type": "code",
   "execution_count": 1,
   "metadata": {},
   "outputs": [
    {
     "data": {
      "text/plain": [
       "(array([[ 0.75533845,  1.4729043 ,  0.38006036],\n",
       "        [-0.91596608, -1.45826592,  0.72023456]]), (2, 3), dtype('float64'))"
      ]
     },
     "execution_count": 1,
     "metadata": {},
     "output_type": "execute_result"
    }
   ],
   "source": [
    "import numpy as np\n",
    "data=np.random.randn(2,3)\n",
    "data, data.shape, data.dtype"
   ]
  },
  {
   "cell_type": "markdown",
   "metadata": {},
   "source": [
    "##### ndarray 생성\n",
    "\n",
    "* array() : 입력데이터를 ndarray 로 변환\n",
    "* asarray() : 입력데이터를 변환하지만 이미 ndarray 면 복사가안됨\n",
    "* arange() : 내장 range 함수와 유사하지만 리스트대신 ndarray 로 반환\n",
    "* ones() : 주어진 dtype과 모양을 갖는 배열 생성, 원소는 1로 초기화\n",
    "* ones_like() : 주어진 배열과 동일한 모양과 dtype을 갖는 배열 새로 생성\n",
    "* zeros() : 주어진 dtype과 모양을 갖는 배열 생성, 원소는 0으로 초기화\n",
    "* zeros_like() : 주어진 배열과 동일한 모양과 dtype을 갖는 배열 새로 생성\n",
    "* empty() : 새로운 배열을 초기값 없이 생성\n",
    "* empty_like() : 새로운 배열을 초기값 없이 생성\n",
    "* identity() : n x n크기의 단위 행렬 생성\n",
    "* eye() : n x n크기의 항등행렬 출력 (대각성분 : 1)"
   ]
  },
  {
   "cell_type": "code",
   "execution_count": 5,
   "metadata": {},
   "outputs": [
    {
     "name": "stdout",
     "output_type": "stream",
     "text": [
      "[4 2 5 6 3] (5,) int32\n",
      "[[ 1  2  4  4]\n",
      " [33 25 74 37]] (2, 4) int32\n"
     ]
    }
   ],
   "source": [
    "# array()\n",
    "\n",
    "ls1=[1,2,4,4]\n",
    "ls2=[33,25,74,37]\n",
    "np.array(ls1)\n",
    "\n",
    "vec_x=np.array([4,2,5,6,3])\n",
    "mat_A=np.array([ls1, ls2])\n",
    "# 1행에 ls1, 2행에 ls2\n",
    "\n",
    "print(vec_x, vec_x.shape, vec_x.dtype)\n",
    "print(mat_A, mat_A.shape, mat_A.dtype)"
   ]
  },
  {
   "cell_type": "code",
   "execution_count": 8,
   "metadata": {},
   "outputs": [
    {
     "name": "stdout",
     "output_type": "stream",
     "text": [
      "[33 25 74 37] (4,) int32\n",
      "2186770371656 2186791648352\n",
      "[[ 1  2  4  4]\n",
      " [33 25 74 37]] (2, 4) int32\n",
      "2186791645712 2186791645712\n"
     ]
    }
   ],
   "source": [
    "# asarray()\n",
    "\n",
    "vec_y=np.asarray(ls2)\n",
    "print(vec_y, vec_y.shape, vec_y.dtype,end=\"\\n\")\n",
    "print(id(ls2),id(vec_y))\n",
    "mat_B=np.asarray(mat_A)\n",
    "print(mat_A, mat_A.shape, mat_A.dtype,end=\"\\n\")\n",
    "print(id(mat_A),id(mat_B))\n",
    "# asarray 처리에서 matrix화 시킨 다음 asarray 시키면 같은 id 값을 공유"
   ]
  },
  {
   "cell_type": "code",
   "execution_count": 9,
   "metadata": {},
   "outputs": [
    {
     "data": {
      "text/plain": [
       "array([1, 3, 5, 7, 9])"
      ]
     },
     "execution_count": 9,
     "metadata": {},
     "output_type": "execute_result"
    }
   ],
   "source": [
    "# arange()\n",
    "\n",
    "ls1=[1,2,3,4]\n",
    "ls2=[33,25,74,34]\n",
    "vec_x=np.arange(1,10,2)\n",
    "print(vec_x)\n",
    "# vec_x 가 배열형으로 출력"
   ]
  },
  {
   "cell_type": "code",
   "execution_count": 13,
   "metadata": {},
   "outputs": [
    {
     "name": "stdout",
     "output_type": "stream",
     "text": [
      "[0. 0. 0. 0.]\n",
      "[[0 0 0 0]\n",
      " [0 0 0 0]]\n",
      "[[ 1  2  4  4]\n",
      " [33 25 74 37]]\n",
      "[[1. 0. 0. 0. 0.]\n",
      " [0. 1. 0. 0. 0.]\n",
      " [0. 0. 1. 0. 0.]\n",
      " [0. 0. 0. 1. 0.]\n",
      " [0. 0. 0. 0. 1.]]\n"
     ]
    }
   ],
   "source": [
    "# zeros, zeros_like, eye\n",
    "\n",
    "print(np.zeros(4))\n",
    "print(np.zeros_like(mat_A)) # mat_A와 크기가 같은 영행렬 출력\n",
    "print(mat_A)\n",
    "print(np.eye(5)) # 5x5인 항등행렬 출력"
   ]
  },
  {
   "cell_type": "markdown",
   "metadata": {},
   "source": [
    "##### ndarray 자료유형\n",
    "\n",
    "int8~64, float8~64, complex8~64 등 정수부터 복소수까지 지원\n",
    "\n",
    "> ndarray 객체.astype(자료유형)"
   ]
  },
  {
   "cell_type": "code",
   "execution_count": 16,
   "metadata": {},
   "outputs": [
    {
     "name": "stdout",
     "output_type": "stream",
     "text": [
      "[b'1' b'2' b'3' b'4'] |S1\n"
     ]
    }
   ],
   "source": [
    "ls1=[1,2,3,4]\n",
    "ls2=[33,3,25,263,663,234,12,55]\n",
    "vec_x=np.array(ls1,dtype=np.string_)\n",
    "# 파이썬에서 키워드 옵션을 쓸 때, string_ 처럼 끝에 underbar 가 붙는 경우가 있음\n",
    "print(vec_x, vec_x.dtype) # 강제로 문자열에 집어넣겠다는 뜻"
   ]
  },
  {
   "cell_type": "code",
   "execution_count": 31,
   "metadata": {},
   "outputs": [
    {
     "name": "stdout",
     "output_type": "stream",
     "text": [
      "[1 2 3 4] int8\n",
      "[[ 1  2  3  4]\n",
      " [88 77 66 55]] int32\n",
      "[[ 1.  2.  3.  4.]\n",
      " [88. 77. 66. 55.]] float16\n"
     ]
    }
   ],
   "source": [
    "# 배열 형변환\n",
    "\n",
    "ls1=[1,2,3,4]\n",
    "ls2=[33,3,25,263,663,234,12,55]\n",
    "ls3=[88,77,66,55]\n",
    "vec_x=np.array(ls1)\n",
    "vec_x=vec_x.astype(np.int8) # int 8bit 형으로 변환\n",
    "print(vec_x, vec_x.dtype)\n",
    "\n",
    "mat1=np.array([ls1,ls3])\n",
    "print(mat1, mat1.dtype)\n",
    "mat1=mat1.astype(np.float16)\n",
    "print(mat1, mat1.dtype)"
   ]
  },
  {
   "cell_type": "code",
   "execution_count": 30,
   "metadata": {},
   "outputs": [
    {
     "name": "stdout",
     "output_type": "stream",
     "text": [
      "[1 2 3 4] [2 4 6 8] [0.25 0.5  0.75 1.  ]\n",
      "[[ 1  2  3  4]\n",
      " [88 77 66 55]]\n",
      "[[  2   4   6   8]\n",
      " [176 154 132 110]] [[11 12 13 14]\n",
      " [98 87 76 65]]\n"
     ]
    }
   ],
   "source": [
    "# 배열 스칼라 연산\n",
    "\n",
    "ls1=[1,2,3,4]\n",
    "ls2=[33,3,25,263,663,234,12,55]\n",
    "ls3=[88,77,66,55]\n",
    "\n",
    "vec=np.array(ls1)\n",
    "print(vec, 2*vec, vec/4)\n",
    "mat=np.array([ls1,ls3])\n",
    "print(mat)\n",
    "print(2*mat, mat+10)"
   ]
  },
  {
   "cell_type": "code",
   "execution_count": 36,
   "metadata": {},
   "outputs": [
    {
     "name": "stdout",
     "output_type": "stream",
     "text": [
      "[4, 3, 2, 5, 2, 6, 7, 4, 3, 1] \t [4 3 2 5 2 6 7 4 3 1]\n",
      "2 \t 2\n",
      "[2, 5, 2] \t [2 5 2]\n",
      "[4, 3, 2, 999, 7, 4, 3, 1] \t [  4   3   2 999 999 999   7   4   3   1]\n"
     ]
    }
   ],
   "source": [
    "# 배열 indexing, slicing\n",
    "\n",
    "ls1=[4,3,2,5,2,6,7,4,3,1]\n",
    "ls2=[33,3,25,263,663,234,12,55]\n",
    "vec=np.array(ls1)\n",
    "\n",
    "# slicing\n",
    "print(ls1, \"\\t\", vec)\n",
    "print(ls1[4], \"\\t\", vec[4])\n",
    "print(ls1[2:5], \"\\t\", vec[2:5])\n",
    "\n",
    "# indexing\n",
    "ls1[3:6]=[999]; vec[3:6]=999\n",
    "print(ls1, \"\\t\", vec)\n",
    "# 리스트 : 각 자료값을 999로 치환\n",
    "# 배열 : 각 주소값에 해당하는 값을 999로 치환"
   ]
  },
  {
   "cell_type": "markdown",
   "metadata": {},
   "source": [
    "indexing, slicing 으로 일부 원소를 추출한 경우, 배열은 원본 배열을 공유한다.\n",
    "\n",
    "완전히 다른 객체로 복사하려면, copy() 메소드 사용이 필요하다."
   ]
  },
  {
   "cell_type": "code",
   "execution_count": 37,
   "metadata": {},
   "outputs": [
    {
     "name": "stdout",
     "output_type": "stream",
     "text": [
      "[  4   3   2 999 999 999   7   4   3   1] \t [  2 999 999 999]\n",
      "[  4   3   2 999 999 999   7   4   3   1] \t [  2 999 999 999] [  2 999 999 999]\n",
      "[   4    3    2  999 9999  999    7    4    3    1] \t [   2  999 9999  999] [  2 999 999 999]\n"
     ]
    }
   ],
   "source": [
    "# slicing 한 값\n",
    "\n",
    "sub_vec=vec[2:6]\n",
    "print(vec, \"\\t\", sub_vec)\n",
    "# 배열 벡터에서 슬라이싱 한 부분도 벡터형\n",
    "sub_vec2=vec[2:6].copy()\n",
    "print(vec, \"\\t\", sub_vec, sub_vec2)\n",
    "sub_vec[2]=9999\n",
    "print(vec, \"\\t\", sub_vec, sub_vec2)\n",
    "\n",
    "# copy() 해서 새 객체로 만든 것만 값이 수정이 됨.\n",
    "# copy() 처리를 안하면 원 데이터의 값을 그대로 공유하기 때문에 바뀌지가 않음.\n",
    "# 독립적인 객체로 쓰고싶으면 copy() 를 해준다음 넘겨준다."
   ]
  },
  {
   "cell_type": "code",
   "execution_count": 59,
   "metadata": {},
   "outputs": [
    {
     "name": "stdout",
     "output_type": "stream",
     "text": [
      "[list([4, 3, 2, 5, 2, 6, 7, 4, 3])\n",
      " list([33, 3, 25, 263, 663, 234, 12, 55])\n",
      " list([10, 20, 30, 40, 50, 60, 70, 80])]\n"
     ]
    }
   ],
   "source": [
    "# array 의 각 행,렬에 indexing, slicing 가능\n",
    "\n",
    "ls1=[4,3,2,5,2,6,7,4,3]\n",
    "ls2=[33,3,25,263,663,234,12,55]\n",
    "ls3=[10,20,30,40,50,60,70,80]\n",
    "\n",
    "A=np.array([ls1,ls2,ls3])\n",
    "print(A)\n",
    "print(A[:2]) # 1행, 2행만 출력\n",
    "print(A[1][5]) # 2행 5열 출력\n",
    "print(A[:2][1:4])"
   ]
  },
  {
   "cell_type": "code",
   "execution_count": 64,
   "metadata": {},
   "outputs": [
    {
     "name": "stdout",
     "output_type": "stream",
     "text": [
      "[[[ 1  2  5  3]\n",
      "  [10 40 20 60]\n",
      "  [ 4  2  5  4]]\n",
      "\n",
      " [[ 0  3  1  6]\n",
      "  [12 32 67 35]\n",
      "  [ 7  1  2  9]]] \n",
      "\n",
      "[[[ 1  2  5  3]\n",
      "  [10 40 20 60]\n",
      "  [ 4  2  5  4]]\n",
      "\n",
      " [[ 0  3  1  6]\n",
      "  [12 32 67 35]\n",
      "  [ 7  1  2  9]]] \n",
      "\n",
      " [[10 40 20 60]\n",
      " [12 32 67 35]] \n",
      "\n",
      " [[10 40 20 60]\n",
      " [12 32 67 35]]\n"
     ]
    }
   ],
   "source": [
    "# 3차원 배열 생성\n",
    "\n",
    "ls11=[1,2,5,3]; ls12=[10,40,20,60]; ls13=[4,2,5,4]\n",
    "ls21=[0,3,1,6]; ls22=[12,32,67,35]; ls23=[7,1,2,9]\n",
    "arr3d=np.array([[ls11,ls12,ls13],[ls21,ls22,ls23]])\n",
    "print(arr3d, \"\\n\")\n",
    "arr3d[0,1,3] # 행렬의 1층, 두번째 배열, 그 중의 4번쨰 원소 추출\n",
    "# arr3d[0][1,3] 로 써도 똑같음\n",
    "\n",
    "sub_arr1=arr3d[:2,1]\n",
    "sub_arr2=arr3d[:2,1].copy()\n",
    "print(arr3d, \"\\n\\n\", sub_arr1, \"\\n\\n\", sub_arr2)"
   ]
  },
  {
   "cell_type": "code",
   "execution_count": 65,
   "metadata": {},
   "outputs": [
    {
     "data": {
      "text/plain": [
       "array([[10, 40, 20, 60]])"
      ]
     },
     "execution_count": 65,
     "metadata": {},
     "output_type": "execute_result"
    }
   ],
   "source": [
    "# 논리값을 이용한 indexing\n",
    "\n",
    "ls11=[1,2,5,3]; ls12=[10,40,20,60]; ls13=[4,2,5,4]\n",
    "ls21=[0,3,1,6]; ls22=[12,32,67,35]; ls23=[7,1,2,9]\n",
    "\n",
    "mat1=np.array([ls11,ls12,ls13])\n",
    "mat1[[False, True, False]] # True 값만 출력"
   ]
  },
  {
   "cell_type": "markdown",
   "metadata": {},
   "source": [
    "##### fancy indexing\n",
    "\n",
    "정수 index를 원하는 순서대로 리스트나 ndarray 로 지정"
   ]
  },
  {
   "cell_type": "code",
   "execution_count": 68,
   "metadata": {},
   "outputs": [
    {
     "name": "stdout",
     "output_type": "stream",
     "text": [
      "arr\n",
      "[[-0.11049218  0.56041171  0.62695735  0.98511528]\n",
      " [ 1.75733881  2.10091343  0.24089792  1.14723403]\n",
      " [-0.39105961  0.73863928 -1.81194585 -0.05666518]\n",
      " [-0.15225058  2.47418762 -0.26456362  0.89163681]\n",
      " [ 1.23087067  0.54566112 -1.82794406  1.70519226]\n",
      " [ 0.98994195  0.74204166 -0.36938944  0.4736939 ]\n",
      " [-0.34315569  1.71267001 -0.82154233 -0.60557507]]\n",
      "arr1\n",
      "[[-0.34315569  1.71267001 -0.82154233 -0.60557507]\n",
      " [-0.15225058  2.47418762 -0.26456362  0.89163681]\n",
      " [ 0.98994195  0.74204166 -0.36938944  0.4736939 ]]\n",
      "arr2\n",
      "[[-0.34315569  1.71267001 -0.82154233 -0.60557507]\n",
      " [-0.15225058  2.47418762 -0.26456362  0.89163681]\n",
      " [ 1.23087067  0.54566112 -1.82794406  1.70519226]]\n"
     ]
    }
   ],
   "source": [
    "arr=np.random.randn(7,4)\n",
    "arr1=arr[[6,3,5]]\n",
    "arr2=arr[[-1,-4,-3]]\n",
    "print(\"arr\\n{0}\\narr1\\n{1}\\narr2\\n{2}\".format(arr,arr1,arr2))"
   ]
  },
  {
   "cell_type": "code",
   "execution_count": 78,
   "metadata": {},
   "outputs": [
    {
     "name": "stdout",
     "output_type": "stream",
     "text": [
      "[[-0.31210069 -0.31145476 -0.06746639 -0.41168095  0.29174225]\n",
      " [-0.1823096   0.49806459 -1.06154276 -0.05712525  1.46790611]\n",
      " [-0.34724612  0.82009844  0.29658552 -0.34805486 -1.42316298]\n",
      " [-1.48899112  0.0360879   0.3545007   1.85923891 -1.35366226]\n",
      " [-1.47206152 -1.18705722 -0.29028649 -0.74664154  2.4773052 ]\n",
      " [-0.58268815 -2.1614191   1.00814155 -0.06824181  1.40827184]\n",
      " [ 0.18421004  0.04783627 -0.23303328  0.413048   -2.00477184]] \n",
      "\n",
      "[-0.06824181 -0.31145476 -1.42316298] \n",
      "\n",
      "[[-0.06824181 -2.1614191   1.40827184]\n",
      " [-0.41168095 -0.31145476  0.29174225]\n",
      " [-0.34805486  0.82009844 -1.42316298]]\n"
     ]
    }
   ],
   "source": [
    "# fancy indexing\n",
    "\n",
    "arr3=np.random.randn(7,5)\n",
    "print(arr3,\"\\n\")\n",
    "print(arr3[[5,0,2],[3,1,4]],\"\\n\")\n",
    "# 5행 3열, 0행 1열, 2행 4열 이렇게 3개의 원소가 뽑힘\n",
    "# 같은 index 안에 , 구분하게 되면 같은 행,렬의 원소들을 짝지어 뽑게되므로 주의한다.\n",
    "\n",
    "print(arr3[[5,0,2]][:,[3,1,4]])\n",
    "# fancy indexing : 이렇게 하면 원하는 값을 뽑을 수 있음\n",
    "# 5행 전체에서, 3번째 1번째 4번째 원소를 뽑고\n",
    "# 0행 전체에서, 3번째 1번째 4번째 원소를 뽑고\n",
    "# 2행 전체에서, 3번째 1번째 4번째 원소를 뽑고"
   ]
  },
  {
   "cell_type": "code",
   "execution_count": 80,
   "metadata": {},
   "outputs": [
    {
     "name": "stdout",
     "output_type": "stream",
     "text": [
      "[[-0.06824181 -2.1614191   1.40827184]\n",
      " [-0.41168095 -0.31145476  0.29174225]\n",
      " [-0.34805486  0.82009844 -1.42316298]]\n"
     ]
    }
   ],
   "source": [
    "# fancy indexing - np.ix_\n",
    "# 아래 두 개의 표기는 같은 표기이다.\n",
    "\n",
    "# print(arr3[[5,0,2]][:,[3,1,4]])\n",
    "# print(arr3[np.ix_([5,0,2],[3,1,4])])\n",
    "\n",
    "print(arr3[np.ix_([5,0,2],[3,1,4])])"
   ]
  },
  {
   "cell_type": "markdown",
   "metadata": {},
   "source": [
    "##### 배열의 전치, 축 바꾸기\n",
    "\n",
    "* 행과 열 크기가 서로 바뀌는 형태\n",
    "* transpose 메소드와 T 속성\n",
    "    * T 속성 : 전치행렬\n",
    "    * transpose : 순수하게 전치하는게 아니라 조금 더 복잡한 변환을 해줄 때 사용"
   ]
  },
  {
   "cell_type": "code",
   "execution_count": 86,
   "metadata": {},
   "outputs": [
    {
     "name": "stdout",
     "output_type": "stream",
     "text": [
      "[[[ 0  1  2]\n",
      "  [ 3  4  5]\n",
      "  [ 6  7  8]\n",
      "  [ 9 10 11]]\n",
      "\n",
      " [[12 13 14]\n",
      "  [15 16 17]\n",
      "  [18 19 20]\n",
      "  [21 22 23]]] \n",
      " [[[ 0 12]\n",
      "  [ 3 15]\n",
      "  [ 6 18]\n",
      "  [ 9 21]]\n",
      "\n",
      " [[ 1 13]\n",
      "  [ 4 16]\n",
      "  [ 7 19]\n",
      "  [10 22]]\n",
      "\n",
      " [[ 2 14]\n",
      "  [ 5 17]\n",
      "  [ 8 20]\n",
      "  [11 23]]]\n"
     ]
    }
   ],
   "source": [
    "ex=np.arange(24).reshape(2,4,3)\n",
    "print(ex, \"\\n\", ex.transpose())"
   ]
  },
  {
   "cell_type": "code",
   "execution_count": 88,
   "metadata": {},
   "outputs": [
    {
     "name": "stdout",
     "output_type": "stream",
     "text": [
      "ex\n",
      "[[[ 0  1  2]\n",
      "  [ 3  4  5]\n",
      "  [ 6  7  8]\n",
      "  [ 9 10 11]]\n",
      "\n",
      " [[12 13 14]\n",
      "  [15 16 17]\n",
      "  [18 19 20]\n",
      "  [21 22 23]]]\n",
      "ex1\n",
      "[[[ 0  3  6  9]\n",
      "  [12 15 18 21]]\n",
      "\n",
      " [[ 1  4  7 10]\n",
      "  [13 16 19 22]]\n",
      "\n",
      " [[ 2  5  8 11]\n",
      "  [14 17 20 23]]]\n"
     ]
    }
   ],
   "source": [
    "ex=np.arange(24).reshape(2,4,3)\n",
    "ex1=ex.transpose(2,0,1)\n",
    "print(\"ex\\n{0}\\nex1\\n{1}\".format(ex,ex1))\n",
    "# transpose(2,0,1) : 열을 층, 층을 행, 행을 열로 변형한다."
   ]
  },
  {
   "cell_type": "code",
   "execution_count": 92,
   "metadata": {},
   "outputs": [
    {
     "name": "stdout",
     "output_type": "stream",
     "text": [
      "ex2\n",
      "[[[ 0 12]\n",
      "  [ 3 15]\n",
      "  [ 6 18]\n",
      "  [ 9 21]]\n",
      "\n",
      " [[ 1 13]\n",
      "  [ 4 16]\n",
      "  [ 7 19]\n",
      "  [10 22]]\n",
      "\n",
      " [[ 2 14]\n",
      "  [ 5 17]\n",
      "  [ 8 20]\n",
      "  [11 23]]]\n"
     ]
    }
   ],
   "source": [
    "ex2=ex.T\n",
    "print(\"ex2\\n{0}\".format(ex2))"
   ]
  },
  {
   "cell_type": "code",
   "execution_count": 90,
   "metadata": {},
   "outputs": [
    {
     "name": "stdout",
     "output_type": "stream",
     "text": [
      "ex3\n",
      "[[[ 0 12]\n",
      "  [ 3 15]\n",
      "  [ 6 18]\n",
      "  [ 9 21]]\n",
      "\n",
      " [[ 1 13]\n",
      "  [ 4 16]\n",
      "  [ 7 19]\n",
      "  [10 22]]\n",
      "\n",
      " [[ 2 14]\n",
      "  [ 5 17]\n",
      "  [ 8 20]\n",
      "  [11 23]]]\n"
     ]
    }
   ],
   "source": [
    "ex3=ex.swapaxes(2,0)\n",
    "print(\"ex3\\n{0}\".format(ex3))"
   ]
  },
  {
   "cell_type": "markdown",
   "metadata": {},
   "source": [
    "* T\n",
    "* transpose(a)\n",
    "* swapaxes(a,0,b) : 바꾸고자하는 축 두개 번호를 전달받아 두 축에 대해서 바꾸게 된다\n",
    "\n",
    "\n",
    "3차원 배열의 경우\n",
    "\n",
    "[][][]\n",
    "\n",
    "차례대로 0,1,2 순서로 생각하고\n",
    "\n",
    "파라미터로 (1,0,2) 이런식으로 전달하면\n",
    "\n",
    "바뀐 결과의 순서가 0,1,2에서 1,0,2 순으로 바뀌게된다.\n",
    "\n",
    "\n",
    "* T와 달리 transpose, swapaxes 의 경우 축을 골라서 고정시켜놓을 수 있음\n",
    "    * T attribute 와 달리 자유도가 조금 더 높음"
   ]
  },
  {
   "cell_type": "markdown",
   "metadata": {},
   "source": [
    "##### 범용함수\n",
    "\n",
    "ufunc\n",
    "\n",
    "* ndarray의 데이터 원소별로 연산을 수행하는 함수\n",
    "* 하나 이상의 스칼라 값을 받아서, 하나 이상의 스칼라 결과 값을 반환하는 함수 >> 를 빠르게 처리하기 위한"
   ]
  },
  {
   "cell_type": "markdown",
   "metadata": {},
   "source": [
    "##### 단항 유니버셜 함수\n",
    "\n",
    "* abs(), fabs() : 각 원소의 절대값 / fab는 복소수가 아닌 경우에서 빠른 연산을 위함\n",
    "* sqrt() : 제곱근\n",
    "* square() : 제곱\n",
    "* exp() : 지수\n",
    "* log2(), log10(), log1p() : 로그2, 로그10, 자연로그+1\n",
    "* sign() : 각 원소의 부호 계환 (1,0,-1)\n",
    "* ceil() : 소수자리를 올리기\n",
    "* floor() : 소수자리를 내리기\n",
    "\n",
    "\n",
    "* rint() : 소수자리 반올림\n",
    "* modf() : 몫과 나머지 반환\n",
    "* isnan() : IsNotaNumber, 각 원소가 숫자인지 아닌지 판단\n",
    "* isfinite(), isinf() : 유한수/무한수 여부\n",
    "* cos, cosh(), sin(), sinh(), tan(), tanh() : 삼각함수, 쌍곡삼각함수\n",
    "* arccos(), arccosh() : 역삼각함수\n",
    "* logical_nat() : 논리값 반환"
   ]
  },
  {
   "cell_type": "markdown",
   "metadata": {},
   "source": [
    "##### 이항 유니버셜 함수\n",
    "\n",
    "* add()\n",
    "* subtract()\n",
    "* multiply()\n",
    "* divide() : 사칙연산\n",
    "* divide, floor_divide() : 첫 배열에서 두 번째 배열 원소를 나눔, floor_divide는 몫만 취함\n",
    "* power() : 첫 배열 원소의 두번째 배열의 원소만큼 제곱\n",
    "* maximum(), fmax() : 두 원소중 큰 원소 반환. fmax 는 NaN을 무시함\n",
    "* minimum(), fmin() : 두 원소중 작은 원소 반환. fmin 은 NaN을 무시함\n",
    "* mod() : 첫 배열 원소의 두번째 배열 원소를 나눈 나머지\n",
    "* copysign() : 첫 배열 원소의 기호를 두번째 배열의 원소 기호로 바\n",
    "* greater, greater_equal, less, less_equal, equal, not_equal() : 각 원소간 비교연산 결과를 boolean 배열로 반환\n",
    "* logical_and, logical_or, logical_xor() : 각 원소간 논리연산 결과를 반환\n",
    "\n"
   ]
  },
  {
   "cell_type": "code",
   "execution_count": 95,
   "metadata": {},
   "outputs": [
    {
     "name": "stdout",
     "output_type": "stream",
     "text": [
      "[[ 0  1  2  3  4  5]\n",
      " [ 6  7  8  9 10 11]\n",
      " [12 13 14 15 16 17]] \n",
      " [[ 0.7710301  -0.00449534 -1.62786241  1.71932439  1.36879514  1.58172614]\n",
      " [-0.24963581 -1.14720593  1.47211463 -0.64988823 -0.02818101 -0.59958619]\n",
      " [-0.52098657 -0.60088464 -0.21402518  1.16442628  0.21613894 -0.30849193]] \n",
      "\n",
      "[[ True  True  True  True  True  True]\n",
      " [ True  True  True  True  True  True]\n",
      " [ True  True  True  True  True  True]]\n"
     ]
    }
   ],
   "source": [
    "# isfinite\n",
    "\n",
    "A=np.arange(18).reshape(3,6)\n",
    "B=np.random.randn(3,6)\n",
    "print(A,\"\\n\",B,\"\\n\")\n",
    "print(np.isfinite(B))"
   ]
  },
  {
   "cell_type": "code",
   "execution_count": 96,
   "metadata": {},
   "outputs": [
    {
     "name": "stdout",
     "output_type": "stream",
     "text": [
      "[[ 0  1  2  3  4  5]\n",
      " [ 6  7  8  9 10 11]\n",
      " [12 13 14 15 16 17]] \n",
      " [[ 0.7710301  -0.00449534 -1.62786241  1.71932439  1.36879514  1.58172614]\n",
      " [-0.24963581 -1.14720593  1.47211463 -0.64988823 -0.02818101 -0.59958619]\n",
      " [-0.52098657 -0.60088464 -0.21402518  1.16442628  0.21613894 -0.30849193]] \n",
      "\n",
      "[[ 0.          1.          0.32356727  6.61189902  6.66955392 12.75202407]\n",
      " [ 0.63936018  0.107275   21.35266003  0.23979992  0.93717131  0.23746266]\n",
      " [ 0.27400662  0.21411572  0.56845978 23.4137818   1.82077892  0.4172693 ]]\n"
     ]
    }
   ],
   "source": [
    "# power\n",
    "\n",
    "print(A,\"\\n\",B,\"\\n\")\n",
    "print(np.power(A,B)) # A**B 랑 같은 결과값"
   ]
  },
  {
   "cell_type": "code",
   "execution_count": 97,
   "metadata": {
    "scrolled": true
   },
   "outputs": [
    {
     "name": "stdout",
     "output_type": "stream",
     "text": [
      "[[ 0  1  2  3  4  5]\n",
      " [ 6  7  8  9 10 11]\n",
      " [12 13 14 15 16 17]] \n",
      " [[ 0.7710301  -0.00449534 -1.62786241  1.71932439  1.36879514  1.58172614]\n",
      " [-0.24963581 -1.14720593  1.47211463 -0.64988823 -0.02818101 -0.59958619]\n",
      " [-0.52098657 -0.60088464 -0.21402518  1.16442628  0.21613894 -0.30849193]] \n",
      "\n",
      "[[False  True  True  True  True  True]\n",
      " [ True  True  True  True  True  True]\n",
      " [ True  True  True  True  True  True]]\n"
     ]
    }
   ],
   "source": [
    "print(A,\"\\n\",B,\"\\n\")\n",
    "print(np.greater(A,B)) # A>B와 같은 결과값"
   ]
  },
  {
   "cell_type": "markdown",
   "metadata": {},
   "source": [
    "##### 배열 연산으로 조건절 표현\n",
    "\n",
    "where() : x if 조건 else y와 같은 삼항 연산자의 벡터화 버전\n",
    "    * (참) if 조건 else (거짓)\n",
    "\n",
    "> np.where(조건, 조건에 맞을 때 값, 조건과 다를 때 값)"
   ]
  },
  {
   "cell_type": "code",
   "execution_count": 134,
   "metadata": {},
   "outputs": [
    {
     "name": "stdout",
     "output_type": "stream",
     "text": [
      "[2, 6, 5, 4, -5]\n"
     ]
    }
   ],
   "source": [
    "xarr=np.array([2,5,5,6,1,3,9,6,7])\n",
    "yarr=np.array([2,6,-3,4,-5])\n",
    "zarr=np.array([\"서울\", \"경기\", \"서울\", \"인천\", \"경기\"])\n",
    "result=[(x if z==\"서울\" else y) for x,y,z in zip(xarr, yarr, zarr)]\n",
    "print(result)"
   ]
  },
  {
   "cell_type": "code",
   "execution_count": 107,
   "metadata": {
    "scrolled": true
   },
   "outputs": [
    {
     "name": "stdout",
     "output_type": "stream",
     "text": [
      "arr1\n",
      "[[ 2.7052176   1.41941194  3.47406576]\n",
      " [18.59416071 -0.14045156  9.37170487]\n",
      " [ 3.54244175 16.1501558  12.03535135]\n",
      " [ 6.90436486 15.64105241  9.30335518]]\n",
      "arr2\n",
      "[[16.33292746 14.15275613  8.88629988]\n",
      " [ 2.69550418 16.55090653  9.93185929]\n",
      " [ 7.32789331  7.57237001 11.52342283]\n",
      " [12.32751642  4.57883022  8.76941897]]\n",
      "result\n",
      "[[16.33292746 14.15275613  0.        ]\n",
      " [18.59416071 16.55090653  0.        ]\n",
      " [ 0.         16.1501558  12.03535135]\n",
      " [12.32751642 15.64105241  0.        ]]\n"
     ]
    }
   ],
   "source": [
    "arr1=(10+5*np.random.randn(12)).reshape(4,3)\n",
    "arr2=(10+5*np.random.randn(12)).reshape(4,3)\n",
    "result=np.where(arr1>=10,arr1,np.where(arr2>=10,arr2,0))\n",
    "print(\"arr1\\n{0}\\narr2\\n{1}\\nresult\\n{2}\".format(arr1,arr2,result))\n",
    "\n",
    "# arr1 에서 10보다 큰 값들을 뽑아내고, 그렇지 않은 값들은 두번째 where 문을 거쳐서 뽑아낸다\n",
    "# arr2 에서 10보다 큰 값들을 뽑아내고, 그렇지 않은 값들은 0 으로 뽑아낸다.\n",
    "# 최종 배열에는 arr1, arr2 위치의 10보다 큰 값과 arr2의 10보다 작은 값들이 0으로 치환되어 나타난다."
   ]
  },
  {
   "cell_type": "markdown",
   "metadata": {},
   "source": [
    "##### 통계 메소드\n",
    "\n",
    "* sum()  : 전체 또는 특정 축에대한 원소들의 합\n",
    "* mean() : 전체 또는 특정 축에대한 원소들의 산술\n",
    "* std(), var() : 전체 또는 특정 축에대한 원소들의 표준편차 (자유도 지정 가능, 기본값은 n)\n",
    "* min(), max()\n",
    "* argmin(), argmax() : 최소값, 최대값의 index\n",
    "* cumsum() : 누적합\n",
    "* cumprod()  누적곱"
   ]
  },
  {
   "cell_type": "code",
   "execution_count": 120,
   "metadata": {},
   "outputs": [
    {
     "name": "stdout",
     "output_type": "stream",
     "text": [
      "9.333333333333334 5.2\n",
      "10.71862346054235 11.74166370948626\n"
     ]
    }
   ],
   "source": [
    "# mean\n",
    "\n",
    "A=np.array([2,5,3,6,7,33])\n",
    "B=np.array([3,6,4,6,7])\n",
    "print(np.mean(A), np.mean(B))\n",
    "print(A.std(ddof=0), np.std(A,ddof=1))"
   ]
  },
  {
   "cell_type": "code",
   "execution_count": 123,
   "metadata": {},
   "outputs": [
    {
     "name": "stdout",
     "output_type": "stream",
     "text": [
      "xrr\n",
      "[[2 5 5 6 8 1]\n",
      " [3 9 5 7 2 9]\n",
      " [3 5 1 4 6 3]\n",
      " [1 3 5 7 8 1]]\n",
      "열 평균\n",
      "[2.25 5.5  4.   6.   6.   3.5 ]\n",
      "행 평균\n",
      "[4.5        5.83333333 3.66666667 4.16666667]\n"
     ]
    }
   ],
   "source": [
    "# mean 에 축을 줄 수 있음\n",
    "\n",
    "xarr=np.array([[2,5,5,6,8,1],[3,9,5,7,2,9],[3,5,1,4,6,3],[1,3,5,7,8,1]])\n",
    "print(\"xrr\\n{0}\".format(xarr))\n",
    "print(\"열 평균\\n{0}\\n행 평균\\n{1}\".format(xarr.mean(axis=0),xarr.mean(axis=1)))"
   ]
  },
  {
   "cell_type": "markdown",
   "metadata": {},
   "source": [
    "##### 논리값 배열을 위한 메소드\n",
    "\n",
    "0(False), 1(True)\n",
    "\n",
    "* all() : 모두 True면 True 반환\n",
    "* any() : 모두 False면 False 반환"
   ]
  },
  {
   "cell_type": "code",
   "execution_count": 133,
   "metadata": {},
   "outputs": [
    {
     "name": "stdout",
     "output_type": "stream",
     "text": [
      "int32\n",
      "(5,)\n",
      "3\n",
      "0.6\n"
     ]
    }
   ],
   "source": [
    "A=np.array([[2,5,33,6,7,55,2,356,12,78]])\n",
    "print(A.dtype)\n",
    "print((B>=5).shape) # (B>=5)도 배열객체\n",
    "\n",
    "# 본래 sum method 는 숫자만 연산해주지만, 논리연산의 경우도 숫자로 형변환하여 계산해줌\n",
    "# True 는 1, False 는 0\n",
    "# 이를 \"자동형변환\" 이라 칭함\n",
    "print((B>=5).sum())\n",
    "\n",
    "print((B>=5).mean()) # 해당 조건이 맞는 데이터의 비율 (전체 : 1)"
   ]
  },
  {
   "cell_type": "code",
   "execution_count": 145,
   "metadata": {},
   "outputs": [
    {
     "name": "stdout",
     "output_type": "stream",
     "text": [
      "[[ 2  3  5]\n",
      " [ 6  7 33]\n",
      " [ 2  4  7]\n",
      " [ 5  7  9]]\n",
      "[[ 2  3  5]\n",
      " [ 2  4  7]\n",
      " [ 5  7  9]\n",
      " [ 6  7 33]]\n",
      "[[  2   5   6   7  33]\n",
      " [  2  12  55  78 356]]\n",
      "None\n"
     ]
    }
   ],
   "source": [
    "A=np.array([[2,5,3],[6,7,33],[4,2,7],[7,9,5]])\n",
    "B=np.array([[2,5,33,6,7],[55,2,356,12,78]])\n",
    "A.sort()\n",
    "print(A)\n",
    "# 각 행렬의 행마다 오름차순으로 정렬하게 되있는게 sort() 의 default 설정\n",
    "\n",
    "A.sort(axis=0)\n",
    "print(A)\n",
    "# axis=0 으로 하면 각 열마다 정렬, 1이나 생략시 행마다 정렬\n",
    "\n",
    "# numpy 내의 sort 도 같은 원\n",
    "sort_B=np.sort(B)\n",
    "print(sort_B)\n",
    "\n",
    "sort_B1=B.sort()\n",
    "print(sort_B1)"
   ]
  },
  {
   "cell_type": "markdown",
   "metadata": {},
   "source": [
    "##### 집합함수 (1차원 배열)\n",
    "\n",
    "* unique(x) : x에서 중복원소 제공\n",
    "* intersect1d(x,y) : 배열의 교집합\n",
    "* unioin1d(x,y)\n",
    "* in1d(x,y) : 포함하는지 여부 (논리값 반환)\n",
    "* setdiff1d(x,y) : 교집합\n",
    "* ersect1d(x,y) : 차집합"
   ]
  },
  {
   "cell_type": "markdown",
   "metadata": {},
   "source": [
    "##### 배열을 binary 형식으로 저장\n",
    "\n",
    "기본적으로 압축되지 않은 RAW 바이너리 형식인 .npy 확장자로 저장\n",
    "\n",
    "* save() : 배열을 압축되지 않은 형식으로 저장\n",
    "* savez() : 여러개의 배열을 압축된 형식으로 저장 (저장하려는 배열을 키얻로 전달)\n",
    "* load() : 바이너리 형식으로 저장된 npy 파일 불러오기"
   ]
  },
  {
   "cell_type": "code",
   "execution_count": 152,
   "metadata": {},
   "outputs": [
    {
     "name": "stdout",
     "output_type": "stream",
     "text": [
      "[[ 2  5  3]\n",
      " [ 6  7 33]\n",
      " [ 4  2  7]\n",
      " [ 7  9  5]] \n",
      "\n",
      " [[  2   5  33   6   7]\n",
      " [ 55   2 356  12  78]]\n"
     ]
    }
   ],
   "source": [
    "# save\n",
    "\n",
    "A=np.array([[2,5,3],[6,7,33],[4,2,7],[7,9,5]])\n",
    "B=np.array([[2,5,33,6,7],[55,2,356,12,78]])\n",
    "print(A,\"\\n\\n\", B)\n",
    "np.save(\"C:/Users/Affinity/Downloads/Python_Data/ch02_data/new_arr_A.npy\", A)\n",
    "np.savez(\"C:/Users/Affinity/Downloads/Python_Data/ch02_data/new_arr_AB.npz\", A2r=A, B2r=B)\n",
    "# savez 의 경우 확장자를 npz, 키워드=배열명 을 끝에 배열마다 달아주고 저장해야"
   ]
  },
  {
   "cell_type": "code",
   "execution_count": 157,
   "metadata": {},
   "outputs": [
    {
     "name": "stdout",
     "output_type": "stream",
     "text": [
      "[[ 2  5  3]\n",
      " [ 6  7 33]\n",
      " [ 4  2  7]\n",
      " [ 7  9  5]] \n",
      "\n",
      "<numpy.lib.npyio.NpzFile object at 0x000001FD27037860>\n",
      "[[  2   5  33   6   7]\n",
      " [ 55   2 356  12  78]]\n"
     ]
    }
   ],
   "source": [
    "# load\n",
    "\n",
    "npy_A=np.load(\"C:/Users/Affinity/Downloads/Python_Data/ch02_data/new_arr_A.npy\")\n",
    "npy_AB=np.load(\"C:/Users/Affinity/Downloads/Python_Data/ch02_data/new_arr_AB.npz\")\n",
    "\n",
    "print(npy_A,\"\\n\")\n",
    "print(npy_AB)\n",
    "# 이대로 로드하면 <numpy.lib.npyio.NpzFile object at 0x000001FD27019DA0> 이렇게 나옴\n",
    "# 2개 이상이라서 압축된 것을 가져오다보니 객체로 표시되서 나옴\n",
    "\n",
    "print(npy_AB[\"B2r\"])\n",
    "# 그래서 불러올때는 키워드로 불러온다."
   ]
  },
  {
   "cell_type": "markdown",
   "metadata": {},
   "source": [
    "##### 텍스트파일 불러오기\n",
    "\n",
    "* loadtxt()\n",
    "* savetxt()"
   ]
  },
  {
   "cell_type": "code",
   "execution_count": 160,
   "metadata": {},
   "outputs": [
    {
     "name": "stdout",
     "output_type": "stream",
     "text": [
      "[[ 81.4  57. ]\n",
      " [122.2  61. ]\n",
      " [101.7  60. ]\n",
      " [175.6  62. ]\n",
      " [150.3  61. ]\n",
      " [ 64.8  54. ]\n",
      " [ 92.1  58. ]\n",
      " [113.8  61. ]]\n"
     ]
    }
   ],
   "source": [
    "A=np.loadtxt(\"C:/Users/Affinity/Downloads/Python_Data/ch02_data/steel.txt\", skiprows=5, delimiter=\"\\t\", usecols=(0,2))\n",
    "print(A)"
   ]
  },
  {
   "cell_type": "markdown",
   "metadata": {},
   "source": [
    "### 선형대수\n",
    "\n",
    "##### 행렬의 연산\n",
    "\n",
    "* diag() : n x n 행렬의 대각/비대각 원소를 반환/1차원 배열을 대각 원소로 취함\n",
    "* dot() : 행렬의 곱\n",
    "* trace() : 대각원소의 합\n",
    "* linarg.det() : 행렬식\n",
    "* linarg.eig() : n x n 행렬의 고유값과 고유벡터\n",
    "* linarg.inv() :  n x n 행렬의 역행렬\n",
    "* linarg.pinv() : 무어-펜로즈 유사역원 역행렬\n",
    "* linarg.qr() : QR분해\n",
    "* inarg.svd() : 특이값 분해(SVD)\n",
    "* linarg.solve() : 선형연립방정식 Ax=b 의 해 x\n",
    "* linarg.lstsq() : 최소제곱해(회귀분석 등)"
   ]
  }
 ],
 "metadata": {
  "kernelspec": {
   "display_name": "ywkernel1",
   "language": "python",
   "name": "ywpython"
  },
  "language_info": {
   "codemirror_mode": {
    "name": "ipython",
    "version": 3
   },
   "file_extension": ".py",
   "mimetype": "text/x-python",
   "name": "python",
   "nbconvert_exporter": "python",
   "pygments_lexer": "ipython3",
   "version": "3.6.8"
  }
 },
 "nbformat": 4,
 "nbformat_minor": 2
}
