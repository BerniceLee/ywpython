{
 "cells": [
  {
   "cell_type": "code",
   "execution_count": 1,
   "metadata": {},
   "outputs": [],
   "source": [
    "import tensorflow as tf\n",
    "import tensorflow.contrib.slim as slim\n",
    "import numpy as np"
   ]
  },
  {
   "cell_type": "markdown",
   "metadata": {},
   "source": [
    "### 밴딧\n",
    "\n",
    "밴딧을 정의하는 구간.\n",
    "\n",
    "- 4개의 손잡이를 가지는 밴딧\n",
    "- pullBandit() : 평균값 0의 정규분포로부터 랜덤한 숫자를 생성함\n",
    "- 밴딧의 수가 작을수록 +의 보상이 돌아올 가능성이 높다.\n",
    "\n",
    "목적 : 언제나 양의 보상을 가져올 손잡이를 선택하도록 학습."
   ]
  },
  {
   "cell_type": "code",
   "execution_count": 4,
   "metadata": {},
   "outputs": [],
   "source": [
    "bandit_arms = [0.2, 0, -0.2, -2]\n",
    "num_arms = len(bandit_arms)\n",
    "\n",
    "def pullBandit(bandit) :\n",
    "    # 랜덤값 추출\n",
    "    result = np.random.randn(1)\n",
    "    if result > bandit :\n",
    "        # 양의 보상 반환\n",
    "        return 1\n",
    "    else :\n",
    "        return -1"
   ]
  },
  {
   "cell_type": "markdown",
   "metadata": {},
   "source": [
    "### 에이전트\n",
    "\n",
    "간단한 신경망 구축 부분.\n",
    "\n",
    "- 각각 밴딧 손잡이에 대한 일련의 값들로 구성\n",
    "    - 각각의 값 : 밴딧 선택에 의해 반환되는 추정치\n",
    "- 정책 경사 방법 : 선택된 액션에 대한 값을 반환받은 보상쪽으로 이동    "
   ]
  },
  {
   "cell_type": "code",
   "execution_count": 7,
   "metadata": {},
   "outputs": [
    {
     "name": "stdout",
     "output_type": "stream",
     "text": [
      "<tf.Variable 'Variable:0' shape=(4,) dtype=float32_ref>\n",
      "Tensor(\"Softmax:0\", shape=(4,), dtype=float32)\n"
     ]
    }
   ],
   "source": [
    "# 재실행시 리셋 시켜줌\n",
    "tf.reset_default_graph()\n",
    "\n",
    "# 네트워크의 피드, 포워드\n",
    "weights = tf.Variable(tf.ones([num_arms]))\n",
    "output = tf.nn.softmax(weights)\n",
    "\n",
    "# 내가 이해안가서 찍어보기\n",
    "print(weights)\n",
    "print(output)\n",
    "\n",
    "'''\n",
    "<tf.Variable 'Variable:0' shape=(4,) dtype=float32_ref>\n",
    "Tensor(\"Softmax:0\", shape=(4,), dtype=float32)\n",
    "'''"
   ]
  },
  {
   "cell_type": "code",
   "execution_count": 10,
   "metadata": {},
   "outputs": [],
   "source": [
    "reward_holder = tf.placeholder(shape=[1], dtype=tf.float32)\n",
    "action_holder = tf.placeholder(shape=[1], dtype=tf.int32)\n",
    "tf.slice\n",
    "responsible_output = tf.slice(output, action_holder, [1])\n",
    "\n",
    "'''\n",
    "tf.slice(input_, begin, size, name=None)\n",
    "'''"
   ]
  },
  {
   "cell_type": "code",
   "execution_count": 11,
   "metadata": {},
   "outputs": [],
   "source": [
    "loss = -(tf.log(responsible_output) * reward_holder)\n",
    "optimizer = tf.train.AdamOptimizer(learning_rate=ning_rate = 1e-3)\n",
    "update = optimizer.minimize(loss)"
   ]
  },
  {
   "cell_type": "markdown",
   "metadata": {},
   "source": [
    "### 에이전트 학습\n",
    "\n",
    "이제 환경내에서 액션을 취해서 에이전ㅌ를 학습하고, 보상을 받게 된다.\n",
    "\n",
    "보상과 액션을 이용해서, 시간의 경과에 따라 최고의 보상을 받게 될 액션을 보다 \"자주\" 선택하기 위해, 네트워크를 어떻게 업데이트를 시켜야 하는지 살펴보는 과정."
   ]
  },
  {
   "cell_type": "code",
   "execution_count": 15,
   "metadata": {},
   "outputs": [
    {
     "name": "stdout",
     "output_type": "stream",
     "text": [
      "Running reward for the 4 arms of the bandit: [-1.  0.  0.  0.]\n",
      "Running reward for the 4 arms of the bandit: [-3.  7.  1. 10.]\n",
      "Running reward for the 4 arms of the bandit: [-14.  11.   5.  19.]\n",
      "Running reward for the 4 arms of the bandit: [-19.  10.   9.  31.]\n",
      "Running reward for the 4 arms of the bandit: [-21.  18.  10.  42.]\n",
      "Running reward for the 4 arms of the bandit: [-15.  21.  15.  56.]\n",
      "Running reward for the 4 arms of the bandit: [-15.  23.  16.  77.]\n",
      "Running reward for the 4 arms of the bandit: [-10.  24.  23.  88.]\n",
      "Running reward for the 4 arms of the bandit: [-14.  26.  24. 103.]\n",
      "Running reward for the 4 arms of the bandit: [-14.  26.  26. 121.]\n",
      "Running reward for the 4 arms of the bandit: [-17.  26.  31. 143.]\n",
      "Running reward for the 4 arms of the bandit: [-14.  27.  32. 154.]\n",
      "Running reward for the 4 arms of the bandit: [-17.  26.  34. 168.]\n",
      "Running reward for the 4 arms of the bandit: [-20.  25.  34. 192.]\n",
      "Running reward for the 4 arms of the bandit: [-23.  32.  37. 213.]\n",
      "Running reward for the 4 arms of the bandit: [-24.  26.  37. 230.]\n",
      "Running reward for the 4 arms of the bandit: [-23.  28.  39. 255.]\n",
      "Running reward for the 4 arms of the bandit: [-27.  28.  40. 272.]\n",
      "Running reward for the 4 arms of the bandit: [-27.  31.  39. 296.]\n",
      "Running reward for the 4 arms of the bandit: [-25.  32.  48. 310.]\n",
      "\n",
      "The agent thinks arm 4 is the most promising....\n"
     ]
    }
   ],
   "source": [
    "# agent 학습시킬 전체 에피소드 횟수 설정\n",
    "total_episodes = 1000\n",
    "# 밴딧의 손잡이에 대한 보상을 0으로 설정\n",
    "total_reward = np.zeros(num_arms)\n",
    "\n",
    "init = tf.global_variables_initializer()\n",
    "\n",
    "# 텐서플로우 그래프 론칭\n",
    "with tf.Session() as sess :\n",
    "    sess.run(init)\n",
    "    i = 0\n",
    "    while i < total_episodes :\n",
    "        \n",
    "        # 볼츠만 분포에 따라 액션을 선택한다.\n",
    "        actions = sess.run(output)\n",
    "        a = np.random.choice(actions, p=actions)\n",
    "        action = np.argmax(actions == a)\n",
    "        \n",
    "        reward = pullBandit(bandit_arms[action])\n",
    "        \n",
    "        # 네트워크에 업데이트\n",
    "        _, resp, ww = sess.run([update, responsible_output, weights],\n",
    "                              feed_dict = {reward_holder : [reward],\n",
    "                                          action_holder : [action]})\n",
    "        # 보상 증가 업데이트\n",
    "        total_reward[action] += reward\n",
    "        \n",
    "        if i % 50 == 0:\n",
    "            print(\"Running reward for the \" + str(num_arms) + \" arms of the bandit: \" + str(total_reward))\n",
    "        i+=1\n",
    "print(\"\\nThe agent thinks arm \" + str(np.argmax(ww) + 1) + \" is the most promising....\")\n",
    "\n",
    " "
   ]
  },
  {
   "cell_type": "code",
   "execution_count": 16,
   "metadata": {},
   "outputs": [
    {
     "name": "stdout",
     "output_type": "stream",
     "text": [
      "...and it was right!\n"
     ]
    }
   ],
   "source": [
    "if np.argmax(ww) == np.argmax(-np.array(bandit_arms)):\n",
    "    print(\"...and it was right!\")\n",
    "else:\n",
    "    print(\"...and it was wrong!\")"
   ]
  },
  {
   "cell_type": "markdown",
   "metadata": {},
   "source": [
    "### 추가 학습부분"
   ]
  },
  {
   "cell_type": "code",
   "execution_count": 19,
   "metadata": {},
   "outputs": [
    {
     "name": "stdout",
     "output_type": "stream",
     "text": [
      "Running reward for the 4 arms of the bandit: [1. 0. 0. 0.]\n",
      "\n",
      "The agent thinks arm 1 is the most promising....\n",
      "Running reward for the 4 arms of the bandit: [-5. -2. -1.  9.]\n",
      "\n",
      "The agent thinks arm 4 is the most promising....\n",
      "Running reward for the 4 arms of the bandit: [-2.  3.  2. 28.]\n",
      "\n",
      "The agent thinks arm 4 is the most promising....\n",
      "Running reward for the 4 arms of the bandit: [-2. -1.  8. 40.]\n",
      "\n",
      "The agent thinks arm 4 is the most promising....\n",
      "Running reward for the 4 arms of the bandit: [-3.  0. -1. 49.]\n",
      "\n",
      "The agent thinks arm 4 is the most promising....\n",
      "Running reward for the 4 arms of the bandit: [-3.  1.  7. 64.]\n",
      "\n",
      "The agent thinks arm 4 is the most promising....\n",
      "Running reward for the 4 arms of the bandit: [-4. -1.  8. 72.]\n",
      "\n",
      "The agent thinks arm 4 is the most promising....\n",
      "Running reward for the 4 arms of the bandit: [-9.  1. 11. 86.]\n",
      "\n",
      "The agent thinks arm 4 is the most promising....\n",
      "Running reward for the 4 arms of the bandit: [-16.  -5.  13.  93.]\n",
      "\n",
      "The agent thinks arm 4 is the most promising....\n",
      "Running reward for the 4 arms of the bandit: [-19.   0.  18. 110.]\n",
      "\n",
      "The agent thinks arm 4 is the most promising....\n",
      "Running reward for the 4 arms of the bandit: [-21.   3.  24. 125.]\n",
      "\n",
      "The agent thinks arm 4 is the most promising....\n",
      "Running reward for the 4 arms of the bandit: [-22.   6.  24. 137.]\n",
      "\n",
      "The agent thinks arm 4 is the most promising....\n",
      "Running reward for the 4 arms of the bandit: [-20.   4.  27. 146.]\n",
      "\n",
      "The agent thinks arm 4 is the most promising....\n",
      "Running reward for the 4 arms of the bandit: [-23.   2.  22. 164.]\n",
      "\n",
      "The agent thinks arm 4 is the most promising....\n",
      "Running reward for the 4 arms of the bandit: [-21.  -1.  23. 178.]\n",
      "\n",
      "The agent thinks arm 4 is the most promising....\n",
      "Running reward for the 4 arms of the bandit: [-22.  -5.  27. 193.]\n",
      "\n",
      "The agent thinks arm 4 is the most promising....\n",
      "Running reward for the 4 arms of the bandit: [-24.  -5.  29. 211.]\n",
      "\n",
      "The agent thinks arm 4 is the most promising....\n",
      "Running reward for the 4 arms of the bandit: [-29.  -9.  29. 228.]\n",
      "\n",
      "The agent thinks arm 4 is the most promising....\n",
      "Running reward for the 4 arms of the bandit: [-38.  -9.  31. 249.]\n",
      "\n",
      "The agent thinks arm 4 is the most promising....\n",
      "Running reward for the 4 arms of the bandit: [-35. -10.  33. 269.]\n",
      "\n",
      "The agent thinks arm 4 is the most promising....\n"
     ]
    }
   ],
   "source": [
    "# agent 학습시킬 전체 에피소드 횟수 설정\n",
    "total_episodes = 1000\n",
    "# 밴딧의 손잡이에 대한 보상을 0으로 설정\n",
    "total_reward = np.zeros(num_arms)\n",
    "\n",
    "init = tf.global_variables_initializer()\n",
    "\n",
    "# 텐서플로우 그래프 론칭\n",
    "with tf.Session() as sess :\n",
    "    sess.run(init)\n",
    "    i = 0\n",
    "    while i < total_episodes :\n",
    "        \n",
    "        # 볼츠만 분포에 따라 액션을 선택한다.\n",
    "        actions = sess.run(output)\n",
    "        a = np.random.choice(actions, p=actions)\n",
    "        action = np.argmax(actions == a)\n",
    "        \n",
    "        reward = pullBandit(bandit_arms[action])\n",
    "        \n",
    "        # 네트워크에 업데이트\n",
    "        _, resp, ww = sess.run([update, responsible_output, weights],\n",
    "                              feed_dict = {reward_holder : [reward],\n",
    "                                          action_holder : [action]})\n",
    "        # 보상 증가 업데이트\n",
    "        total_reward[action] += reward\n",
    "        \n",
    "        if i % 50 == 0:\n",
    "            print(\"Running reward for the \" + str(num_arms) + \" arms of the bandit: \" + str(total_reward))\n",
    "            # 각 회차마다 뭐가 최선인지를 보고싶어서 print 문을 여기에 넣어봄\n",
    "            print(\"\\nThe agent thinks arm \" + str(np.argmax(ww) + 1) + \" is the most promising....\")\n",
    "        i+=1"
   ]
  },
  {
   "cell_type": "markdown",
   "metadata": {},
   "source": [
    "## MCPE"
   ]
  },
  {
   "cell_type": "code",
   "execution_count": 2,
   "metadata": {},
   "outputs": [
    {
     "name": "stdout",
     "output_type": "stream",
     "text": [
      "Populating the interactive namespace from numpy and matplotlib\n"
     ]
    },
    {
     "name": "stderr",
     "output_type": "stream",
     "text": [
      "C:\\ProgramData\\Anaconda3\\envs\\ywkeras\\lib\\site-packages\\IPython\\core\\magics\\pylab.py:160: UserWarning: pylab import has clobbered these variables: ['gamma']\n",
      "`%matplotlib` prevents importing * from pylab and numpy\n",
      "  \"\\n`%matplotlib` prevents importing * from pylab and numpy\"\n"
     ]
    }
   ],
   "source": [
    "import numpy as np\n",
    "from tqdm import tqdm\n",
    "import matplotlib.pyplot as plt\n",
    "import seaborn as sns\n",
    "sns.set_style(\"darkgrid\")\n",
    "%pylab inline\n",
    "import random"
   ]
  },
  {
   "cell_type": "code",
   "execution_count": 24,
   "metadata": {},
   "outputs": [],
   "source": [
    "gamma = 0.6 # discounting rate\n",
    "# 리워드가 -1 : 목적지까지 최단기간으로 가라\n",
    "rewardSize = -1\n",
    "gridSize = 4\n",
    "# [0,0], [3,3]\n",
    "terminationStates = [[0,0], [gridSize-1, gridSize-1]]\n",
    "# 위로 가면 행의 값이 줄어들고, 오른쪽으로 가면 열의 값이 줄어든다.\n",
    "actions = [[-1, 0], [1, 0], [0, 1], [0, -1]]  # up, down, left, right\n",
    "numIterations = 10000\n",
    "\n",
    "# initialization\n",
    "V = np.zeros((gridSize, gridSize))\n",
    "returns = {(i, j):list() for i in range(gridSize) for j in range(gridSize)} #dictionary with keys and values \n",
    "deltas = {(i, j):list() for i in range(gridSize) for j in range(gridSize)}  #dictionary with keys and values \n",
    "states = [[i, j] for i in range(gridSize) for j in range(gridSize)]"
   ]
  },
  {
   "cell_type": "code",
   "execution_count": 25,
   "metadata": {},
   "outputs": [],
   "source": [
    "# 시간이 없으니 읽어보라하심 ㅎㅎ\n",
    "# utils\n",
    "def generateEpisode():\n",
    "    initState = random.choice(states[1:-1])\n",
    "    episode = []\n",
    "    while True:\n",
    "        if list(initState) in terminationStates:\n",
    "            return episode\n",
    "        action = random.choice(actions)\n",
    "        finalState = np.array(initState)+np.array(action)\n",
    "        if -1 in list(finalState) or gridSize in list(finalState):\n",
    "            finalState = initState\n",
    "        episode.append([list(initState), action, rewardSize, list(finalState)])\n",
    "        initState = finalState"
   ]
  },
  {
   "cell_type": "code",
   "execution_count": 26,
   "metadata": {},
   "outputs": [
    {
     "name": "stderr",
     "output_type": "stream",
     "text": [
      "100%|████████████████████████████████████| 10000/10000 [00:32<00:00, 305.22it/s]\n"
     ]
    }
   ],
   "source": [
    "for it in tqdm(range(numIterations)):  # tqdm : 상태바 출력\n",
    "    episode = generateEpisode()\n",
    "    G = 0s\n",
    "    # episode 안에 있는 값들을 거꾸로 해석하고 index를 붙임\n",
    "    '''\n",
    "    뒤집는 이유:\n",
    "    벨만 방정식에서 보면, 현재시점 t 에서 t+1, t+2의 R값을 계속 더해나가는데\n",
    "    이 계산을 쉽게 해나가려면 과거시점부터 순차적으로 올라오는게 아니라,\n",
    "    역순으로 거꾸로 계산을 해야 t+2 나 현시점에서 먼 시점의 값을 계산하기가 용이함.\n",
    "    '''\n",
    "    for i, step in enumerate(episode[::-1]):\n",
    "        # 지금 시점보다 두 step 뒤의 값을 기준점으로 계산\n",
    "        G = gamma*G + step[2]\n",
    "        if step[0] not in [x[0] for x in episode[::-1][len(episode)-i:]]:\n",
    "            idx = (step[0][0], step[0][1])\n",
    "            returns[idx].append(G)\n",
    "            newValue = np.average(returns[idx])\n",
    "            deltas[idx[0], idx[1]].append(np.abs(V[idx[0], idx[1]]-newValue))\n",
    "            V[idx[0], idx[1]] = newValue"
   ]
  },
  {
   "cell_type": "code",
   "execution_count": 27,
   "metadata": {},
   "outputs": [
    {
     "name": "stdout",
     "output_type": "stream",
     "text": [
      "Value Table\n",
      " [[ 0.         -1.6140536  -2.2106803  -2.38099831]\n",
      " [-1.62625404 -2.10256418 -2.27651737 -2.21204538]\n",
      " [-2.22209602 -2.28072405 -2.09728261 -1.62047082]\n",
      " [-2.38475144 -2.22775279 -1.6388167   0.        ]]\n"
     ]
    }
   ],
   "source": [
    "print(\"Value Table\\n\", V)"
   ]
  },
  {
   "cell_type": "code",
   "execution_count": 28,
   "metadata": {},
   "outputs": [
    {
     "data": {
      "image/png": "[encoded data removed]",
      "text/plain": [
       "<Figure size 1440x720 with 1 Axes>"
      ]
     },
     "metadata": {
      "needs_background": "light"
     },
     "output_type": "display_data"
    }
   ],
   "source": [
    "# using gamma = 1\n",
    "plt.figure(figsize=(20,10))\n",
    "all_series = [list(x)[:50] for x in deltas.values()]\n",
    "for series in all_series:\n",
    "    plt.plot(series)"
   ]
  }
 ],
 "metadata": {
  "kernelspec": {
   "display_name": "keras2",
   "language": "python",
   "name": "ywkeras"
  },
  "language_info": {
   "codemirror_mode": {
    "name": "ipython",
    "version": 3
   },
   "file_extension": ".py",
   "mimetype": "text/x-python",
   "name": "python",
   "nbconvert_exporter": "python",
   "pygments_lexer": "ipython3",
   "version": "3.7.3"
  }
 },
 "nbformat": 4,
 "nbformat_minor": 4
}
