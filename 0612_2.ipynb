{
 "cells": [
  {
   "cell_type": "markdown",
   "metadata": {},
   "source": [
    "### 함수\n",
    "\n",
    "반복되는 코드를 모아서 이름을 붙여놓은 것\n",
    "* 함수 : 외부에 별도로 존재\n",
    "* 메소드 ; 클래스 내에 존재\n",
    "\n",
    "* 내장함수\n",
    "* 모듈함수 : 비슷한 함수끼리 모아둠\n",
    "* 사용자 정의함수\n",
    "\n",
    "def 함수이름(인자) : \n",
    "    수행문장\n",
    "        return 값"
   ]
  },
  {
   "cell_type": "code",
   "execution_count": null,
   "metadata": {},
   "outputs": [],
   "source": [
    "def func1() :\n",
    "    print(\"func1\")\n",
    "\n",
    "def func2(x) :\n",
    "    print(\"func2 에서 전달받은 인수 : {0}\".format(x))\n",
    "\n",
    "def func3(name=\"Python\") :\n",
    "    print(\"func3 에서 받은 name : {0}\".format(name))\n",
    "\n",
    "func2(999)\n",
    "func3()"
   ]
  },
  {
   "cell_type": "markdown",
   "metadata": {},
   "source": [
    "##### 인수\n",
    "\n",
    "* 기본값이 있는 인수\n",
    "    * def 함수이름 (인수1=기본값, 인수2=기본값...) :\n",
    "    \n",
    "* 매개변수\n",
    "    * def 함수이름 (*args) :\n",
    "        * 임의의 여러 개의 인수를 삽입\n",
    "        * *args 는 튜플로 묶어서 처리함\n",
    "        \n",
    "* 가변개수 키워드 인수\n",
    "    * def 함수이름 (**kwargs) :\n",
    "        * 임의의 여러 개의 인수를 키워드 형식으로 삽입\n",
    "        * dictionary 형으로 묶어서 처리함"
   ]
  },
  {
   "cell_type": "code",
   "execution_count": null,
   "metadata": {},
   "outputs": [],
   "source": [
    "def print_char(ch=\"*\", a=2, b=5) :\n",
    "    for i in range(a) :\n",
    "        print(ch*b)\n",
    "    \n",
    "print_char()\n",
    "print_char(\"#\",3,10)\n",
    "print_char(ch=\"^\",b=15)"
   ]
  },
  {
   "cell_type": "code",
   "execution_count": null,
   "metadata": {},
   "outputs": [],
   "source": [
    "# 사칙연산 함수\n",
    "\n",
    "def calc(a=2, b=5, op=\"+\") :\n",
    "    if (op==\"+\") :\n",
    "        c=a+b\n",
    "        print(\"a+b={0}\".format(c))\n",
    "    elif (op==\"-\") :\n",
    "        c=a-b\n",
    "        print(\"a-b={0}\".format(c))\n",
    "    elif (op==\"*\") :\n",
    "        c=a*b\n",
    "        print(\"a*b={0}\".format(c))\n",
    "    elif (op==\"/\") :\n",
    "        c=a/b\n",
    "        print(\"a/b={0}\".format(c))\n",
    "    else :\n",
    "        print(\"다시 입력해주세요\")\n",
    "    return c\n",
    "\n",
    "calc(2,6,\"/\")"
   ]
  },
  {
   "cell_type": "code",
   "execution_count": null,
   "metadata": {},
   "outputs": [],
   "source": [
    "def func1(*args) :\n",
    "    v=args\n",
    "    print(\"입력한 자료들 : {0}, 자료들의 합계 : {1}\".format(v,sum(v)))\n",
    "    \n",
    "print(func1(1,2,3,4,5))\n",
    "\n",
    "# 팩토리얼 함수\n",
    "def f(n) :\n",
    "    re=1\n",
    "    for x in range(1,n+1) :\n",
    "        re*=x\n",
    "    return re\n",
    "\n",
    "print(f(4))\n",
    "\n",
    "# 함수의 중첩 사용가능\n",
    "def g(n,x) :\n",
    "    nf=f(n)\n",
    "    xf=f(x)\n",
    "    nxf=f(n-x)\n",
    "    return nf/(xf*nxf)\n",
    "\n",
    "print(g(5,2))"
   ]
  },
  {
   "cell_type": "markdown",
   "metadata": {},
   "source": [
    "##### 지역변수, 전역변수\n",
    "* 지역변수 : 한정된 지역에서만 사용\n",
    "* 전역변수 : 프로그램 전체에서 사용"
   ]
  },
  {
   "cell_type": "code",
   "execution_count": null,
   "metadata": {},
   "outputs": [],
   "source": [
    "a=15\n",
    "def func1() :\n",
    "    a=10\n",
    "    print(\"local var : {0}\".format(a))\n",
    "\n",
    "func1()\n",
    "print(\"global var : {0}\".format(a))"
   ]
  },
  {
   "cell_type": "code",
   "execution_count": null,
   "metadata": {},
   "outputs": [],
   "source": [
    "a=100\n",
    "def func2() :\n",
    "    global a\n",
    "    a=5000\n",
    "    b=5\n",
    "    print(\"local var : {0}\".format(a))\n",
    "\n",
    "func1()\n",
    "print(\"global var : {0}\".format(a))"
   ]
  },
  {
   "cell_type": "markdown",
   "metadata": {},
   "source": [
    "##### 람다함수\n",
    "\n",
    "* 특별한 형태의 함수: 이름없는 함수\n",
    "* 함수의 인수로 함수를 넣어야 하는 경우에 사용\n",
    "\n",
    "lambda<인수들> : <반환할 식>\n",
    "\n",
    "함수이름=lambda<인수들> : <반환할 식>\n",
    "\n",
    "    * 간단하게 수식값을 돌려줘야 하는 경우 요긴하게 쓰임"
   ]
  },
  {
   "cell_type": "markdown",
   "metadata": {},
   "source": [
    "##### 유용한 내장 함수\n",
    "\n",
    "* iter(x) : 자료 x가 iterable 객체인지 판단 (TypeError 뜨면 iterable 아님)\n",
    "* enumerate(x,y) : 자료 x,y에 k부터 숫자를 매겨서 반환\n",
    "* map(fun,x) : 자료 x에 fun 함수 적용\n",
    "* filter(fun,x) : 자료 x에 fun 함수 적용해서 결과가 True 인 값들 반환\n",
    "* zip(x,y) : index 가 같은 x,y 를 묶어서 zip 객체로 반환"
   ]
  },
  {
   "cell_type": "code",
   "execution_count": null,
   "metadata": {},
   "outputs": [],
   "source": [
    "# 똑같은 원소들의 합을 구하는 함수를 작성할 때도\n",
    "# 일반적으로 코드를 치는 것 보다 lambda 를 이용하는게 간단해진다.\n",
    "\n",
    "# 일반적으로 코드 작성할 때\n",
    "X=[[2,4,3,6,4,6], [4,5,2,6], [5,3,4,5,2,3]]\n",
    "n=len(X)\n",
    "result=[]\n",
    "for i in range(n) :\n",
    "    result.append(sum(X[i]))\n",
    "result\n",
    "\n",
    "# map 함수 적용\n",
    "X=[[2,4,3,6,4,6], [4,5,2,6], [5,3,4,5,2,3]]\n",
    "print(map(sum,X)) # 이 경우 list 객체가 아니라 map 객체로 출력됨. 고로 list 로 한번 더 바꿔준다.\n",
    "print(list(map(sum,X)))\n"
   ]
  },
  {
   "cell_type": "markdown",
   "metadata": {},
   "source": [
    "##### docstring\n",
    "\n",
    "* 함수 선언문과 본체 사이에 작성하는 문자열\n",
    "* 함수의 사용법, 인수의 의미, 주의사항 등... 그런거 작성하는거..\n",
    "* 실행에는 영향 없음\n",
    "\n",
    "* 파이썬 내의 여러줄 주석 같은거임\n",
    "    * 원래 파이썬에는 /* */ 처럼 여러줄 주석처리가 공식적으로 없기는 한데, docstring 방식으로 쓰기도 한다."
   ]
  },
  {
   "cell_type": "code",
   "execution_count": null,
   "metadata": {},
   "outputs": [],
   "source": [
    "# 일반적으로 코드 작성할 때\n",
    "'''\n",
    "X=[[2,4,3,6,4,6], [4,5,2,6], [5,3,4,5,2,3]]\n",
    "n=len(X)\n",
    "result=[]\n",
    "for i in range(n) :\n",
    "    result.append(sum(X[i]))\n",
    "result\n",
    "'''\n",
    "\n",
    "# map 함수 적용\n",
    "X=[[2,4,3,6,4,6], [4,5,2,6], [5,3,4,5,2,3]]\n",
    "print(map(sum,X)) # 이 경우 list 객체가 아니라 map 객체로 출력됨. 고로 list 로 한번 더 바꿔준다.\n",
    "print(list(map(sum,X)))"
   ]
  },
  {
   "cell_type": "markdown",
   "metadata": {},
   "source": [
    "### 모듈\n",
    "\n",
    "* 서로 관련있는 프로그램 코드들을 묶어놓은 파일\n",
    "* 함수, 클래스, 데이터 전부 들어갈 수 있음\n",
    "\n",
    "##### 모듈의 종류\n",
    "\n",
    "* 표준 모듈 : 내장 모듈\n",
    "* 사용자 정의 모듈\n",
    "* Third-Party Module : 제 3자가 만들어서 제공하는 모듈\n",
    "\n",
    "> import 모듈이름\n",
    "\n",
    "> from 모듈이름 import 함수 또는 클래스 : 일부만 가져오고 싶을 때\n",
    "\n",
    "> import 모듈이름 as 별명\n",
    "\n",
    "> 모듈별명.함수이름 : 모듈 내 함수사용"
   ]
  },
  {
   "cell_type": "code",
   "execution_count": null,
   "metadata": {},
   "outputs": [],
   "source": [
    "import math\n",
    "print(math.sqrt(4))\n",
    "print(math.exp(4))\n",
    "print(math.factorial(4))\n",
    "\n",
    "from math import e, pi, factorial\n",
    "print(math.e, math.pi)\n",
    "\n",
    "import math as mm\n",
    "print(mm.e)"
   ]
  },
  {
   "cell_type": "markdown",
   "metadata": {},
   "source": [
    "##### 모듈 만들기\n",
    "\n",
    "* jupyter notebook 의 경우는 기본 저장 확장자명이 ipynb 임\n",
    "* 모듈화해서 사용하려면 py 확장자로 저장 해줘야함\n",
    "* 파일 저장 디렉토리는 파이썬이 설치된 폴더에 저장해야한다\n",
    "    * 근데 아마도 요즘 파이썬에서는 C 내부에만 있으면 어디 저장해도 불러올 수 있을거임"
   ]
  },
  {
   "cell_type": "code",
   "execution_count": 6,
   "metadata": {},
   "outputs": [],
   "source": [
    "# 모듈을 만들어보자\n",
    "\n",
    "'''\n",
    "    원주율, 원둘레 구하는 모듈\n",
    "    해당 파일만 따로 빼서 module_cic.py 파일로 저장해놨음\n",
    "    지금 이 노트북의 경우는 저장 디렉토리 : C:\\ProgramData\\Anaconda3\\envs\\내 가상환경이름\n",
    "    \n",
    "'''\n",
    "\n",
    "pi=3.14\n",
    "\n",
    "def cic_area(r) :\n",
    "    a.result=pi*r**2\n",
    "    return result\n",
    "\n",
    "def circumference(r) :\n",
    "    c.result=pi*2*r\n",
    "    return result"
   ]
  },
  {
   "cell_type": "code",
   "execution_count": 5,
   "metadata": {
    "scrolled": true
   },
   "outputs": [
    {
     "data": {
      "text/plain": [
       "12.56"
      ]
     },
     "execution_count": 5,
     "metadata": {},
     "output_type": "execute_result"
    }
   ],
   "source": [
    "import module_cic as mc\n",
    "\n",
    "mc.pi\n",
    "mc.cic_area(2)"
   ]
  },
  {
   "cell_type": "code",
   "execution_count": 22,
   "metadata": {},
   "outputs": [
    {
     "name": "stdout",
     "output_type": "stream",
     "text": [
      "35\t35\t14\t5\t39\t46\t[41, 12, 5, 24, 53, 17]\n",
      "[15, 34, 53, 45, 40, 48, 54, 3, 19, 21, 28, 26, 16, 13, 22, 23, 41, 4, 32, 20, 46, 10, 36, 38, 52, 43, 50, 47, 6, 49, 9, 37, 12, 33, 30, 35, 39, 29, 5, 42, 51, 7, 24, 25, 2, 11, 27, 31, 8, 14, 1, 44, 17, 18]\n"
     ]
    }
   ],
   "source": [
    "# random 모듈-choice, sample, shuffle\n",
    "\n",
    "import random\n",
    "x=list(range(1,55))\n",
    "\n",
    "for i in range(6) :\n",
    "    print(random.choice(x), end=\"\\t\")\n",
    "    \n",
    "print(random.sample(x,6))\n",
    "\n",
    "random.shuffle(x)\n",
    "print(x)"
   ]
  },
  {
   "cell_type": "markdown",
   "metadata": {},
   "source": [
    "##### 표준모듈 : itertools 모듈\n",
    "\n",
    "iterable 객체의 어떤 반복적인 일을 처리하는데 도움 주는 것들로 구성\n",
    "\n",
    "* chain() : 인수로 지정한 리스트들 연결\n",
    "* count(x,by): 인수 x로 넣은 정수로부터 증분 by인 수열을 무수히 생성\n",
    "* dropwhile(f,x) : 함수 f의 결과가 처음 False 인 자료부터 반환\n",
    "* takewhile(f,x) : 함수 f의 결과가 처음 True인 자료부터 반환\n",
    "* groupby(x,f) : 함수 f의 결과를 x의 값을 key 값으로 그룹화하여 반환"
   ]
  },
  {
   "cell_type": "code",
   "execution_count": 38,
   "metadata": {},
   "outputs": [
    {
     "name": "stdout",
     "output_type": "stream",
     "text": [
      "50 150 250 350 450 550 650 750 850 950 \n",
      "\n",
      "7 8 \n",
      "\n",
      "3 5 6 1 \n",
      "\n",
      "v : 3\tk : [3]\n",
      "v : 5\tk : [5]\n",
      "v : 6\tk : [6]\n",
      "v : 1\tk : [1]\n",
      "v : 7\tk : [7]\n",
      "v : 8\tk : [8]\n",
      "\n",
      "\n",
      "범주 : 남자\t빈도 : 3\n",
      "범주 : 여자\t빈도 : 3\n"
     ]
    }
   ],
   "source": [
    "import itertools\n",
    "\n",
    "# count\n",
    "for x in itertools.count(50, 100) :\n",
    "    if x>1000 :\n",
    "        break\n",
    "    print(x, end=' ')\n",
    "print(\"\\n\")\n",
    "\n",
    "# dropwhile\n",
    "ls =  [3,5,6,1,7,8]\n",
    "for x in itertools.dropwhile(lambda x:x<7, ls) :\n",
    "    print(x, end=\" \")\n",
    "print(\"\\n\")\n",
    "\n",
    "# takewhile\n",
    "ls =  [3,5,6,1,7,8]\n",
    "for x in itertools.takewhile(lambda x:x<7, ls) :\n",
    "    print(x, end=\" \")\n",
    "print(\"\\n\")\n",
    "\n",
    "# groupby\n",
    "y=itertools.groupby(ls)\n",
    "for v,k in y :\n",
    "    print(\"v : {0}\\tk : {1}\".format(v, list(k)))\n",
    "print(\"\\n\")\n",
    "    \n",
    "ls=[\"남자\", \"여자\", \"남자\", \"여자\", \"남자\", \"여자\"]\n",
    "x=itertools.groupby(sorted(ls)) # groupby 객체로 나오기 때문에 list 화를 한번 진행 해줘야한다.\n",
    "for v,k in x :\n",
    "    print(\"범주 : {0}\\t빈도 : {1}\".format(v,len(list(k))))"
   ]
  },
  {
   "cell_type": "markdown",
   "metadata": {},
   "source": [
    "##### 표준모듈 : keyword\n",
    "\n",
    "해당 변수가 keyword 인지 알려주는 모듈\n",
    "\n",
    "kwlist 쓰면 내부 메소드 볼 수 있음\n",
    "\n",
    "iskeyword() 정도 사용\n",
    "\n",
    "##### 표준모듈 : sys\n",
    "\n",
    "파이썬 인터프리터 정보 알려주는 모듈\n",
    "\n",
    "##### 표준모듈 : copy\n",
    "\n",
    "copy.copy() 와 같이 사용 가능"
   ]
  },
  {
   "cell_type": "markdown",
   "metadata": {},
   "source": [
    "##### 표준모듈 : time, calendar\n",
    "\n",
    "현재 시간과 달력을 불러올 수 있음"
   ]
  },
  {
   "cell_type": "code",
   "execution_count": 43,
   "metadata": {},
   "outputs": [
    {
     "name": "stdout",
     "output_type": "stream",
     "text": [
      "                                  2019\n",
      "\n",
      "      January                   February                   March\n",
      "Mo Tu We Th Fr Sa Su      Mo Tu We Th Fr Sa Su      Mo Tu We Th Fr Sa Su\n",
      "    1  2  3  4  5  6                   1  2  3                   1  2  3\n",
      " 7  8  9 10 11 12 13       4  5  6  7  8  9 10       4  5  6  7  8  9 10\n",
      "14 15 16 17 18 19 20      11 12 13 14 15 16 17      11 12 13 14 15 16 17\n",
      "21 22 23 24 25 26 27      18 19 20 21 22 23 24      18 19 20 21 22 23 24\n",
      "28 29 30 31               25 26 27 28               25 26 27 28 29 30 31\n",
      "\n",
      "       April                      May                       June\n",
      "Mo Tu We Th Fr Sa Su      Mo Tu We Th Fr Sa Su      Mo Tu We Th Fr Sa Su\n",
      " 1  2  3  4  5  6  7             1  2  3  4  5                      1  2\n",
      " 8  9 10 11 12 13 14       6  7  8  9 10 11 12       3  4  5  6  7  8  9\n",
      "15 16 17 18 19 20 21      13 14 15 16 17 18 19      10 11 12 13 14 15 16\n",
      "22 23 24 25 26 27 28      20 21 22 23 24 25 26      17 18 19 20 21 22 23\n",
      "29 30                     27 28 29 30 31            24 25 26 27 28 29 30\n",
      "\n",
      "        July                     August                  September\n",
      "Mo Tu We Th Fr Sa Su      Mo Tu We Th Fr Sa Su      Mo Tu We Th Fr Sa Su\n",
      " 1  2  3  4  5  6  7                1  2  3  4                         1\n",
      " 8  9 10 11 12 13 14       5  6  7  8  9 10 11       2  3  4  5  6  7  8\n",
      "15 16 17 18 19 20 21      12 13 14 15 16 17 18       9 10 11 12 13 14 15\n",
      "22 23 24 25 26 27 28      19 20 21 22 23 24 25      16 17 18 19 20 21 22\n",
      "29 30 31                  26 27 28 29 30 31         23 24 25 26 27 28 29\n",
      "                                                    30\n",
      "\n",
      "      October                   November                  December\n",
      "Mo Tu We Th Fr Sa Su      Mo Tu We Th Fr Sa Su      Mo Tu We Th Fr Sa Su\n",
      "    1  2  3  4  5  6                   1  2  3                         1\n",
      " 7  8  9 10 11 12 13       4  5  6  7  8  9 10       2  3  4  5  6  7  8\n",
      "14 15 16 17 18 19 20      11 12 13 14 15 16 17       9 10 11 12 13 14 15\n",
      "21 22 23 24 25 26 27      18 19 20 21 22 23 24      16 17 18 19 20 21 22\n",
      "28 29 30 31               25 26 27 28 29 30         23 24 25 26 27 28 29\n",
      "                                                    30 31\n",
      "\n"
     ]
    }
   ],
   "source": [
    "import calendar\n",
    "print(calendar.calendar(2019))"
   ]
  }
 ],
 "metadata": {
  "kernelspec": {
   "display_name": "ywkernel1",
   "language": "python",
   "name": "ywpython"
  },
  "language_info": {
   "codemirror_mode": {
    "name": "ipython",
    "version": 3
   },
   "file_extension": ".py",
   "mimetype": "text/x-python",
   "name": "python",
   "nbconvert_exporter": "python",
   "pygments_lexer": "ipython3",
   "version": "3.6.8"
  }
 },
 "nbformat": 4,
 "nbformat_minor": 2
}
